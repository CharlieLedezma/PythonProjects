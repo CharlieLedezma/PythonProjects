{
 "cells": [
  {
   "cell_type": "code",
   "execution_count": 1,
   "metadata": {
    "colab": {
     "base_uri": "https://localhost:8080/"
    },
    "id": "Xh_doHYIeKtp",
    "outputId": "57081691-45bf-4c0e-831d-c2b23001bd7a"
   },
   "outputs": [
    {
     "name": "stdout",
     "output_type": "stream",
     "text": [
      "Collecting control\n",
      "  Downloading control-0.9.0.tar.gz (339 kB)\n",
      "\u001b[?25l\r",
      "\u001b[K     |█                               | 10 kB 10.4 MB/s eta 0:00:01\r",
      "\u001b[K     |██                              | 20 kB 11.7 MB/s eta 0:00:01\r",
      "\u001b[K     |███                             | 30 kB 14.4 MB/s eta 0:00:01\r",
      "\u001b[K     |███▉                            | 40 kB 6.3 MB/s eta 0:00:01\r",
      "\u001b[K     |████▉                           | 51 kB 6.2 MB/s eta 0:00:01\r",
      "\u001b[K     |█████▉                          | 61 kB 5.5 MB/s eta 0:00:01\r",
      "\u001b[K     |██████▊                         | 71 kB 5.4 MB/s eta 0:00:01\r",
      "\u001b[K     |███████▊                        | 81 kB 5.6 MB/s eta 0:00:01\r",
      "\u001b[K     |████████▊                       | 92 kB 6.0 MB/s eta 0:00:01\r",
      "\u001b[K     |█████████▋                      | 102 kB 5.4 MB/s eta 0:00:01\r",
      "\u001b[K     |██████████▋                     | 112 kB 5.4 MB/s eta 0:00:01\r",
      "\u001b[K     |███████████▋                    | 122 kB 5.4 MB/s eta 0:00:01\r",
      "\u001b[K     |████████████▋                   | 133 kB 5.4 MB/s eta 0:00:01\r",
      "\u001b[K     |█████████████▌                  | 143 kB 5.4 MB/s eta 0:00:01\r",
      "\u001b[K     |██████████████▌                 | 153 kB 5.4 MB/s eta 0:00:01\r",
      "\u001b[K     |███████████████▌                | 163 kB 5.4 MB/s eta 0:00:01\r",
      "\u001b[K     |████████████████▍               | 174 kB 5.4 MB/s eta 0:00:01\r",
      "\u001b[K     |█████████████████▍              | 184 kB 5.4 MB/s eta 0:00:01\r",
      "\u001b[K     |██████████████████▍             | 194 kB 5.4 MB/s eta 0:00:01\r",
      "\u001b[K     |███████████████████▎            | 204 kB 5.4 MB/s eta 0:00:01\r",
      "\u001b[K     |████████████████████▎           | 215 kB 5.4 MB/s eta 0:00:01\r",
      "\u001b[K     |█████████████████████▎          | 225 kB 5.4 MB/s eta 0:00:01\r",
      "\u001b[K     |██████████████████████▎         | 235 kB 5.4 MB/s eta 0:00:01\r",
      "\u001b[K     |███████████████████████▏        | 245 kB 5.4 MB/s eta 0:00:01\r",
      "\u001b[K     |████████████████████████▏       | 256 kB 5.4 MB/s eta 0:00:01\r",
      "\u001b[K     |█████████████████████████▏      | 266 kB 5.4 MB/s eta 0:00:01\r",
      "\u001b[K     |██████████████████████████      | 276 kB 5.4 MB/s eta 0:00:01\r",
      "\u001b[K     |███████████████████████████     | 286 kB 5.4 MB/s eta 0:00:01\r",
      "\u001b[K     |████████████████████████████    | 296 kB 5.4 MB/s eta 0:00:01\r",
      "\u001b[K     |█████████████████████████████   | 307 kB 5.4 MB/s eta 0:00:01\r",
      "\u001b[K     |██████████████████████████████  | 317 kB 5.4 MB/s eta 0:00:01\r",
      "\u001b[K     |███████████████████████████████ | 327 kB 5.4 MB/s eta 0:00:01\r",
      "\u001b[K     |███████████████████████████████▉| 337 kB 5.4 MB/s eta 0:00:01\r",
      "\u001b[K     |████████████████████████████████| 339 kB 5.4 MB/s \n",
      "\u001b[?25hRequirement already satisfied: numpy in /usr/local/lib/python3.7/dist-packages (from control) (1.19.5)\n",
      "Requirement already satisfied: scipy in /usr/local/lib/python3.7/dist-packages (from control) (1.4.1)\n",
      "Requirement already satisfied: matplotlib in /usr/local/lib/python3.7/dist-packages (from control) (3.2.2)\n",
      "Requirement already satisfied: python-dateutil>=2.1 in /usr/local/lib/python3.7/dist-packages (from matplotlib->control) (2.8.2)\n",
      "Requirement already satisfied: cycler>=0.10 in /usr/local/lib/python3.7/dist-packages (from matplotlib->control) (0.10.0)\n",
      "Requirement already satisfied: kiwisolver>=1.0.1 in /usr/local/lib/python3.7/dist-packages (from matplotlib->control) (1.3.2)\n",
      "Requirement already satisfied: pyparsing!=2.0.4,!=2.1.2,!=2.1.6,>=2.0.1 in /usr/local/lib/python3.7/dist-packages (from matplotlib->control) (2.4.7)\n",
      "Requirement already satisfied: six in /usr/local/lib/python3.7/dist-packages (from cycler>=0.10->matplotlib->control) (1.15.0)\n",
      "Building wheels for collected packages: control\n",
      "  Building wheel for control (setup.py) ... \u001b[?25l\u001b[?25hdone\n",
      "  Created wheel for control: filename=control-0.9.0-py2.py3-none-any.whl size=344928 sha256=8ec42f1d936806f737ec508fa0d2db2e667c2cfe062a89c0b3a73b08b5f668a8\n",
      "  Stored in directory: /root/.cache/pip/wheels/5b/64/54/70faad181d7baff1184541ca00c9a2efa633acd0a811831d30\n",
      "Successfully built control\n",
      "Installing collected packages: control\n",
      "Successfully installed control-0.9.0\n"
     ]
    }
   ],
   "source": [
    "!pip install control"
   ]
  },
  {
   "cell_type": "code",
   "execution_count": 2,
   "metadata": {
    "id": "sWT5fVOreiBl"
   },
   "outputs": [],
   "source": [
    "import numpy as np\n",
    "import matplotlib.pyplot as plt\n",
    "import control as co"
   ]
  },
  {
   "cell_type": "code",
   "execution_count": 5,
   "metadata": {
    "colab": {
     "base_uri": "https://localhost:8080/"
    },
    "id": "xKw08xkkel0g",
    "outputId": "472b4402-3c7f-441f-8e03-88a5d041dc88"
   },
   "outputs": [
    {
     "name": "stdout",
     "output_type": "stream",
     "text": [
      "\n",
      "              3\n",
      "------------------------------\n",
      "8 s^4 + 12 s^3 + 26 s^2 + 18 s\n",
      "\n"
     ]
    }
   ],
   "source": [
    "#Questão 3.2\n",
    "G3 = co.tf([3],[8, 12, 26,18,0])\n",
    "print (G3)"
   ]
  },
  {
   "cell_type": "code",
   "execution_count": 13,
   "metadata": {
    "colab": {
     "base_uri": "https://localhost:8080/"
    },
    "id": "lFSSzvl123vx",
    "outputId": "a339781e-6961-41c8-f0ba-db95e3d27da4"
   },
   "outputs": [
    {
     "name": "stdout",
     "output_type": "stream",
     "text": [
      "\n",
      "                3\n",
      "----------------------------------\n",
      "8 s^4 + 12 s^3 + 26 s^2 + 18 s + 3\n",
      "\n"
     ]
    }
   ],
   "source": [
    "G0 = co.feedback(G3, 1)\n",
    "print (G0)"
   ]
  },
  {
   "cell_type": "code",
   "execution_count": 18,
   "metadata": {
    "colab": {
     "base_uri": "https://localhost:8080/",
     "height": 295
    },
    "id": "M-lkjG94e8v9",
    "outputId": "bb1f7c13-c1be-4637-a2a9-48cd5cf44e1b"
   },
   "outputs": [
    {
     "data": {
      "image/png": "[encoded data removed]",
      "text/plain": [
       "<Figure size 432x288 with 1 Axes>"
      ]
     },
     "metadata": {
      "needs_background": "light"
     },
     "output_type": "display_data"
    }
   ],
   "source": [
    "#Resposta em malha fechada\n",
    "t = np.linspace(0, 5, 1000)\n",
    "t, y = co.step_response(G0)\n",
    "plt.plot(t, y)\n",
    "plt.xlabel('time (s)')\n",
    "plt.ylabel('Amplitude')\n",
    "plt.title('Resposta ao degrau unitário')\n",
    "plt.grid()"
   ]
  },
  {
   "cell_type": "code",
   "execution_count": 19,
   "metadata": {
    "colab": {
     "base_uri": "https://localhost:8080/",
     "height": 295
    },
    "id": "H1C6RgvCguj0",
    "outputId": "a0be018d-7fd7-405e-e169-17293f1fd0e4"
   },
   "outputs": [
    {
     "data": {
      "image/png": "[encoded data removed]",
      "text/plain": [
       "<Figure size 432x288 with 1 Axes>"
      ]
     },
     "metadata": {
      "needs_background": "light"
     },
     "output_type": "display_data"
    }
   ],
   "source": [
    "#Resposta em malha fechada\n",
    "t = np.linspace(0, 5, 1000)\n",
    "t, y = co.impulse_response(G0)\n",
    "plt.plot(t, y)\n",
    "plt.xlabel('time (s)')\n",
    "plt.ylabel('Amplitude')\n",
    "plt.title('Resposta ao impulso')\n",
    "plt.grid()"
   ]
  },
  {
   "cell_type": "code",
   "execution_count": null,
   "metadata": {
    "id": "EbXcBBV9SQC_"
   },
   "outputs": [],
   "source": []
  }
 ],
 "metadata": {
  "colab": {
   "collapsed_sections": [],
   "name": "Questão 3.2.ipynb",
   "provenance": []
  },
  "kernelspec": {
   "display_name": "Python 3",
   "language": "python",
   "name": "python3"
  },
  "language_info": {
   "codemirror_mode": {
    "name": "ipython",
    "version": 3
   },
   "file_extension": ".py",
   "mimetype": "text/x-python",
   "name": "python",
   "nbconvert_exporter": "python",
   "pygments_lexer": "ipython3",
   "version": "3.8.8"
  }
 },
 "nbformat": 4,
 "nbformat_minor": 1
}
