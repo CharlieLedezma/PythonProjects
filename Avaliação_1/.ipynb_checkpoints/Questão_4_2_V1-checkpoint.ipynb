{
 "cells": [
  {
   "cell_type": "code",
   "execution_count": 3,
   "metadata": {
    "colab": {
     "base_uri": "https://localhost:8080/"
    },
    "id": "oYKJnpuvulQj",
    "outputId": "d90c403a-b809-48bd-8f93-4c21939754c2"
   },
   "outputs": [
    {
     "name": "stdout",
     "output_type": "stream",
     "text": [
      "Collecting control\n",
      "  Downloading control-0.9.0.tar.gz (339 kB)\n",
      "\u001b[?25l\r",
      "\u001b[K     |█                               | 10 kB 23.5 MB/s eta 0:00:01\r",
      "\u001b[K     |██                              | 20 kB 29.8 MB/s eta 0:00:01\r",
      "\u001b[K     |███                             | 30 kB 17.2 MB/s eta 0:00:01\r",
      "\u001b[K     |███▉                            | 40 kB 12.3 MB/s eta 0:00:01\r",
      "\u001b[K     |████▉                           | 51 kB 8.1 MB/s eta 0:00:01\r",
      "\u001b[K     |█████▉                          | 61 kB 7.5 MB/s eta 0:00:01\r",
      "\u001b[K     |██████▊                         | 71 kB 7.3 MB/s eta 0:00:01\r",
      "\u001b[K     |███████▊                        | 81 kB 8.1 MB/s eta 0:00:01\r",
      "\u001b[K     |████████▊                       | 92 kB 7.1 MB/s eta 0:00:01\r",
      "\u001b[K     |█████████▋                      | 102 kB 7.5 MB/s eta 0:00:01\r",
      "\u001b[K     |██████████▋                     | 112 kB 7.5 MB/s eta 0:00:01\r",
      "\u001b[K     |███████████▋                    | 122 kB 7.5 MB/s eta 0:00:01\r",
      "\u001b[K     |████████████▋                   | 133 kB 7.5 MB/s eta 0:00:01\r",
      "\u001b[K     |█████████████▌                  | 143 kB 7.5 MB/s eta 0:00:01\r",
      "\u001b[K     |██████████████▌                 | 153 kB 7.5 MB/s eta 0:00:01\r",
      "\u001b[K     |███████████████▌                | 163 kB 7.5 MB/s eta 0:00:01\r",
      "\u001b[K     |████████████████▍               | 174 kB 7.5 MB/s eta 0:00:01\r",
      "\u001b[K     |█████████████████▍              | 184 kB 7.5 MB/s eta 0:00:01\r",
      "\u001b[K     |██████████████████▍             | 194 kB 7.5 MB/s eta 0:00:01\r",
      "\u001b[K     |███████████████████▎            | 204 kB 7.5 MB/s eta 0:00:01\r",
      "\u001b[K     |████████████████████▎           | 215 kB 7.5 MB/s eta 0:00:01\r",
      "\u001b[K     |█████████████████████▎          | 225 kB 7.5 MB/s eta 0:00:01\r",
      "\u001b[K     |██████████████████████▎         | 235 kB 7.5 MB/s eta 0:00:01\r",
      "\u001b[K     |███████████████████████▏        | 245 kB 7.5 MB/s eta 0:00:01\r",
      "\u001b[K     |████████████████████████▏       | 256 kB 7.5 MB/s eta 0:00:01\r",
      "\u001b[K     |█████████████████████████▏      | 266 kB 7.5 MB/s eta 0:00:01\r",
      "\u001b[K     |██████████████████████████      | 276 kB 7.5 MB/s eta 0:00:01\r",
      "\u001b[K     |███████████████████████████     | 286 kB 7.5 MB/s eta 0:00:01\r",
      "\u001b[K     |████████████████████████████    | 296 kB 7.5 MB/s eta 0:00:01\r",
      "\u001b[K     |█████████████████████████████   | 307 kB 7.5 MB/s eta 0:00:01\r",
      "\u001b[K     |██████████████████████████████  | 317 kB 7.5 MB/s eta 0:00:01\r",
      "\u001b[K     |███████████████████████████████ | 327 kB 7.5 MB/s eta 0:00:01\r",
      "\u001b[K     |███████████████████████████████▉| 337 kB 7.5 MB/s eta 0:00:01\r",
      "\u001b[K     |████████████████████████████████| 339 kB 7.5 MB/s \n",
      "\u001b[?25hRequirement already satisfied: numpy in /usr/local/lib/python3.7/dist-packages (from control) (1.19.5)\n",
      "Requirement already satisfied: scipy in /usr/local/lib/python3.7/dist-packages (from control) (1.4.1)\n",
      "Requirement already satisfied: matplotlib in /usr/local/lib/python3.7/dist-packages (from control) (3.2.2)\n",
      "Requirement already satisfied: pyparsing!=2.0.4,!=2.1.2,!=2.1.6,>=2.0.1 in /usr/local/lib/python3.7/dist-packages (from matplotlib->control) (2.4.7)\n",
      "Requirement already satisfied: cycler>=0.10 in /usr/local/lib/python3.7/dist-packages (from matplotlib->control) (0.10.0)\n",
      "Requirement already satisfied: kiwisolver>=1.0.1 in /usr/local/lib/python3.7/dist-packages (from matplotlib->control) (1.3.2)\n",
      "Requirement already satisfied: python-dateutil>=2.1 in /usr/local/lib/python3.7/dist-packages (from matplotlib->control) (2.8.2)\n",
      "Requirement already satisfied: six in /usr/local/lib/python3.7/dist-packages (from cycler>=0.10->matplotlib->control) (1.15.0)\n",
      "Building wheels for collected packages: control\n",
      "  Building wheel for control (setup.py) ... \u001b[?25l\u001b[?25hdone\n",
      "  Created wheel for control: filename=control-0.9.0-py2.py3-none-any.whl size=344928 sha256=b993b91da1fcb73d080c41aaf02308354f5bf63764b1e83de18364f3ef4a3079\n",
      "  Stored in directory: /root/.cache/pip/wheels/5b/64/54/70faad181d7baff1184541ca00c9a2efa633acd0a811831d30\n",
      "Successfully built control\n",
      "Installing collected packages: control\n",
      "Successfully installed control-0.9.0\n"
     ]
    }
   ],
   "source": [
    "!pip install control"
   ]
  },
  {
   "cell_type": "code",
   "execution_count": 4,
   "metadata": {
    "id": "fxVCTC-4ul-u"
   },
   "outputs": [],
   "source": [
    "import numpy as np\n",
    "import matplotlib.pyplot as plt\n",
    "import matplotlib.path as npatches\n",
    "import control as co"
   ]
  },
  {
   "cell_type": "code",
   "execution_count": 5,
   "metadata": {
    "id": "W-K4AH2BwDD9"
   },
   "outputs": [],
   "source": [
    "g=9.8\n",
    "I=2\n",
    "l=1\n",
    "m=3\n",
    "M=5"
   ]
  },
  {
   "cell_type": "code",
   "execution_count": 7,
   "metadata": {
    "colab": {
     "base_uri": "https://localhost:8080/"
    },
    "id": "2cMBa9YOuqQa",
    "outputId": "cc802974-22e1-437d-936f-d507e90673b3"
   },
   "outputs": [
    {
     "name": "stdout",
     "output_type": "stream",
     "text": [
      "\n",
      "   7 s^2 - 29.4\n",
      "------------------\n",
      "55 s^4 - 235.2 s^2\n",
      "\n"
     ]
    }
   ],
   "source": [
    "#GX = X(s)/U(s)\n",
    "GX = co.tf([(I+m*l^2), 0, (-m*g*l)], [((M+m)*(I+m*l^2)-(m*l)^2), 0, -(M+m)*(m*g*l), 0, 0])\n",
    "print(GX)"
   ]
  },
  {
   "cell_type": "code",
   "execution_count": 8,
   "metadata": {
    "colab": {
     "base_uri": "https://localhost:8080/"
    },
    "id": "eCc_jLlUZl9Q",
    "outputId": "7e21a4b7-16b2-4306-ff06-0e17bb629906"
   },
   "outputs": [
    {
     "name": "stdout",
     "output_type": "stream",
     "text": [
      "\n",
      "       3\n",
      "---------------\n",
      "-55 s^2 + 235.2\n",
      "\n"
     ]
    }
   ],
   "source": [
    "#G0 = Teta(s)/U(s)\n",
    "G0 = co.tf([m*l], [((m*l)^2)-(I+m*l^2)*(M+m), 0, m*g*l*(M+m)])\n",
    "print(G0)"
   ]
  },
  {
   "cell_type": "code",
   "execution_count": 19,
   "metadata": {
    "colab": {
     "base_uri": "https://localhost:8080/"
    },
    "id": "sLxao4vuarmM",
    "outputId": "fd5b4abc-4152-4b48-b8fe-5cfc4b5345b4"
   },
   "outputs": [
    {
     "name": "stdout",
     "output_type": "stream",
     "text": [
      "\n",
      "          -385 s^4 + 3263 s^2 - 6915\n",
      "-----------------------------------------------\n",
      "-3025 s^6 + 2.587e+04 s^4 - 5.53e+04 s^2 - 88.2\n",
      "\n"
     ]
    }
   ],
   "source": [
    "G1 = co.feedback(GX,G0)\n",
    "print(G1)"
   ]
  },
  {
   "cell_type": "code",
   "execution_count": 23,
   "metadata": {
    "colab": {
     "base_uri": "https://localhost:8080/",
     "height": 38
    },
    "id": "UbdNlWT2yBgQ",
    "outputId": "a78ffe29-86cd-4264-9dc8-e91d1f25ed5e"
   },
   "outputs": [
    {
     "data": {
      "text/latex": [
       "$$\\frac{300 s + 70}{s}$$"
      ],
      "text/plain": [
       "TransferFunction(array([300,  70]), array([1, 0]))"
      ]
     },
     "execution_count": 23,
     "metadata": {},
     "output_type": "execute_result"
    }
   ],
   "source": [
    "#Controlador Proporcional Integral\n",
    "Kp = 300\n",
    "Ki = 70\n",
    "PI = co.tf([Kp],[1]) + co.tf([Ki],[1,0])\n",
    "PI"
   ]
  },
  {
   "cell_type": "code",
   "execution_count": 24,
   "metadata": {
    "colab": {
     "base_uri": "https://localhost:8080/"
    },
    "id": "taK3L-Q9yXCL",
    "outputId": "987a96c2-3aae-4d78-8690-07f4326c3c30"
   },
   "outputs": [
    {
     "name": "stdout",
     "output_type": "stream",
     "text": [
      "\n",
      "      -1.155e+05 s^5 - 2.695e+04 s^4 + 9.79e+05 s^3 + 2.284e+05 s^2 - 2.074e+06 s - 4.84e+05\n",
      "--------------------------------------------------------------------------------------------------\n",
      "-3025 s^7 - 8.963e+04 s^5 - 2.695e+04 s^4 + 9.237e+05 s^3 + 2.284e+05 s^2 - 2.075e+06 s - 4.84e+05\n",
      "\n"
     ]
    }
   ],
   "source": [
    "G2 = PI * G1\n",
    "G3 = co.feedback(G2,1)\n",
    "print(G3)"
   ]
  },
  {
   "cell_type": "code",
   "execution_count": 25,
   "metadata": {
    "colab": {
     "base_uri": "https://localhost:8080/",
     "height": 295
    },
    "id": "93Z6t04MyeXa",
    "outputId": "bbbb7205-4b07-49b2-95fa-1956d1921659"
   },
   "outputs": [
    {
     "data": {
      "image/png": "[encoded data removed]",
      "text/plain": [
       "<Figure size 432x288 with 1 Axes>"
      ]
     },
     "metadata": {
      "needs_background": "light"
     },
     "output_type": "display_data"
    }
   ],
   "source": [
    "#Resposta controlador PI\n",
    "t = np.linspace(0, 2, 100)\n",
    "t, y = co.step_response(G3)\n",
    "plt.plot(t, y)\n",
    "plt.xlabel('time (s)')\n",
    "plt.ylabel('Amplitude')\n",
    "plt.title('Resposta ao degrau unitário')\n",
    "plt.grid()"
   ]
  },
  {
   "cell_type": "code",
   "execution_count": null,
   "metadata": {
    "id": "cHb2gqmQbklc"
   },
   "outputs": [],
   "source": []
  }
 ],
 "metadata": {
  "colab": {
   "name": "Questão 4.2 V1.ipynb",
   "provenance": []
  },
  "kernelspec": {
   "display_name": "Python 3",
   "language": "python",
   "name": "python3"
  },
  "language_info": {
   "codemirror_mode": {
    "name": "ipython",
    "version": 3
   },
   "file_extension": ".py",
   "mimetype": "text/x-python",
   "name": "python",
   "nbconvert_exporter": "python",
   "pygments_lexer": "ipython3",
   "version": "3.8.8"
  }
 },
 "nbformat": 4,
 "nbformat_minor": 1
}
