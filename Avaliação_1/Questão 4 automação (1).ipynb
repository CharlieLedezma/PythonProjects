{
 "cells": [
  {
   "cell_type": "code",
   "execution_count": 4,
   "id": "9dac97c3",
   "metadata": {},
   "outputs": [],
   "source": [
    "from numpy import*\n",
    "import matplotlib.pyplot as plt\n",
    "%matplotlib inline\n",
    "import control as co\n",
    "import numpy as np"
   ]
  },
  {
   "cell_type": "code",
   "execution_count": 5,
   "id": "06b0d9be",
   "metadata": {},
   "outputs": [],
   "source": [
    "# W = -(M*I)-M*m*l^2-m*I\n",
    "# Z = M*m*g*l+(m^2)*g*l\n",
    "# ftrans = (m*l)/(a*s^2+b)"
   ]
  },
  {
   "cell_type": "code",
   "execution_count": 6,
   "id": "808a22f2",
   "metadata": {},
   "outputs": [],
   "source": [
    "def fun_transf(M,I,m,l,g,s):\n",
    "    N=len(s)\n",
    "    y=zeros(N)\n",
    "    for i in range (0,N):\n",
    "        y[i] = (m*l)/((-(M*I)-M*m*l*l-m*I)*(s[i]*s[i])+(M*m*g*l+(m*m)*g*l))\n",
    "    return y"
   ]
  },
  {
   "cell_type": "code",
   "execution_count": 7,
   "id": "84d657a5",
   "metadata": {
    "scrolled": true
   },
   "outputs": [
    {
     "data": {
      "image/png": "[encoded data removed]",
      "text/plain": [
       "<Figure size 432x288 with 1 Axes>"
      ]
     },
     "metadata": {
      "needs_background": "light"
     },
     "output_type": "display_data"
    }
   ],
   "source": [
    "s= np.linspace(-2.5,2.5,1000)\n",
    "M = 720\n",
    "I = 20\n",
    "m = 400\n",
    "l = 300\n",
    "g = 9.81\n",
    "r = fun_transf(M,I,m,l,g,s)\n",
    "plt.plot(s,r)\n",
    "plt.grid()"
   ]
  },
  {
   "cell_type": "code",
   "execution_count": 8,
   "id": "2978792c",
   "metadata": {},
   "outputs": [
    {
     "data": {
      "text/latex": [
       "$$\\frac{1.2 \\times 10^{5}}{-2.592 \\times 10^{10} s^2 + 1.318 \\times 10^{9}}$$"
      ],
      "text/plain": [
       "TransferFunction(array([120000]), array([-2.59200224e+10,  0.00000000e+00,  1.31846400e+09]))"
      ]
     },
     "execution_count": 8,
     "metadata": {},
     "output_type": "execute_result"
    }
   ],
   "source": [
    "#W = -(M*I)-M*m*l^2-m*I\n",
    "#Z = M*m*g*l+(m^2)*g*l\n",
    "\n",
    "G1 = co.tf([m*l],[-(M*I)-M*m*l*l-m*I, 0 , M*m*g*l+(m*m)*g*l])\n",
    "G1"
   ]
  },
  {
   "cell_type": "code",
   "execution_count": 9,
   "id": "4f96bcf3",
   "metadata": {},
   "outputs": [
    {
     "data": {
      "text/latex": [
       "$$\\frac{1500 s - 350}{s}$$"
      ],
      "text/plain": [
       "TransferFunction(array([1500, -350]), array([1, 0]))"
      ]
     },
     "execution_count": 9,
     "metadata": {},
     "output_type": "execute_result"
    }
   ],
   "source": [
    "#Controlador Proporcional Integral\n",
    "Kp = 1500\n",
    "Ki = -350\n",
    "PI = co.tf([Kp],[1]) + co.tf([Ki],[1,0])\n",
    "PI"
   ]
  },
  {
   "cell_type": "code",
   "execution_count": 10,
   "id": "15ecea0f",
   "metadata": {},
   "outputs": [
    {
     "name": "stdout",
     "output_type": "stream",
     "text": [
      "\n",
      "         1.8e+08 s - 4.2e+07\n",
      "--------------------------------------\n",
      "-2.592e+10 s^3 + 1.498e+09 s - 4.2e+07\n",
      "\n"
     ]
    }
   ],
   "source": [
    "G2 = PI * G1\n",
    "G3 = co.feedback(G2,1)\n",
    "print(G3)"
   ]
  },
  {
   "cell_type": "code",
   "execution_count": 11,
   "id": "686f537a",
   "metadata": {},
   "outputs": [
    {
     "data": {
      "image/png": "[encoded data removed]",
      "text/plain": [
       "<Figure size 432x288 with 1 Axes>"
      ]
     },
     "metadata": {
      "needs_background": "light"
     },
     "output_type": "display_data"
    }
   ],
   "source": [
    "#Resposta controlador PI\n",
    "t = np.linspace(0, 2, 100)\n",
    "t, y = co.step_response(G3)\n",
    "plt.plot(t, y)\n",
    "plt.xlabel('time (s)')\n",
    "plt.ylabel('Amplitude')\n",
    "plt.title('impulse response')\n",
    "plt.grid()"
   ]
  },
  {
   "cell_type": "code",
   "execution_count": 12,
   "id": "e80eb29f",
   "metadata": {},
   "outputs": [
    {
     "data": {
      "text/plain": [
       "1.0"
      ]
     },
     "execution_count": 12,
     "metadata": {},
     "output_type": "execute_result"
    }
   ],
   "source": [
    "co.dcgain(G3)"
   ]
  }
 ],
 "metadata": {
  "kernelspec": {
   "display_name": "Python 3",
   "language": "python",
   "name": "python3"
  },
  "language_info": {
   "codemirror_mode": {
    "name": "ipython",
    "version": 3
   },
   "file_extension": ".py",
   "mimetype": "text/x-python",
   "name": "python",
   "nbconvert_exporter": "python",
   "pygments_lexer": "ipython3",
   "version": "3.8.8"
  }
 },
 "nbformat": 4,
 "nbformat_minor": 5
}
