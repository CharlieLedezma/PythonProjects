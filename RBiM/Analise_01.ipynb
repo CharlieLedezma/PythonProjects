{
 "cells": [
  {
   "cell_type": "code",
   "execution_count": 4,
   "metadata": {},
   "outputs": [],
   "source": [
    "from sympy import *\n",
    "from sympy.matrices import Matrix\n",
    "from sympy.physics.mechanics import LagrangesMethod, Lagrangian\n",
    "from sympy.physics.mechanics import ReferenceFrame, Particle, Point\n",
    "from sympy.physics.mechanics import dynamicsymbols, kinetic_energy\n",
    "from sympy.physics.mechanics import mprint, mlatex\n",
    "from sympy.physics.mechanics import dynamicsymbols, init_vprinting\n",
    "from sympy.plotting import plot"
   ]
  },
  {
   "cell_type": "code",
   "execution_count": 15,
   "metadata": {},
   "outputs": [],
   "source": [
    "m,xg,yg,zg,Ix,Iy,Iz,Ixy, Ixz, Iyx, Iyz, Izx, Izy = symbols(\"m x_g y_g z_g I_x I_y I_z I_xy I_xz I_yx I_yz I_zx I_zy\")\n",
    "u,v,w,p,q,r = symbols(\"u v w p q r\")"
   ]
  },
  {
   "cell_type": "code",
   "execution_count": 13,
   "metadata": {},
   "outputs": [],
   "source": [
    "#u,v,w,p,q,r = dynamicsymbols(\"u v w p q r\")\n",
    "#u = dynamicsymbols(\"u\")\n",
    "#v = dynamicsymbols(\"v\")\n",
    "#w = dynamicsymbols(\"w\")\n",
    "#p = dynamicsymbols(\"p\")\n",
    "#q = dynamicsymbols(\"q\")\n",
    "#r = dynamicsymbols(\"r\")"
   ]
  },
  {
   "attachments": {},
   "cell_type": "markdown",
   "metadata": {},
   "source": [
    "Rigid-Body System Inertia Matriz"
   ]
  },
  {
   "cell_type": "code",
   "execution_count": 30,
   "metadata": {},
   "outputs": [
    {
     "data": {
      "text/latex": [
       "$\\displaystyle \\left[\\begin{matrix}m & 0 & 0 & 0 & m z_{g} & - m y_{g}\\\\0 & m & 0 & - m z_{g} & 0 & m x_{g}\\\\0 & 0 & m & - m y_{g} & - m x_{g} & 0\\\\0 & - m z_{g} & m y_{g} & I_{x} & - I_{xy} & - I_{xz}\\\\m z_{g} & 0 & - m x_{g} & - I_{yx} & I_{y} & - I_{yz}\\\\- m y_{g} & m x_{g} & 0 & - I_{zx} & - I_{zy} & I_{z}\\end{matrix}\\right]$"
      ],
      "text/plain": [
       "Matrix([\n",
       "[     m,      0,      0,      0,  m*z_g, -m*y_g],\n",
       "[     0,      m,      0, -m*z_g,      0,  m*x_g],\n",
       "[     0,      0,      m, -m*y_g, -m*x_g,      0],\n",
       "[     0, -m*z_g,  m*y_g,    I_x,  -I_xy,  -I_xz],\n",
       "[ m*z_g,      0, -m*x_g,  -I_yx,    I_y,  -I_yz],\n",
       "[-m*y_g,  m*x_g,      0,  -I_zx,  -I_zy,    I_z]])"
      ]
     },
     "execution_count": 30,
     "metadata": {},
     "output_type": "execute_result"
    }
   ],
   "source": [
    "#MRB = Matrix([[m, 0, 0, 0, m*zg -m*yg]])\n",
    "MRB = Matrix([[m, 0, 0, 0, m*zg, -m*yg],[0, m, 0, -m*zg, 0, m*xg],[0, 0, m, -m*yg, -m*xg, 0],[0, -m*zg, m*yg, Ix, -Ixy, -Ixz],[m*zg, 0, -m*xg, -Iyx, Iy, -Iyz],[-m*yg, m*xg, 0, -Izx, -Izy, Iz]])\n",
    "MRB"
   ]
  },
  {
   "cell_type": "code",
   "execution_count": 24,
   "metadata": {},
   "outputs": [],
   "source": [
    "#m,xg,yg,zg,Ix,Iy,Iz,Ixy, Ixz, Iyx, Iyz, Izx, Izy = 1, 0.5, 0.5, 0.5,1,1,1,0.5,0.5,0.5,0.5,0.5,0.5"
   ]
  },
  {
   "cell_type": "code",
   "execution_count": 41,
   "metadata": {},
   "outputs": [
    {
     "data": {
      "text/latex": [
       "$\\displaystyle \\left[\\begin{matrix}1 & 0 & 0 & 0 & 0.5 & -0.5\\\\0 & 1 & 0 & -0.5 & 0 & 0.5\\\\0 & 0 & 1 & -0.5 & -0.5 & 0\\\\0 & -0.5 & 0.5 & 1 & -0.5 & -0.5\\\\0.5 & 0 & -0.5 & -0.5 & 1 & -0.3\\\\-0.5 & 0.5 & 0 & -0.3 & -0.3 & 1\\end{matrix}\\right]$"
      ],
      "text/plain": [
       "Matrix([\n",
       "[   1,    0,    0,    0,  0.5, -0.5],\n",
       "[   0,    1,    0, -0.5,    0,  0.5],\n",
       "[   0,    0,    1, -0.5, -0.5,    0],\n",
       "[   0, -0.5,  0.5,    1, -0.5, -0.5],\n",
       "[ 0.5,    0, -0.5, -0.5,    1, -0.3],\n",
       "[-0.5,  0.5,    0, -0.3, -0.3,    1]])"
      ]
     },
     "execution_count": 41,
     "metadata": {},
     "output_type": "execute_result"
    }
   ],
   "source": [
    "#A = MRB._eval_simplify\n",
    "#MRB.subs([(m,3.5),(yg,5)])\n",
    "MRB_num = MRB.subs({m:1,xg:0.5,yg:0.5,zg:0.5,Ix:1,Iy:1,Iz:1,Ixy:0.5,Ixz:0.5,Iyx:0.5,Iyz:0.3,Izx:0.3,Izy:0.3})\n",
    "MRB_num"
   ]
  },
  {
   "attachments": {},
   "cell_type": "markdown",
   "metadata": {},
   "source": [
    "Rigid-Body Coriolis and Centripetal Matrix"
   ]
  },
  {
   "cell_type": "code",
   "execution_count": 18,
   "metadata": {},
   "outputs": [
    {
     "data": {
      "text/latex": [
       "$\\displaystyle \\left[\\begin{matrix}0 & 0 & 0\\\\0 & 0 & 0\\\\0 & 0 & 0\\end{matrix}\\right]$"
      ],
      "text/plain": [
       "Matrix([\n",
       "[0, 0, 0],\n",
       "[0, 0, 0],\n",
       "[0, 0, 0]])"
      ]
     },
     "execution_count": 18,
     "metadata": {},
     "output_type": "execute_result"
    }
   ],
   "source": [
    "zero3x3 = Matrix.zeros(3)\n",
    "zero3x3"
   ]
  },
  {
   "cell_type": "code",
   "execution_count": 19,
   "metadata": {},
   "outputs": [
    {
     "data": {
      "text/latex": [
       "$\\displaystyle \\left[\\begin{matrix}- m \\left(q y_{g} + r z_{g}\\right) & m \\left(p y_{g} + w\\right) & m \\left(p z_{g} - v\\right)\\\\m \\left(q x_{g} - w\\right) & - m \\left(p x_{g} + r z_{g}\\right) & m \\left(p z_{g} + u\\right)\\\\m \\left(r x_{g} + v\\right) & m \\left(r y_{g} - u\\right) & - m \\left(p x_{g} + q y_{g}\\right)\\end{matrix}\\right]$"
      ],
      "text/plain": [
       "Matrix([\n",
       "[-m*(q*y_g + r*z_g),      m*(p*y_g + w),      m*(p*z_g - v)],\n",
       "[     m*(q*x_g - w), -m*(p*x_g + r*z_g),      m*(p*z_g + u)],\n",
       "[     m*(r*x_g + v),      m*(r*y_g - u), -m*(p*x_g + q*y_g)]])"
      ]
     },
     "execution_count": 19,
     "metadata": {},
     "output_type": "execute_result"
    }
   ],
   "source": [
    "centripetal = Matrix([[-m*(yg*q+zg*r), m*(yg*p+w),m*(zg*p-v)],[m*(xg*q-w), -m*(zg*r+xg*p),m*(zg*p+u)],[m*(xg*r+v), m*(yg*r-u),-m*(xg*p+yg*q)]])\n",
    "centripetal"
   ]
  },
  {
   "cell_type": "code",
   "execution_count": 20,
   "metadata": {},
   "outputs": [
    {
     "data": {
      "text/latex": [
       "$\\displaystyle \\left[\\begin{matrix}0 & - I_{xz} p - I_{yz} q + I_{z} r & I_{xy} p - I_{y} q + I_{yz} r\\\\I_{xz} p + I_{yz} q - I_{z} r & 0 & I_{x} p - I_{xy} q - I_{xz} r\\\\- I_{xy} p + I_{y} q - I_{yz} r & - I_{x} p + I_{xy} q + I_{xz} r & 0\\end{matrix}\\right]$"
      ],
      "text/plain": [
       "Matrix([\n",
       "[                       0, -I_xz*p - I_yz*q + I_z*r, I_xy*p - I_y*q + I_yz*r],\n",
       "[ I_xz*p + I_yz*q - I_z*r,                        0, I_x*p - I_xy*q - I_xz*r],\n",
       "[-I_xy*p + I_y*q - I_yz*r, -I_x*p + I_xy*q + I_xz*r,                       0]])"
      ]
     },
     "execution_count": 20,
     "metadata": {},
     "output_type": "execute_result"
    }
   ],
   "source": [
    "inertia = Matrix(([0, -Iyz*q-Ixz*p+Iz*r,Iyz*r+Ixy*p-Iy*q],[Iyz*q+Ixz*p-Iz*r, 0, -Ixz*r-Ixy*q+Ix*p],[-Iyz*r-Ixy*p+Iy*q, Ixz*r+Ixy*q-Ix*p,0]))\n",
    "inertia"
   ]
  },
  {
   "cell_type": "code",
   "execution_count": 23,
   "metadata": {},
   "outputs": [
    {
     "data": {
      "text/latex": [
       "$\\displaystyle \\left[\\begin{matrix}0 & 0 & 0 & - m \\left(q y_{g} + r z_{g}\\right) & m \\left(p y_{g} + w\\right) & m \\left(p z_{g} - v\\right)\\\\0 & 0 & 0 & m \\left(q x_{g} - w\\right) & - m \\left(p x_{g} + r z_{g}\\right) & m \\left(p z_{g} + u\\right)\\\\0 & 0 & 0 & m \\left(r x_{g} + v\\right) & m \\left(r y_{g} - u\\right) & - m \\left(p x_{g} + q y_{g}\\right)\\\\m \\left(q y_{g} + r z_{g}\\right) & - m \\left(p y_{g} + w\\right) & - m \\left(p z_{g} - v\\right) & 0 & - I_{xz} p - I_{yz} q + I_{z} r & I_{xy} p - I_{y} q + I_{yz} r\\\\- m \\left(q x_{g} - w\\right) & m \\left(p x_{g} + r z_{g}\\right) & - m \\left(p z_{g} + u\\right) & I_{xz} p + I_{yz} q - I_{z} r & 0 & I_{x} p - I_{xy} q - I_{xz} r\\\\- m \\left(r x_{g} + v\\right) & - m \\left(r y_{g} - u\\right) & m \\left(p x_{g} + q y_{g}\\right) & - I_{xy} p + I_{y} q - I_{yz} r & - I_{x} p + I_{xy} q + I_{xz} r & 0\\end{matrix}\\right]$"
      ],
      "text/plain": [
       "Matrix([\n",
       "[                0,                 0,                 0,       -m*(q*y_g + r*z_g),            m*(p*y_g + w),           m*(p*z_g - v)],\n",
       "[                0,                 0,                 0,            m*(q*x_g - w),       -m*(p*x_g + r*z_g),           m*(p*z_g + u)],\n",
       "[                0,                 0,                 0,            m*(r*x_g + v),            m*(r*y_g - u),      -m*(p*x_g + q*y_g)],\n",
       "[m*(q*y_g + r*z_g),    -m*(p*y_g + w),    -m*(p*z_g - v),                        0, -I_xz*p - I_yz*q + I_z*r, I_xy*p - I_y*q + I_yz*r],\n",
       "[   -m*(q*x_g - w), m*(p*x_g + r*z_g),    -m*(p*z_g + u),  I_xz*p + I_yz*q - I_z*r,                        0, I_x*p - I_xy*q - I_xz*r],\n",
       "[   -m*(r*x_g + v),    -m*(r*y_g - u), m*(p*x_g + q*y_g), -I_xy*p + I_y*q - I_yz*r, -I_x*p + I_xy*q + I_xz*r,                       0]])"
      ]
     },
     "execution_count": 23,
     "metadata": {},
     "output_type": "execute_result"
    }
   ],
   "source": [
    "CRB = Matrix([[zero3x3,centripetal],[-centripetal,inertia]])\n",
    "CRB"
   ]
  },
  {
   "cell_type": "code",
   "execution_count": 25,
   "metadata": {},
   "outputs": [],
   "source": [
    "#Test BlockMatrix\n",
    "#PRB = BlockMatrix([[zero3x3,centripetal],[-centripetal,inertia]])\n",
    "#PRB"
   ]
  },
  {
   "cell_type": "code",
   "execution_count": 27,
   "metadata": {},
   "outputs": [
    {
     "data": {
      "text/latex": [
       "$\\displaystyle \\left[\\begin{matrix}0 & 0 & 0 & 0 & 0.5 & 0\\\\0 & 0 & 0 & -0.5 & 0 & 1\\\\0 & 0 & 0 & 0 & -1 & 0\\\\0 & -0.5 & 0 & 0 & 0 & 0\\\\0.5 & 0 & -1 & 0 & 0 & 0\\\\0 & 1 & 0 & 0 & 0 & 0\\end{matrix}\\right]$"
      ],
      "text/plain": [
       "Matrix([\n",
       "[  0,    0,  0,    0, 0.5, 0],\n",
       "[  0,    0,  0, -0.5,   0, 1],\n",
       "[  0,    0,  0,    0,  -1, 0],\n",
       "[  0, -0.5,  0,    0,   0, 0],\n",
       "[0.5,    0, -1,    0,   0, 0],\n",
       "[  0,    1,  0,    0,   0, 0]])"
      ]
     },
     "execution_count": 27,
     "metadata": {},
     "output_type": "execute_result"
    }
   ],
   "source": [
    "CRB_num = CRB.subs({m:1,xg:0.5,yg:0.5,zg:0.5,Ix:1,Iy:1,Iz:1,Ixy:0.5,Ixz:0.5,Iyx:0.5,Iyz:0.3,Izx:0.3,Izy:0.3,u:1,v:0,w:0.5,p:0,q:0,r:0})\n",
    "CRB_num"
   ]
  },
  {
   "cell_type": "code",
   "execution_count": 29,
   "metadata": {},
   "outputs": [
    {
     "data": {
      "text/latex": [
       "$\\displaystyle \\left[\\begin{matrix}0\\\\0\\\\0\\\\0\\\\0.5\\\\0\\end{matrix}\\right]$"
      ],
      "text/plain": [
       "Matrix([\n",
       "[  0],\n",
       "[  0],\n",
       "[  0],\n",
       "[  0],\n",
       "[0.5],\n",
       "[  0]])"
      ]
     },
     "execution_count": 29,
     "metadata": {},
     "output_type": "execute_result"
    }
   ],
   "source": [
    "V = Matrix([[1],[0],[0],[0],[0],[0]])\n",
    "TRB = CRB_num * V\n",
    "TRB"
   ]
  }
 ],
 "metadata": {
  "kernelspec": {
   "display_name": "Python 3",
   "language": "python",
   "name": "python3"
  },
  "language_info": {
   "codemirror_mode": {
    "name": "ipython",
    "version": 3
   },
   "file_extension": ".py",
   "mimetype": "text/x-python",
   "name": "python",
   "nbconvert_exporter": "python",
   "pygments_lexer": "ipython3",
   "version": "3.10.6"
  },
  "orig_nbformat": 4
 },
 "nbformat": 4,
 "nbformat_minor": 2
}
