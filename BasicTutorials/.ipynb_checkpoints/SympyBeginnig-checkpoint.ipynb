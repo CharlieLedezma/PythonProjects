{
 "cells": [
  {
   "cell_type": "markdown",
   "id": "762b65fb",
   "metadata": {},
   "source": [
    "# sympy Imports"
   ]
  },
  {
   "cell_type": "code",
   "execution_count": null,
   "id": "8d251cec",
   "metadata": {},
   "outputs": [],
   "source": [
    "#from sympy.matrices import Matrix\n",
    "#\n",
    "#from sympy import Float"
   ]
  },
  {
   "cell_type": "code",
   "execution_count": 5,
   "id": "afc2095b",
   "metadata": {},
   "outputs": [],
   "source": [
    "from sympy import Float"
   ]
  },
  {
   "cell_type": "code",
   "execution_count": 6,
   "id": "f488720c",
   "metadata": {},
   "outputs": [
    {
     "data": {
      "text/latex": [
       "$\\displaystyle 6.23$"
      ],
      "text/plain": [
       "6.23000000000000"
      ]
     },
     "execution_count": 6,
     "metadata": {},
     "output_type": "execute_result"
    }
   ],
   "source": [
    "Float(6.23)"
   ]
  },
  {
   "cell_type": "code",
   "execution_count": 8,
   "id": "a763c1ed",
   "metadata": {},
   "outputs": [
    {
     "data": {
      "text/latex": [
       "$\\displaystyle 20.0$"
      ],
      "text/plain": [
       "20.0000000000000"
      ]
     },
     "execution_count": 8,
     "metadata": {},
     "output_type": "execute_result"
    }
   ],
   "source": [
    "Float(20)"
   ]
  },
  {
   "cell_type": "code",
   "execution_count": 9,
   "id": "057408b5",
   "metadata": {},
   "outputs": [
    {
     "data": {
      "text/latex": [
       "$\\displaystyle 1.3$"
      ],
      "text/plain": [
       "1.3"
      ]
     },
     "execution_count": 9,
     "metadata": {},
     "output_type": "execute_result"
    }
   ],
   "source": [
    "Float(1.33333,2)"
   ]
  },
  {
   "cell_type": "code",
   "execution_count": 11,
   "id": "5bede8a0",
   "metadata": {},
   "outputs": [],
   "source": [
    "from sympy import Rational"
   ]
  },
  {
   "cell_type": "code",
   "execution_count": 12,
   "id": "5ba59b99",
   "metadata": {},
   "outputs": [
    {
     "data": {
      "text/latex": [
       "$\\displaystyle \\frac{3}{4}$"
      ],
      "text/plain": [
       "3/4"
      ]
     },
     "execution_count": 12,
     "metadata": {},
     "output_type": "execute_result"
    }
   ],
   "source": [
    "Rational(3/4)"
   ]
  },
  {
   "cell_type": "code",
   "execution_count": 14,
   "id": "4961f715",
   "metadata": {},
   "outputs": [
    {
     "data": {
      "text/latex": [
       "$\\displaystyle \\frac{1}{4}$"
      ],
      "text/plain": [
       "1/4"
      ]
     },
     "execution_count": 14,
     "metadata": {},
     "output_type": "execute_result"
    }
   ],
   "source": [
    "Rational(0.25)"
   ]
  },
  {
   "cell_type": "code",
   "execution_count": 15,
   "id": "2c9db83f",
   "metadata": {},
   "outputs": [],
   "source": [
    "from sympy import Integer"
   ]
  },
  {
   "cell_type": "code",
   "execution_count": 16,
   "id": "c54e6983",
   "metadata": {},
   "outputs": [
    {
     "data": {
      "text/latex": [
       "$\\displaystyle 5$"
      ],
      "text/plain": [
       "5"
      ]
     },
     "execution_count": 16,
     "metadata": {},
     "output_type": "execute_result"
    }
   ],
   "source": [
    "Integer(5.2)"
   ]
  },
  {
   "cell_type": "code",
   "execution_count": 17,
   "id": "99cb64c5",
   "metadata": {},
   "outputs": [],
   "source": [
    "from sympy import S "
   ]
  },
  {
   "cell_type": "code",
   "execution_count": 18,
   "id": "d6b14a05",
   "metadata": {},
   "outputs": [
    {
     "name": "stdout",
     "output_type": "stream",
     "text": [
      "1/2\n"
     ]
    }
   ],
   "source": [
    "print (S.Half)"
   ]
  },
  {
   "cell_type": "code",
   "execution_count": 19,
   "id": "38a01737",
   "metadata": {
    "scrolled": true
   },
   "outputs": [
    {
     "data": {
      "text/latex": [
       "$\\displaystyle \\infty$"
      ],
      "text/plain": [
       "oo"
      ]
     },
     "execution_count": 19,
     "metadata": {},
     "output_type": "execute_result"
    }
   ],
   "source": [
    "S.Infinity"
   ]
  },
  {
   "cell_type": "markdown",
   "id": "6b9c7d9e",
   "metadata": {},
   "source": [
    "# Declaración símbolos"
   ]
  },
  {
   "cell_type": "code",
   "execution_count": null,
   "id": "513ed1c9",
   "metadata": {},
   "outputs": [],
   "source": [
    "#x = Symbol('x')\n",
    "#y = Symbol('y')\n",
    "#x,y,z =symbols(\"x,y,z\")\n",
    "#x,y = symbols('x y')\n",
    "#from sympy.abc import a,b"
   ]
  },
  {
   "cell_type": "code",
   "execution_count": 21,
   "id": "6740fe38",
   "metadata": {},
   "outputs": [],
   "source": [
    "from sympy import Symbol"
   ]
  },
  {
   "cell_type": "code",
   "execution_count": 22,
   "id": "55dede66",
   "metadata": {},
   "outputs": [],
   "source": [
    "x = Symbol('x')"
   ]
  },
  {
   "cell_type": "code",
   "execution_count": 23,
   "id": "243af4e2",
   "metadata": {},
   "outputs": [],
   "source": [
    "y=Symbol('y')"
   ]
  },
  {
   "cell_type": "code",
   "execution_count": 24,
   "id": "023f1bd8",
   "metadata": {},
   "outputs": [],
   "source": [
    "expr=x**2+y**2"
   ]
  },
  {
   "cell_type": "code",
   "execution_count": 25,
   "id": "a48997c7",
   "metadata": {},
   "outputs": [
    {
     "data": {
      "text/latex": [
       "$\\displaystyle x^{2} + y^{2}$"
      ],
      "text/plain": [
       "x**2 + y**2"
      ]
     },
     "execution_count": 25,
     "metadata": {},
     "output_type": "execute_result"
    }
   ],
   "source": [
    "expr"
   ]
  },
  {
   "cell_type": "code",
   "execution_count": 26,
   "id": "5690aea4",
   "metadata": {},
   "outputs": [],
   "source": [
    "s=Symbol('side') "
   ]
  },
  {
   "cell_type": "code",
   "execution_count": 27,
   "id": "e77283b9",
   "metadata": {},
   "outputs": [
    {
     "data": {
      "text/latex": [
       "$\\displaystyle side$"
      ],
      "text/plain": [
       "side"
      ]
     },
     "execution_count": 27,
     "metadata": {},
     "output_type": "execute_result"
    }
   ],
   "source": [
    "s"
   ]
  },
  {
   "cell_type": "code",
   "execution_count": 28,
   "id": "3ec3a367",
   "metadata": {},
   "outputs": [
    {
     "data": {
      "text/latex": [
       "$\\displaystyle side^{3}$"
      ],
      "text/plain": [
       "side**3"
      ]
     },
     "execution_count": 28,
     "metadata": {},
     "output_type": "execute_result"
    }
   ],
   "source": [
    "s**3"
   ]
  },
  {
   "cell_type": "code",
   "execution_count": 29,
   "id": "2b3d45f5",
   "metadata": {},
   "outputs": [],
   "source": [
    "from sympy import symbols "
   ]
  },
  {
   "cell_type": "code",
   "execution_count": 30,
   "id": "cef47db0",
   "metadata": {},
   "outputs": [],
   "source": [
    "x,y,z=symbols(\"x,y,z\")"
   ]
  },
  {
   "cell_type": "code",
   "execution_count": 31,
   "id": "b69021b8",
   "metadata": {},
   "outputs": [],
   "source": [
    "from sympy import symbols"
   ]
  },
  {
   "cell_type": "code",
   "execution_count": 32,
   "id": "ff86a954",
   "metadata": {},
   "outputs": [
    {
     "data": {
      "text/plain": [
       "(a0, a1, a2, a3, a4)"
      ]
     },
     "execution_count": 32,
     "metadata": {},
     "output_type": "execute_result"
    }
   ],
   "source": [
    "symbols('a:5')"
   ]
  },
  {
   "cell_type": "code",
   "execution_count": 37,
   "id": "a05918bb",
   "metadata": {},
   "outputs": [],
   "source": [
    "from sympy.abc import x,a\n",
    "from sympy import sin, cos"
   ]
  },
  {
   "cell_type": "code",
   "execution_count": 38,
   "id": "79e627a2",
   "metadata": {},
   "outputs": [],
   "source": [
    "expr=sin(x)*sin(x)+cos(x)*cos(x)"
   ]
  },
  {
   "cell_type": "code",
   "execution_count": 39,
   "id": "8891e64b",
   "metadata": {},
   "outputs": [
    {
     "data": {
      "text/latex": [
       "$\\displaystyle \\sin^{2}{\\left(x \\right)} + \\cos^{2}{\\left(x \\right)}$"
      ],
      "text/plain": [
       "sin(x)**2 + cos(x)**2"
      ]
     },
     "execution_count": 39,
     "metadata": {},
     "output_type": "execute_result"
    }
   ],
   "source": [
    "expr"
   ]
  },
  {
   "cell_type": "code",
   "execution_count": 40,
   "id": "350d139d",
   "metadata": {},
   "outputs": [
    {
     "data": {
      "text/latex": [
       "$\\displaystyle \\sin^{2}{\\left(a \\right)} + \\cos^{2}{\\left(a \\right)}$"
      ],
      "text/plain": [
       "sin(a)**2 + cos(a)**2"
      ]
     },
     "execution_count": 40,
     "metadata": {},
     "output_type": "execute_result"
    }
   ],
   "source": [
    "expr.subs(x,a)"
   ]
  },
  {
   "cell_type": "code",
   "execution_count": 43,
   "id": "40e1d83a",
   "metadata": {},
   "outputs": [
    {
     "data": {
      "text/latex": [
       "$\\displaystyle \\cos^{2}{\\left(5 \\right)} + \\sin^{2}{\\left(5 \\right)}$"
      ],
      "text/plain": [
       "cos(5)**2 + sin(5)**2"
      ]
     },
     "execution_count": 43,
     "metadata": {},
     "output_type": "execute_result"
    }
   ],
   "source": [
    "a=5\n",
    "expr.subs(x,a)"
   ]
  },
  {
   "cell_type": "code",
   "execution_count": 44,
   "id": "b1d3b8f2",
   "metadata": {},
   "outputs": [
    {
     "data": {
      "text/latex": [
       "$\\displaystyle \\sin^{2}{\\left(x \\right)} + \\cos^{2}{\\left(x \\right)}$"
      ],
      "text/plain": [
       "sin(x)**2 + cos(x)**2"
      ]
     },
     "execution_count": 44,
     "metadata": {},
     "output_type": "execute_result"
    }
   ],
   "source": [
    "expr"
   ]
  },
  {
   "cell_type": "code",
   "execution_count": 45,
   "id": "d6755c27",
   "metadata": {},
   "outputs": [
    {
     "data": {
      "text/latex": [
       "$\\displaystyle \\cos^{2}{\\left(5 \\right)} + \\sin^{2}{\\left(5 \\right)}$"
      ],
      "text/plain": [
       "cos(5)**2 + sin(5)**2"
      ]
     },
     "execution_count": 45,
     "metadata": {},
     "output_type": "execute_result"
    }
   ],
   "source": [
    "expr.subs(x,5)"
   ]
  },
  {
   "cell_type": "code",
   "execution_count": 46,
   "id": "8c756672",
   "metadata": {},
   "outputs": [],
   "source": [
    "expr=a*a+2*a+5"
   ]
  },
  {
   "cell_type": "code",
   "execution_count": 47,
   "id": "88b2c99c",
   "metadata": {},
   "outputs": [
    {
     "data": {
      "text/plain": [
       "40"
      ]
     },
     "execution_count": 47,
     "metadata": {},
     "output_type": "execute_result"
    }
   ],
   "source": [
    "expr"
   ]
  },
  {
   "cell_type": "code",
   "execution_count": 48,
   "id": "d293dd2b",
   "metadata": {},
   "outputs": [],
   "source": [
    "from sympy import sin, pi "
   ]
  },
  {
   "cell_type": "code",
   "execution_count": 49,
   "id": "cafb96fb",
   "metadata": {},
   "outputs": [],
   "source": [
    "expr=sin(x)"
   ]
  },
  {
   "cell_type": "code",
   "execution_count": 53,
   "id": "373e06f3",
   "metadata": {},
   "outputs": [],
   "source": [
    "expr1=expr.subs(x,pi)"
   ]
  },
  {
   "cell_type": "code",
   "execution_count": 54,
   "id": "748ab470",
   "metadata": {},
   "outputs": [
    {
     "data": {
      "text/latex": [
       "$\\displaystyle 0$"
      ],
      "text/plain": [
       "0"
      ]
     },
     "execution_count": 54,
     "metadata": {},
     "output_type": "execute_result"
    }
   ],
   "source": [
    "expr1"
   ]
  },
  {
   "cell_type": "code",
   "execution_count": 55,
   "id": "138af07e",
   "metadata": {},
   "outputs": [],
   "source": [
    "from sympy.abc import a,b"
   ]
  },
  {
   "cell_type": "code",
   "execution_count": 56,
   "id": "f73e1ae9",
   "metadata": {},
   "outputs": [],
   "source": [
    "expr=(a+b)**2"
   ]
  },
  {
   "cell_type": "code",
   "execution_count": 57,
   "id": "fec21b4a",
   "metadata": {},
   "outputs": [
    {
     "data": {
      "text/latex": [
       "$\\displaystyle \\left(a + b\\right)^{2}$"
      ],
      "text/plain": [
       "(a + b)**2"
      ]
     },
     "execution_count": 57,
     "metadata": {},
     "output_type": "execute_result"
    }
   ],
   "source": [
    "expr"
   ]
  },
  {
   "cell_type": "code",
   "execution_count": 58,
   "id": "7986bf95",
   "metadata": {
    "scrolled": true
   },
   "outputs": [
    {
     "data": {
      "text/latex": [
       "$\\displaystyle \\left(2 a + b\\right)^{2}$"
      ],
      "text/plain": [
       "(2*a + b)**2"
      ]
     },
     "execution_count": 58,
     "metadata": {},
     "output_type": "execute_result"
    }
   ],
   "source": [
    "expr1=expr.subs(b,a+b)\n",
    "expr1"
   ]
  },
  {
   "cell_type": "code",
   "execution_count": 63,
   "id": "5afca434",
   "metadata": {},
   "outputs": [],
   "source": [
    "from sympy import sympify"
   ]
  },
  {
   "cell_type": "code",
   "execution_count": 64,
   "id": "874c83b9",
   "metadata": {},
   "outputs": [
    {
     "data": {
      "text/latex": [
       "$\\displaystyle 12$"
      ],
      "text/plain": [
       "12"
      ]
     },
     "execution_count": 64,
     "metadata": {},
     "output_type": "execute_result"
    }
   ],
   "source": [
    "expr=\"x**2+3*x+2\"\n",
    "expr1=sympify(expr)\n",
    "expr1\n",
    "expr1.subs(x,2)"
   ]
  },
  {
   "cell_type": "code",
   "execution_count": 65,
   "id": "ea9f5cc9",
   "metadata": {},
   "outputs": [
    {
     "data": {
      "text/latex": [
       "$\\displaystyle x^{2} + 3 x + 2$"
      ],
      "text/plain": [
       "x**2 + 3*x + 2"
      ]
     },
     "execution_count": 65,
     "metadata": {},
     "output_type": "execute_result"
    }
   ],
   "source": [
    "expr1"
   ]
  },
  {
   "cell_type": "code",
   "execution_count": 68,
   "id": "1c6f953e",
   "metadata": {},
   "outputs": [
    {
     "data": {
      "text/latex": [
       "$\\displaystyle 3 y + z^{2} + 2$"
      ],
      "text/plain": [
       "3*y + z**2 + 2"
      ]
     },
     "execution_count": 68,
     "metadata": {},
     "output_type": "execute_result"
    }
   ],
   "source": [
    "expr=\"z**2+3*y+2\"\n",
    "expr2=sympify(expr)\n",
    "expr2"
   ]
  },
  {
   "cell_type": "code",
   "execution_count": 69,
   "id": "9c8e3f5c",
   "metadata": {},
   "outputs": [
    {
     "data": {
      "text/latex": [
       "$\\displaystyle 4$"
      ],
      "text/plain": [
       "4"
      ]
     },
     "execution_count": 69,
     "metadata": {},
     "output_type": "execute_result"
    }
   ],
   "source": [
    "sympify(\"10/5+4/2\")"
   ]
  },
  {
   "cell_type": "code",
   "execution_count": 70,
   "id": "8137ff90",
   "metadata": {},
   "outputs": [
    {
     "data": {
      "text/latex": [
       "$\\displaystyle \\frac{10}{5} + \\frac{4}{2}$"
      ],
      "text/plain": [
       "10/5 + 4/2"
      ]
     },
     "execution_count": 70,
     "metadata": {},
     "output_type": "execute_result"
    }
   ],
   "source": [
    "sympify(\"10/5+4/2\", evaluate=False)"
   ]
  },
  {
   "cell_type": "code",
   "execution_count": 71,
   "id": "f5f3a4eb",
   "metadata": {},
   "outputs": [],
   "source": [
    "from sympy.abc import r "
   ]
  },
  {
   "cell_type": "code",
   "execution_count": 72,
   "id": "68e708a2",
   "metadata": {},
   "outputs": [
    {
     "data": {
      "text/latex": [
       "$\\displaystyle \\pi r^{2}$"
      ],
      "text/plain": [
       "pi*r**2"
      ]
     },
     "execution_count": 72,
     "metadata": {},
     "output_type": "execute_result"
    }
   ],
   "source": [
    "expr=pi*r**2\n",
    "expr"
   ]
  },
  {
   "cell_type": "code",
   "execution_count": 73,
   "id": "88fff532",
   "metadata": {},
   "outputs": [
    {
     "data": {
      "text/latex": [
       "$\\displaystyle 78.5398163397448$"
      ],
      "text/plain": [
       "78.5398163397448"
      ]
     },
     "execution_count": 73,
     "metadata": {},
     "output_type": "execute_result"
    }
   ],
   "source": [
    "expr.evalf(subs={r:5})"
   ]
  },
  {
   "cell_type": "code",
   "execution_count": 75,
   "id": "69a6ba30",
   "metadata": {},
   "outputs": [
    {
     "data": {
      "text/latex": [
       "$\\displaystyle 33.333$"
      ],
      "text/plain": [
       "33.333"
      ]
     },
     "execution_count": 75,
     "metadata": {},
     "output_type": "execute_result"
    }
   ],
   "source": [
    "expr=a/b\n",
    "expr.evalf(5, subs={a:100, b:3})"
   ]
  },
  {
   "cell_type": "markdown",
   "id": "006953f9",
   "metadata": {},
   "source": [
    "# :Lambdify"
   ]
  },
  {
   "cell_type": "code",
   "execution_count": 77,
   "id": "0c65820b",
   "metadata": {},
   "outputs": [],
   "source": [
    "from sympy import lambdify"
   ]
  },
  {
   "cell_type": "code",
   "execution_count": 78,
   "id": "04e2b30d",
   "metadata": {},
   "outputs": [
    {
     "data": {
      "text/plain": [
       "627.8831939138764"
      ]
     },
     "execution_count": 78,
     "metadata": {},
     "output_type": "execute_result"
    }
   ],
   "source": [
    "expr=1/sin(x)\n",
    "f=lambdify(x, expr)\n",
    "f(3.14)"
   ]
  },
  {
   "cell_type": "code",
   "execution_count": 79,
   "id": "2f53b552",
   "metadata": {},
   "outputs": [
    {
     "data": {
      "text/latex": [
       "$\\displaystyle \\frac{1}{\\sin{\\left(x \\right)}}$"
      ],
      "text/plain": [
       "1/sin(x)"
      ]
     },
     "execution_count": 79,
     "metadata": {},
     "output_type": "execute_result"
    }
   ],
   "source": [
    "expr"
   ]
  },
  {
   "cell_type": "code",
   "execution_count": 80,
   "id": "d26ab171",
   "metadata": {},
   "outputs": [
    {
     "data": {
      "text/latex": [
       "$\\displaystyle 627.883193913876$"
      ],
      "text/plain": [
       "627.883193913876"
      ]
     },
     "execution_count": 80,
     "metadata": {},
     "output_type": "execute_result"
    }
   ],
   "source": [
    "expr.subs(x,3.14)"
   ]
  },
  {
   "cell_type": "code",
   "execution_count": 84,
   "id": "4f4d68ce",
   "metadata": {},
   "outputs": [],
   "source": [
    "expr=1/sin(x+y**2)"
   ]
  },
  {
   "cell_type": "code",
   "execution_count": 85,
   "id": "7f2b1ad8",
   "metadata": {},
   "outputs": [],
   "source": [
    "f=lambdify([x,y],expr)"
   ]
  },
  {
   "cell_type": "code",
   "execution_count": 91,
   "id": "e898a045",
   "metadata": {},
   "outputs": [
    {
     "data": {
      "text/plain": [
       "-1.5539094704202325"
      ]
     },
     "execution_count": 91,
     "metadata": {},
     "output_type": "execute_result"
    }
   ],
   "source": [
    "f(1,6)"
   ]
  },
  {
   "cell_type": "code",
   "execution_count": 87,
   "id": "3fab4b93",
   "metadata": {},
   "outputs": [],
   "source": [
    "f=lambdify([x,y],expr, \"numpy\")"
   ]
  },
  {
   "cell_type": "code",
   "execution_count": 88,
   "id": "64b207bf",
   "metadata": {},
   "outputs": [],
   "source": [
    "import numpy "
   ]
  },
  {
   "cell_type": "code",
   "execution_count": 90,
   "id": "7cfb4e54",
   "metadata": {},
   "outputs": [
    {
     "data": {
      "text/plain": [
       "array([-1.55390947,  1.49202696, -1.16887977, -5.67937799, -1.03035924])"
      ]
     },
     "execution_count": 90,
     "metadata": {},
     "output_type": "execute_result"
    }
   ],
   "source": [
    "l1=numpy.arange(1,6)\n",
    "l2=numpy.arange(6,11)\n",
    "f(l1,l2)"
   ]
  },
  {
   "cell_type": "markdown",
   "id": "a82ff544",
   "metadata": {},
   "source": [
    "# Logical Expressions"
   ]
  },
  {
   "cell_type": "code",
   "execution_count": 93,
   "id": "65abb953",
   "metadata": {},
   "outputs": [],
   "source": [
    "from sympy import * "
   ]
  },
  {
   "cell_type": "code",
   "execution_count": 94,
   "id": "0702e23f",
   "metadata": {},
   "outputs": [],
   "source": [
    "x=sympify(true)"
   ]
  },
  {
   "cell_type": "code",
   "execution_count": 95,
   "id": "4272d269",
   "metadata": {},
   "outputs": [
    {
     "data": {
      "text/latex": [
       "$\\displaystyle \\text{True}$"
      ],
      "text/plain": [
       "True"
      ]
     },
     "execution_count": 95,
     "metadata": {},
     "output_type": "execute_result"
    }
   ],
   "source": [
    "x"
   ]
  },
  {
   "cell_type": "code",
   "execution_count": 105,
   "id": "6e7e0af5",
   "metadata": {},
   "outputs": [
    {
     "data": {
      "text/latex": [
       "$\\displaystyle \\text{True}$"
      ],
      "text/plain": [
       "True"
      ]
     },
     "execution_count": 105,
     "metadata": {},
     "output_type": "execute_result"
    }
   ],
   "source": [
    "from sympy.logic.boolalg import And\n",
    "from sympy.logic.boolalg import Or \n",
    "x=True\n",
    "y=True\n",
    "And(x,y)"
   ]
  },
  {
   "cell_type": "code",
   "execution_count": 110,
   "id": "80a6314f",
   "metadata": {},
   "outputs": [
    {
     "data": {
      "text/latex": [
       "$\\displaystyle \\text{False}$"
      ],
      "text/plain": [
       "False"
      ]
     },
     "execution_count": 110,
     "metadata": {},
     "output_type": "execute_result"
    }
   ],
   "source": [
    "y=False\n",
    "And(x,y)"
   ]
  },
  {
   "cell_type": "code",
   "execution_count": 102,
   "id": "3e0637e1",
   "metadata": {},
   "outputs": [
    {
     "data": {
      "text/plain": [
       "(True, True)"
      ]
     },
     "execution_count": 102,
     "metadata": {},
     "output_type": "execute_result"
    }
   ],
   "source": [
    "Or(x,y), x|y"
   ]
  },
  {
   "cell_type": "code",
   "execution_count": 106,
   "id": "3caa80bd",
   "metadata": {},
   "outputs": [],
   "source": [
    "from sympy.logic.boolalg import Not "
   ]
  },
  {
   "cell_type": "code",
   "execution_count": 111,
   "id": "b791acf2",
   "metadata": {},
   "outputs": [
    {
     "data": {
      "text/plain": [
       "(False, True)"
      ]
     },
     "execution_count": 111,
     "metadata": {},
     "output_type": "execute_result"
    }
   ],
   "source": [
    "Not(x), Not(y)"
   ]
  },
  {
   "cell_type": "code",
   "execution_count": 112,
   "id": "250eb49a",
   "metadata": {},
   "outputs": [
    {
     "data": {
      "text/plain": [
       "True"
      ]
     },
     "execution_count": 112,
     "metadata": {},
     "output_type": "execute_result"
    }
   ],
   "source": [
    "x"
   ]
  },
  {
   "cell_type": "code",
   "execution_count": 113,
   "id": "e27e90c0",
   "metadata": {},
   "outputs": [
    {
     "data": {
      "text/plain": [
       "False"
      ]
     },
     "execution_count": 113,
     "metadata": {},
     "output_type": "execute_result"
    }
   ],
   "source": [
    "y"
   ]
  },
  {
   "cell_type": "markdown",
   "id": "7bdb8e08",
   "metadata": {},
   "source": [
    "# Querying"
   ]
  },
  {
   "cell_type": "code",
   "execution_count": 117,
   "id": "88dfd5f3",
   "metadata": {},
   "outputs": [],
   "source": [
    "x=0"
   ]
  },
  {
   "cell_type": "code",
   "execution_count": 115,
   "id": "5749e752",
   "metadata": {},
   "outputs": [
    {
     "data": {
      "text/plain": [
       "False"
      ]
     },
     "execution_count": 115,
     "metadata": {},
     "output_type": "execute_result"
    }
   ],
   "source": [
    "ask(Q.algebraic(pi))"
   ]
  },
  {
   "cell_type": "code",
   "execution_count": 118,
   "id": "00fd3539",
   "metadata": {},
   "outputs": [
    {
     "data": {
      "text/plain": [
       "True"
      ]
     },
     "execution_count": 118,
     "metadata": {},
     "output_type": "execute_result"
    }
   ],
   "source": [
    "ask(Q.zero(x))"
   ]
  },
  {
   "cell_type": "code",
   "execution_count": 119,
   "id": "34e7d7ca",
   "metadata": {},
   "outputs": [
    {
     "data": {
      "text/plain": [
       "(True, False)"
      ]
     },
     "execution_count": 119,
     "metadata": {},
     "output_type": "execute_result"
    }
   ],
   "source": [
    "x,y= 2*I, 4+5*I\n",
    "ask(Q.imaginary(x)), ask(Q.imaginary(y))"
   ]
  },
  {
   "cell_type": "code",
   "execution_count": 120,
   "id": "92e8c70f",
   "metadata": {},
   "outputs": [
    {
     "data": {
      "text/plain": [
       "(False, True, True, False)"
      ]
     },
     "execution_count": 120,
     "metadata": {},
     "output_type": "execute_result"
    }
   ],
   "source": [
    "x,y=5,10\n",
    "ask(Q.even(x)), ask(Q.even(y)), ask(Q.odd(x)), ask(Q.odd(y))"
   ]
  },
  {
   "cell_type": "markdown",
   "id": "c1d2cc0a",
   "metadata": {},
   "source": [
    "# Simplification"
   ]
  },
  {
   "cell_type": "code",
   "execution_count": 131,
   "id": "29a33e40",
   "metadata": {},
   "outputs": [],
   "source": [
    "from sympy.abc import x,y,a,b"
   ]
  },
  {
   "cell_type": "code",
   "execution_count": 124,
   "id": "94b38323",
   "metadata": {},
   "outputs": [],
   "source": [
    "expr=sin(x)**2 + cos(x)**2 "
   ]
  },
  {
   "cell_type": "code",
   "execution_count": 125,
   "id": "da543ec1",
   "metadata": {},
   "outputs": [
    {
     "data": {
      "text/latex": [
       "$\\displaystyle \\sin^{2}{\\left(x \\right)} + \\cos^{2}{\\left(x \\right)}$"
      ],
      "text/plain": [
       "sin(x)**2 + cos(x)**2"
      ]
     },
     "execution_count": 125,
     "metadata": {},
     "output_type": "execute_result"
    }
   ],
   "source": [
    "expr"
   ]
  },
  {
   "cell_type": "code",
   "execution_count": 126,
   "id": "96a8a941",
   "metadata": {},
   "outputs": [
    {
     "data": {
      "text/latex": [
       "$\\displaystyle 1$"
      ],
      "text/plain": [
       "1"
      ]
     },
     "execution_count": 126,
     "metadata": {},
     "output_type": "execute_result"
    }
   ],
   "source": [
    "simplify(expr)"
   ]
  },
  {
   "cell_type": "code",
   "execution_count": 128,
   "id": "690e86a8",
   "metadata": {},
   "outputs": [
    {
     "data": {
      "text/latex": [
       "$\\displaystyle a^{2} + 2 a b + b^{2}$"
      ],
      "text/plain": [
       "a**2 + 2*a*b + b**2"
      ]
     },
     "execution_count": 128,
     "metadata": {},
     "output_type": "execute_result"
    }
   ],
   "source": [
    "expand((a+b)**2)"
   ]
  },
  {
   "cell_type": "code",
   "execution_count": 129,
   "id": "54be48c0",
   "metadata": {},
   "outputs": [
    {
     "data": {
      "text/latex": [
       "$\\displaystyle a^{2} - b^{2}$"
      ],
      "text/plain": [
       "a**2 - b**2"
      ]
     },
     "execution_count": 129,
     "metadata": {},
     "output_type": "execute_result"
    }
   ],
   "source": [
    "expand((a+b)*(a-b))"
   ]
  },
  {
   "cell_type": "code",
   "execution_count": 132,
   "id": "47969d87",
   "metadata": {},
   "outputs": [
    {
     "data": {
      "text/latex": [
       "$\\displaystyle z \\left(x + 2 y\\right)^{2}$"
      ],
      "text/plain": [
       "z*(x + 2*y)**2"
      ]
     },
     "execution_count": 132,
     "metadata": {},
     "output_type": "execute_result"
    }
   ],
   "source": [
    "factor(x**2*z + 4*x*y*z + 4*y**2*z)"
   ]
  },
  {
   "cell_type": "code",
   "execution_count": 133,
   "id": "914d25c7",
   "metadata": {},
   "outputs": [
    {
     "data": {
      "text/plain": [
       "(1, [(z, 1), (x + 2*y, 2)])"
      ]
     },
     "execution_count": 133,
     "metadata": {},
     "output_type": "execute_result"
    }
   ],
   "source": [
    "factor_list(x**2*z + 4*x*y*z + 4*y**2*z)"
   ]
  },
  {
   "cell_type": "code",
   "execution_count": 134,
   "id": "25d7397e",
   "metadata": {},
   "outputs": [
    {
     "data": {
      "text/latex": [
       "$\\displaystyle x + 1$"
      ],
      "text/plain": [
       "x + 1"
      ]
     },
     "execution_count": 134,
     "metadata": {},
     "output_type": "execute_result"
    }
   ],
   "source": [
    "expr1=x**2+2*x+1\n",
    "expr2=x+1\n",
    "cancel(expr1/expr2)"
   ]
  },
  {
   "cell_type": "code",
   "execution_count": 135,
   "id": "ddffee80",
   "metadata": {},
   "outputs": [
    {
     "data": {
      "text/latex": [
       "$\\displaystyle \\frac{\\frac{3 x}{2} - 2}{x - 4} + \\frac{1}{x}$"
      ],
      "text/plain": [
       "(3*x/2 - 2)/(x - 4) + 1/x"
      ]
     },
     "execution_count": 135,
     "metadata": {},
     "output_type": "execute_result"
    }
   ],
   "source": [
    "expr = 1/x + (3*x/2 - 2)/(x - 4)\n",
    "expr"
   ]
  },
  {
   "cell_type": "code",
   "execution_count": 136,
   "id": "6a64db19",
   "metadata": {},
   "outputs": [
    {
     "data": {
      "text/latex": [
       "$\\displaystyle \\frac{3 x^{2} - 2 x - 8}{2 x^{2} - 8 x}$"
      ],
      "text/plain": [
       "(3*x**2 - 2*x - 8)/(2*x**2 - 8*x)"
      ]
     },
     "execution_count": 136,
     "metadata": {},
     "output_type": "execute_result"
    }
   ],
   "source": [
    "cancel(expr)"
   ]
  },
  {
   "cell_type": "code",
   "execution_count": 137,
   "id": "ec8a47fb",
   "metadata": {},
   "outputs": [
    {
     "data": {
      "text/latex": [
       "$\\displaystyle 2$"
      ],
      "text/plain": [
       "2"
      ]
     },
     "execution_count": 137,
     "metadata": {},
     "output_type": "execute_result"
    }
   ],
   "source": [
    "from sympy import trigsimp, sin, cos\n",
    "from sympy.abc import x, y\n",
    "expr = 2*sin(x)**2 + 2*cos(x)**2\n",
    "trigsimp(expr)"
   ]
  },
  {
   "cell_type": "code",
   "execution_count": 138,
   "id": "4363aab1",
   "metadata": {},
   "outputs": [
    {
     "data": {
      "text/latex": [
       "$\\displaystyle x^{y} x^{z} y^{z}$"
      ],
      "text/plain": [
       "x**y*x**z*y**z"
      ]
     },
     "execution_count": 138,
     "metadata": {},
     "output_type": "execute_result"
    }
   ],
   "source": [
    "expr=x**y*x**z*y**z\n",
    "expr"
   ]
  },
  {
   "cell_type": "code",
   "execution_count": 139,
   "id": "9b4efdf2",
   "metadata": {},
   "outputs": [
    {
     "data": {
      "text/latex": [
       "$\\displaystyle x^{y + z} y^{z}$"
      ],
      "text/plain": [
       "x**(y + z)*y**z"
      ]
     },
     "execution_count": 139,
     "metadata": {},
     "output_type": "execute_result"
    }
   ],
   "source": [
    "powsimp(expr)"
   ]
  },
  {
   "cell_type": "code",
   "execution_count": 140,
   "id": "a55e6f74",
   "metadata": {},
   "outputs": [
    {
     "data": {
      "text/latex": [
       "$\\displaystyle x^{y} \\left(x y\\right)^{z}$"
      ],
      "text/plain": [
       "x**y*(x*y)**z"
      ]
     },
     "execution_count": 140,
     "metadata": {},
     "output_type": "execute_result"
    }
   ],
   "source": [
    "powsimp(expr, combine='base', force=True)"
   ]
  },
  {
   "cell_type": "code",
   "execution_count": 141,
   "id": "e12a07a7",
   "metadata": {},
   "outputs": [
    {
     "data": {
      "text/latex": [
       "$\\displaystyle a \\log{\\left(x \\right)} + \\log{\\left(y \\right)} - \\log{\\left(z \\right)}$"
      ],
      "text/plain": [
       "a*log(x) + log(y) - log(z)"
      ]
     },
     "execution_count": 141,
     "metadata": {},
     "output_type": "execute_result"
    }
   ],
   "source": [
    "logcombine(a*log(x) + log(y) - log(z))"
   ]
  },
  {
   "cell_type": "code",
   "execution_count": 142,
   "id": "3507940c",
   "metadata": {},
   "outputs": [
    {
     "data": {
      "text/latex": [
       "$\\displaystyle \\log{\\left(\\frac{x^{a} y}{z} \\right)}$"
      ],
      "text/plain": [
       "log(x**a*y/z)"
      ]
     },
     "execution_count": 142,
     "metadata": {},
     "output_type": "execute_result"
    }
   ],
   "source": [
    "logcombine(a*log(x) + log(y) - log(z), force=True)"
   ]
  },
  {
   "cell_type": "markdown",
   "id": "69ea3756",
   "metadata": {},
   "source": [
    "# Derivative"
   ]
  },
  {
   "cell_type": "code",
   "execution_count": 143,
   "id": "0490bfff",
   "metadata": {},
   "outputs": [
    {
     "data": {
      "text/latex": [
       "$\\displaystyle x \\sin{\\left(x^{2} \\right)} + 1$"
      ],
      "text/plain": [
       "x*sin(x**2) + 1"
      ]
     },
     "execution_count": 143,
     "metadata": {},
     "output_type": "execute_result"
    }
   ],
   "source": [
    "from sympy import diff, exp\n",
    "expr=x*sin(x*x)+1\n",
    "expr"
   ]
  },
  {
   "cell_type": "code",
   "execution_count": 144,
   "id": "e33684cc",
   "metadata": {},
   "outputs": [
    {
     "data": {
      "text/latex": [
       "$\\displaystyle 2 x^{2} \\cos{\\left(x^{2} \\right)} + \\sin{\\left(x^{2} \\right)}$"
      ],
      "text/plain": [
       "2*x**2*cos(x**2) + sin(x**2)"
      ]
     },
     "execution_count": 144,
     "metadata": {},
     "output_type": "execute_result"
    }
   ],
   "source": [
    "diff(expr,x)"
   ]
  },
  {
   "cell_type": "code",
   "execution_count": 145,
   "id": "f1d397a6",
   "metadata": {},
   "outputs": [
    {
     "data": {
      "text/latex": [
       "$\\displaystyle 2 x e^{x^{2}}$"
      ],
      "text/plain": [
       "2*x*exp(x**2)"
      ]
     },
     "execution_count": 145,
     "metadata": {},
     "output_type": "execute_result"
    }
   ],
   "source": [
    "diff(exp(x**2),x)"
   ]
  },
  {
   "cell_type": "code",
   "execution_count": 146,
   "id": "240e7c20",
   "metadata": {},
   "outputs": [
    {
     "data": {
      "text/latex": [
       "$\\displaystyle 24 x$"
      ],
      "text/plain": [
       "24*x"
      ]
     },
     "execution_count": 146,
     "metadata": {},
     "output_type": "execute_result"
    }
   ],
   "source": [
    "diff(x**4,x,3)"
   ]
  },
  {
   "cell_type": "code",
   "execution_count": 147,
   "id": "dd10b771",
   "metadata": {},
   "outputs": [
    {
     "data": {
      "text/latex": [
       "$\\displaystyle 2 x^{2} \\cos{\\left(x^{2} \\right)} + \\sin{\\left(x^{2} \\right)}$"
      ],
      "text/plain": [
       "2*x**2*cos(x**2) + sin(x**2)"
      ]
     },
     "execution_count": 147,
     "metadata": {},
     "output_type": "execute_result"
    }
   ],
   "source": [
    "expr.diff(x)"
   ]
  },
  {
   "cell_type": "code",
   "execution_count": 148,
   "id": "0acfd9cf",
   "metadata": {},
   "outputs": [
    {
     "data": {
      "text/latex": [
       "$\\displaystyle \\frac{d}{d x} \\left(x \\sin{\\left(x^{2} \\right)} + 1\\right)$"
      ],
      "text/plain": [
       "Derivative(x*sin(x**2) + 1, x)"
      ]
     },
     "execution_count": 148,
     "metadata": {},
     "output_type": "execute_result"
    }
   ],
   "source": [
    "from sympy import Derivative\n",
    "d=Derivative(expr) \n",
    "d"
   ]
  },
  {
   "cell_type": "code",
   "execution_count": 149,
   "id": "70875a4f",
   "metadata": {},
   "outputs": [
    {
     "data": {
      "text/latex": [
       "$\\displaystyle 2 x^{2} \\cos{\\left(x^{2} \\right)} + \\sin{\\left(x^{2} \\right)}$"
      ],
      "text/plain": [
       "2*x**2*cos(x**2) + sin(x**2)"
      ]
     },
     "execution_count": 149,
     "metadata": {},
     "output_type": "execute_result"
    }
   ],
   "source": [
    "d.doit()"
   ]
  },
  {
   "cell_type": "markdown",
   "id": "a013af9a",
   "metadata": {},
   "source": [
    "# Integration"
   ]
  },
  {
   "cell_type": "code",
   "execution_count": 150,
   "id": "5a1215e5",
   "metadata": {},
   "outputs": [],
   "source": [
    "expr=x**2 + x + 1 "
   ]
  },
  {
   "cell_type": "code",
   "execution_count": 151,
   "id": "7a507741",
   "metadata": {},
   "outputs": [
    {
     "data": {
      "text/latex": [
       "$\\displaystyle \\frac{x^{3}}{3} + \\frac{x^{2}}{2} + x$"
      ],
      "text/plain": [
       "x**3/3 + x**2/2 + x"
      ]
     },
     "execution_count": 151,
     "metadata": {},
     "output_type": "execute_result"
    }
   ],
   "source": [
    "integrate(expr, x)"
   ]
  },
  {
   "cell_type": "code",
   "execution_count": 154,
   "id": "67e6146d",
   "metadata": {},
   "outputs": [
    {
     "data": {
      "text/latex": [
       "$\\displaystyle \\sin{\\left(x \\right)} \\tan{\\left(x \\right)}$"
      ],
      "text/plain": [
       "sin(x)*tan(x)"
      ]
     },
     "execution_count": 154,
     "metadata": {},
     "output_type": "execute_result"
    }
   ],
   "source": [
    "expr=sin(x)*tan(x) \n",
    "expr"
   ]
  },
  {
   "cell_type": "code",
   "execution_count": 155,
   "id": "fd86ff09",
   "metadata": {},
   "outputs": [
    {
     "data": {
      "text/latex": [
       "$\\displaystyle - \\frac{\\log{\\left(\\sin{\\left(x \\right)} - 1 \\right)}}{2} + \\frac{\\log{\\left(\\sin{\\left(x \\right)} + 1 \\right)}}{2} - \\sin{\\left(x \\right)}$"
      ],
      "text/plain": [
       "-log(sin(x) - 1)/2 + log(sin(x) + 1)/2 - sin(x)"
      ]
     },
     "execution_count": 155,
     "metadata": {},
     "output_type": "execute_result"
    }
   ],
   "source": [
    "integrate(expr,x)"
   ]
  },
  {
   "cell_type": "code",
   "execution_count": 156,
   "id": "7ce8a6e2",
   "metadata": {},
   "outputs": [],
   "source": [
    "expr=exp(-x**2)"
   ]
  },
  {
   "cell_type": "code",
   "execution_count": 157,
   "id": "ef20f637",
   "metadata": {},
   "outputs": [
    {
     "data": {
      "text/latex": [
       "$\\displaystyle e^{- x^{2}}$"
      ],
      "text/plain": [
       "exp(-x**2)"
      ]
     },
     "execution_count": 157,
     "metadata": {},
     "output_type": "execute_result"
    }
   ],
   "source": [
    "expr"
   ]
  },
  {
   "cell_type": "code",
   "execution_count": 158,
   "id": "fee628f2",
   "metadata": {},
   "outputs": [
    {
     "data": {
      "text/latex": [
       "$\\displaystyle \\frac{\\sqrt{\\pi}}{2}$"
      ],
      "text/plain": [
       "sqrt(pi)/2"
      ]
     },
     "execution_count": 158,
     "metadata": {},
     "output_type": "execute_result"
    }
   ],
   "source": [
    "integrate(expr,(x,0,oo) )"
   ]
  },
  {
   "cell_type": "code",
   "execution_count": 159,
   "id": "882c945d",
   "metadata": {
    "scrolled": true
   },
   "outputs": [
    {
     "data": {
      "text/latex": [
       "$\\displaystyle e^{- x^{2} - y^{2}}$"
      ],
      "text/plain": [
       "exp(-x**2 - y**2)"
      ]
     },
     "execution_count": 159,
     "metadata": {},
     "output_type": "execute_result"
    }
   ],
   "source": [
    "expr=exp(-x**2 - y**2)\n",
    "expr"
   ]
  },
  {
   "cell_type": "code",
   "execution_count": 161,
   "id": "0b1bea50",
   "metadata": {},
   "outputs": [
    {
     "data": {
      "text/latex": [
       "$\\displaystyle \\frac{\\sqrt{\\pi} e^{- y^{2}} \\operatorname{erf}{\\left(x \\right)}}{2}$"
      ],
      "text/plain": [
       "sqrt(pi)*exp(-y**2)*erf(x)/2"
      ]
     },
     "execution_count": 161,
     "metadata": {},
     "output_type": "execute_result"
    }
   ],
   "source": [
    "integrate(expr,x)"
   ]
  },
  {
   "cell_type": "code",
   "execution_count": 160,
   "id": "f7fb132d",
   "metadata": {},
   "outputs": [
    {
     "data": {
      "text/latex": [
       "$\\displaystyle \\frac{\\pi}{4}$"
      ],
      "text/plain": [
       "pi/4"
      ]
     },
     "execution_count": 160,
     "metadata": {},
     "output_type": "execute_result"
    }
   ],
   "source": [
    "integrate(expr,(x,0,oo),(y,0,oo))"
   ]
  },
  {
   "cell_type": "code",
   "execution_count": 162,
   "id": "da62376f",
   "metadata": {},
   "outputs": [],
   "source": [
    "expr = Integral(log(x)**2, x)"
   ]
  },
  {
   "cell_type": "code",
   "execution_count": 163,
   "id": "6b22e804",
   "metadata": {},
   "outputs": [
    {
     "data": {
      "text/latex": [
       "$\\displaystyle \\int \\log{\\left(x \\right)}^{2}\\, dx$"
      ],
      "text/plain": [
       "Integral(log(x)**2, x)"
      ]
     },
     "execution_count": 163,
     "metadata": {},
     "output_type": "execute_result"
    }
   ],
   "source": [
    "expr"
   ]
  },
  {
   "cell_type": "code",
   "execution_count": 164,
   "id": "652cca12",
   "metadata": {},
   "outputs": [
    {
     "data": {
      "text/latex": [
       "$\\displaystyle x \\log{\\left(x \\right)}^{2} - 2 x \\log{\\left(x \\right)} + 2 x$"
      ],
      "text/plain": [
       "x*log(x)**2 - 2*x*log(x) + 2*x"
      ]
     },
     "execution_count": 164,
     "metadata": {},
     "output_type": "execute_result"
    }
   ],
   "source": [
    "expr.doit()"
   ]
  },
  {
   "cell_type": "code",
   "execution_count": 165,
   "id": "e8b3d05a",
   "metadata": {},
   "outputs": [
    {
     "data": {
      "text/latex": [
       "$\\displaystyle e^{- x^{2}}$"
      ],
      "text/plain": [
       "exp(-x**2)"
      ]
     },
     "execution_count": 165,
     "metadata": {},
     "output_type": "execute_result"
    }
   ],
   "source": [
    "from sympy import fourier_transform, exp\n",
    "from sympy.abc import x, k\n",
    "expr=exp(-x**2)\n",
    "expr"
   ]
  },
  {
   "cell_type": "code",
   "execution_count": 166,
   "id": "2f2169bc",
   "metadata": {},
   "outputs": [
    {
     "data": {
      "text/latex": [
       "$\\displaystyle \\sqrt{\\pi} e^{- \\pi^{2} k^{2}}$"
      ],
      "text/plain": [
       "sqrt(pi)*exp(-pi**2*k**2)"
      ]
     },
     "execution_count": 166,
     "metadata": {},
     "output_type": "execute_result"
    }
   ],
   "source": [
    "fourier_transform(expr, x, k)"
   ]
  },
  {
   "cell_type": "code",
   "execution_count": 167,
   "id": "f594652e",
   "metadata": {},
   "outputs": [
    {
     "data": {
      "text/plain": [
       "(s**(-a)*gamma(a + 1)/s, 0, re(a) > -1)"
      ]
     },
     "execution_count": 167,
     "metadata": {},
     "output_type": "execute_result"
    }
   ],
   "source": [
    "from sympy.integrals import laplace_transform\n",
    "from sympy.abc import t, s, a\n",
    "laplace_transform(t**a, t, s)"
   ]
  },
  {
   "cell_type": "markdown",
   "id": "a02b9690",
   "metadata": {},
   "source": [
    "# Matrices"
   ]
  },
  {
   "cell_type": "code",
   "execution_count": 171,
   "id": "4e9098a8",
   "metadata": {},
   "outputs": [
    {
     "data": {
      "text/latex": [
       "$\\displaystyle \\left[\\begin{matrix}1 & 2 & 3\\\\2 & 3 & 1\\end{matrix}\\right]$"
      ],
      "text/plain": [
       "Matrix([\n",
       "[1, 2, 3],\n",
       "[2, 3, 1]])"
      ]
     },
     "execution_count": 171,
     "metadata": {},
     "output_type": "execute_result"
    }
   ],
   "source": [
    "from sympy.matrices import Matrix \n",
    "m=Matrix([[1,2,3],[2,3,1]])\n",
    "m "
   ]
  },
  {
   "cell_type": "code",
   "execution_count": 172,
   "id": "ee698741",
   "metadata": {},
   "outputs": [
    {
     "data": {
      "text/latex": [
       "$\\displaystyle \\left[\\begin{matrix}10 & 40 & 30\\\\2 & 6 & 9\\end{matrix}\\right]$"
      ],
      "text/plain": [
       "Matrix([\n",
       "[10, 40, 30],\n",
       "[ 2,  6,  9]])"
      ]
     },
     "execution_count": 172,
     "metadata": {},
     "output_type": "execute_result"
    }
   ],
   "source": [
    "M=Matrix(2,3,[10,40,30,2,6,9])\n",
    "M"
   ]
  },
  {
   "cell_type": "code",
   "execution_count": 174,
   "id": "6ae5671a",
   "metadata": {},
   "outputs": [
    {
     "data": {
      "text/plain": [
       "(2, 3)"
      ]
     },
     "execution_count": 174,
     "metadata": {},
     "output_type": "execute_result"
    }
   ],
   "source": [
    "M.shape"
   ]
  },
  {
   "cell_type": "code",
   "execution_count": 179,
   "id": "33b374c7",
   "metadata": {},
   "outputs": [
    {
     "data": {
      "text/latex": [
       "$\\displaystyle \\left[\\begin{matrix}10 & 40 & 30\\end{matrix}\\right]$"
      ],
      "text/plain": [
       "Matrix([[10, 40, 30]])"
      ]
     },
     "execution_count": 179,
     "metadata": {},
     "output_type": "execute_result"
    }
   ],
   "source": [
    "M.row(0)"
   ]
  },
  {
   "cell_type": "code",
   "execution_count": 180,
   "id": "b27e9df9",
   "metadata": {},
   "outputs": [
    {
     "data": {
      "text/latex": [
       "$\\displaystyle \\left[\\begin{matrix}10\\\\2\\end{matrix}\\right]$"
      ],
      "text/plain": [
       "Matrix([\n",
       "[10],\n",
       "[ 2]])"
      ]
     },
     "execution_count": 180,
     "metadata": {},
     "output_type": "execute_result"
    }
   ],
   "source": [
    "M.col(0)"
   ]
  },
  {
   "cell_type": "code",
   "execution_count": 181,
   "id": "56e2e02f",
   "metadata": {},
   "outputs": [
    {
     "data": {
      "text/latex": [
       "$\\displaystyle \\left[\\begin{matrix}2 & 6 & 9\\end{matrix}\\right]$"
      ],
      "text/plain": [
       "Matrix([[2, 6, 9]])"
      ]
     },
     "execution_count": 181,
     "metadata": {},
     "output_type": "execute_result"
    }
   ],
   "source": [
    "M.row(1)"
   ]
  },
  {
   "cell_type": "code",
   "execution_count": 183,
   "id": "dba6e10c",
   "metadata": {},
   "outputs": [
    {
     "data": {
      "text/plain": [
       "[6]"
      ]
     },
     "execution_count": 183,
     "metadata": {},
     "output_type": "execute_result"
    }
   ],
   "source": [
    "M.row(1)[1:2]"
   ]
  },
  {
   "cell_type": "code",
   "execution_count": 184,
   "id": "9d9c9d31",
   "metadata": {},
   "outputs": [
    {
     "data": {
      "text/latex": [
       "$\\displaystyle \\left[\\begin{matrix}10 & 40 & 30\\\\2 & 6 & 9\\end{matrix}\\right]$"
      ],
      "text/plain": [
       "Matrix([\n",
       "[10, 40, 30],\n",
       "[ 2,  6,  9]])"
      ]
     },
     "execution_count": 184,
     "metadata": {},
     "output_type": "execute_result"
    }
   ],
   "source": [
    "M"
   ]
  },
  {
   "cell_type": "code",
   "execution_count": 185,
   "id": "7adb8ffa",
   "metadata": {},
   "outputs": [],
   "source": [
    "M.col_del(1)"
   ]
  },
  {
   "cell_type": "code",
   "execution_count": 186,
   "id": "0772febe",
   "metadata": {},
   "outputs": [
    {
     "data": {
      "text/latex": [
       "$\\displaystyle \\left[\\begin{matrix}10 & 30\\\\2 & 9\\end{matrix}\\right]$"
      ],
      "text/plain": [
       "Matrix([\n",
       "[10, 30],\n",
       "[ 2,  9]])"
      ]
     },
     "execution_count": 186,
     "metadata": {},
     "output_type": "execute_result"
    }
   ],
   "source": [
    "M"
   ]
  },
  {
   "cell_type": "code",
   "execution_count": 187,
   "id": "70e6640a",
   "metadata": {},
   "outputs": [
    {
     "data": {
      "text/plain": [
       "(2, 2)"
      ]
     },
     "execution_count": 187,
     "metadata": {},
     "output_type": "execute_result"
    }
   ],
   "source": [
    "M.shape"
   ]
  },
  {
   "cell_type": "code",
   "execution_count": 189,
   "id": "a0fed354",
   "metadata": {},
   "outputs": [
    {
     "data": {
      "text/latex": [
       "$\\displaystyle \\left[\\begin{matrix}10 & 30\\\\2 & 9\\end{matrix}\\right]$"
      ],
      "text/plain": [
       "Matrix([\n",
       "[10, 30],\n",
       "[ 2,  9]])"
      ]
     },
     "execution_count": 189,
     "metadata": {},
     "output_type": "execute_result"
    }
   ],
   "source": [
    "Matrix([[10, 30],[ 2, 9]])"
   ]
  },
  {
   "cell_type": "code",
   "execution_count": null,
   "id": "5fa1ed13",
   "metadata": {},
   "outputs": [],
   "source": []
  },
  {
   "cell_type": "code",
   "execution_count": null,
   "id": "3ddf20e6",
   "metadata": {},
   "outputs": [],
   "source": []
  }
 ],
 "metadata": {
  "kernelspec": {
   "display_name": "Python 3",
   "language": "python",
   "name": "python3"
  },
  "language_info": {
   "codemirror_mode": {
    "name": "ipython",
    "version": 3
   },
   "file_extension": ".py",
   "mimetype": "text/x-python",
   "name": "python",
   "nbconvert_exporter": "python",
   "pygments_lexer": "ipython3",
   "version": "3.8.8"
  }
 },
 "nbformat": 4,
 "nbformat_minor": 5
}
