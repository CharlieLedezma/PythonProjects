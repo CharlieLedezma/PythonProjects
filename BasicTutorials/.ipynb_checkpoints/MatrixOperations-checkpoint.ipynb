{
 "cells": [
  {
   "cell_type": "code",
   "execution_count": null,
   "id": "5fb9f6ef",
   "metadata": {},
   "outputs": [],
   "source": [
    "#Será usado numpy"
   ]
  },
  {
   "cell_type": "markdown",
   "id": "7e464133",
   "metadata": {},
   "source": [
    "# Inner Product"
   ]
  },
  {
   "cell_type": "code",
   "execution_count": 4,
   "id": "ddb19b2e",
   "metadata": {},
   "outputs": [],
   "source": [
    "import numpy as np"
   ]
  },
  {
   "cell_type": "code",
   "execution_count": 5,
   "id": "490a590c",
   "metadata": {},
   "outputs": [],
   "source": [
    "a = np.array([1,2,3])\n",
    "b = np.array([5,-3,8])"
   ]
  },
  {
   "cell_type": "code",
   "execution_count": 6,
   "id": "e3c20094",
   "metadata": {},
   "outputs": [
    {
     "name": "stdout",
     "output_type": "stream",
     "text": [
      "a =  [1 2 3]\n",
      "b =  [ 5 -3  8]\n"
     ]
    }
   ],
   "source": [
    "print(\"a = \", a)\n",
    "print(\"b = \", b)"
   ]
  },
  {
   "cell_type": "code",
   "execution_count": 10,
   "id": "113b6277",
   "metadata": {},
   "outputs": [
    {
     "name": "stdout",
     "output_type": "stream",
     "text": [
      "\n",
      "inner:  23\n"
     ]
    }
   ],
   "source": [
    "print(\"\\ninner: \", np.inner(a,b))"
   ]
  },
  {
   "cell_type": "code",
   "execution_count": 12,
   "id": "05d8ce8a",
   "metadata": {},
   "outputs": [
    {
     "name": "stdout",
     "output_type": "stream",
     "text": [
      "\n",
      "dot:   23\n"
     ]
    }
   ],
   "source": [
    "print(\"\\ndot:  \", np.dot(a,b))"
   ]
  },
  {
   "cell_type": "markdown",
   "id": "00465b05",
   "metadata": {},
   "source": [
    "# Objetos: ndarray,  matrix"
   ]
  },
  {
   "cell_type": "code",
   "execution_count": null,
   "id": "ae175427",
   "metadata": {},
   "outputs": [],
   "source": []
  }
 ],
 "metadata": {
  "kernelspec": {
   "display_name": "Python 3",
   "language": "python",
   "name": "python3"
  },
  "language_info": {
   "codemirror_mode": {
    "name": "ipython",
    "version": 3
   },
   "file_extension": ".py",
   "mimetype": "text/x-python",
   "name": "python",
   "nbconvert_exporter": "python",
   "pygments_lexer": "ipython3",
   "version": "3.8.8"
  }
 },
 "nbformat": 4,
 "nbformat_minor": 5
}
