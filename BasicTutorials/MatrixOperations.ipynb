{
 "cells": [
  {
   "cell_type": "code",
   "execution_count": 30,
   "id": "1b6a1d92",
   "metadata": {},
   "outputs": [],
   "source": [
    "#Será usado numpy\n",
    "#Tutorial: https://towardsdatascience.com/top-10-matrix-operations-in-numpy-with-examples-d761448cb7a8"
   ]
  },
  {
   "cell_type": "markdown",
   "id": "7b7ea983",
   "metadata": {},
   "source": [
    "# Inner Product"
   ]
  },
  {
   "cell_type": "code",
   "execution_count": 4,
   "id": "e739e664",
   "metadata": {},
   "outputs": [],
   "source": [
    "import numpy as np"
   ]
  },
  {
   "cell_type": "code",
   "execution_count": 5,
   "id": "3cb7ee03",
   "metadata": {},
   "outputs": [],
   "source": [
    "a = np.array([1,2,3])\n",
    "b = np.array([5,-3,8])"
   ]
  },
  {
   "cell_type": "code",
   "execution_count": 6,
   "id": "48aed2c0",
   "metadata": {},
   "outputs": [
    {
     "name": "stdout",
     "output_type": "stream",
     "text": [
      "a =  [1 2 3]\n",
      "b =  [ 5 -3  8]\n"
     ]
    }
   ],
   "source": [
    "print(\"a = \", a)\n",
    "print(\"b = \", b)"
   ]
  },
  {
   "cell_type": "code",
   "execution_count": 10,
   "id": "c06e4b16",
   "metadata": {},
   "outputs": [
    {
     "name": "stdout",
     "output_type": "stream",
     "text": [
      "\n",
      "inner:  23\n"
     ]
    }
   ],
   "source": [
    "print(\"\\ninner: \", np.inner(a,b))"
   ]
  },
  {
   "cell_type": "code",
   "execution_count": 12,
   "id": "d6e93a30",
   "metadata": {},
   "outputs": [
    {
     "name": "stdout",
     "output_type": "stream",
     "text": [
      "\n",
      "dot:   23\n"
     ]
    }
   ],
   "source": [
    "print(\"\\ndot:  \", np.dot(a,b))"
   ]
  },
  {
   "cell_type": "markdown",
   "id": "322f2378",
   "metadata": {},
   "source": [
    "# Objeto: ndarray"
   ]
  },
  {
   "cell_type": "code",
   "execution_count": 25,
   "id": "46cc8880",
   "metadata": {},
   "outputs": [
    {
     "name": "stdout",
     "output_type": "stream",
     "text": [
      "a:  <class 'numpy.ndarray'>\n",
      "[[1 3]\n",
      " [2 0]]\n",
      "\n",
      "b:  <class 'numpy.ndarray'>\n",
      "[[-2  5  0]\n",
      " [-2  1 -1]]\n"
     ]
    }
   ],
   "source": [
    "a = np.array([[1,3],[2, 0]])\n",
    "b = np.array([[-2,5,0],[-2,1, -1]])\n",
    "print(\"a: \", type(a))\n",
    "print(a)\n",
    "print(\"\\nb: \", type(b))\n",
    "print(b)"
   ]
  },
  {
   "cell_type": "markdown",
   "id": "b028173c",
   "metadata": {},
   "source": [
    "# Objeto: matrix"
   ]
  },
  {
   "cell_type": "code",
   "execution_count": 26,
   "id": "eecb9306",
   "metadata": {},
   "outputs": [
    {
     "name": "stdout",
     "output_type": "stream",
     "text": [
      "\n",
      "c:  <class 'numpy.matrix'>\n",
      "[[1 3]\n",
      " [2 0]]\n",
      "\n",
      "d:  <class 'numpy.matrix'>\n",
      "[[-2  5  0]\n",
      " [-2  1  6]]\n"
     ]
    }
   ],
   "source": [
    "c = np.matrix([[1,3],[2, 0]])\n",
    "d = np.matrix([[-2,5,0],[-2,1,6]])\n",
    "print(\"\\nc: \", type(c))\n",
    "print(c)\n",
    "print(\"\\nd: \", type(d))\n",
    "print(d)"
   ]
  },
  {
   "cell_type": "code",
   "execution_count": 36,
   "id": "63eacb9e",
   "metadata": {},
   "outputs": [
    {
     "ename": "ValueError",
     "evalue": "shapes (2,2) and (3,2) not aligned: 2 (dim 1) != 3 (dim 0)",
     "output_type": "error",
     "traceback": [
      "\u001b[0;31m---------------------------------------------------------------------------\u001b[0m",
      "\u001b[0;31mValueError\u001b[0m                                Traceback (most recent call last)",
      "\u001b[0;32m<ipython-input-36-12ad8ab53852>\u001b[0m in \u001b[0;36m<module>\u001b[0;34m\u001b[0m\n\u001b[0;32m----> 1\u001b[0;31m \u001b[0mprint\u001b[0m\u001b[0;34m(\u001b[0m\u001b[0;34m\"\\ninner: \"\u001b[0m\u001b[0;34m,\u001b[0m \u001b[0mnp\u001b[0m\u001b[0;34m.\u001b[0m\u001b[0minner\u001b[0m\u001b[0;34m(\u001b[0m\u001b[0mc\u001b[0m\u001b[0;34m,\u001b[0m\u001b[0md\u001b[0m\u001b[0;34m)\u001b[0m\u001b[0;34m)\u001b[0m\u001b[0;34m\u001b[0m\u001b[0;34m\u001b[0m\u001b[0m\n\u001b[0m",
      "\u001b[0;32m<__array_function__ internals>\u001b[0m in \u001b[0;36minner\u001b[0;34m(*args, **kwargs)\u001b[0m\n",
      "\u001b[0;31mValueError\u001b[0m: shapes (2,2) and (3,2) not aligned: 2 (dim 1) != 3 (dim 0)"
     ]
    }
   ],
   "source": [
    "print(\"\\ninner: \", np.inner(c,d))"
   ]
  },
  {
   "cell_type": "code",
   "execution_count": 28,
   "id": "ab73041a",
   "metadata": {
    "scrolled": true
   },
   "outputs": [
    {
     "name": "stdout",
     "output_type": "stream",
     "text": [
      "\n",
      "inner:  [[-8  8 18]\n",
      " [-4 10  0]]\n"
     ]
    }
   ],
   "source": [
    "print(\"\\ninner: \", np.dot(c,d))"
   ]
  },
  {
   "cell_type": "code",
   "execution_count": 33,
   "id": "2f3598e0",
   "metadata": {},
   "outputs": [
    {
     "ename": "ValueError",
     "evalue": "operands could not be broadcast together with shapes (2,2) (2,3) ",
     "output_type": "error",
     "traceback": [
      "\u001b[0;31m---------------------------------------------------------------------------\u001b[0m",
      "\u001b[0;31mValueError\u001b[0m                                Traceback (most recent call last)",
      "\u001b[0;32m<ipython-input-33-21f961b7a520>\u001b[0m in \u001b[0;36m<module>\u001b[0;34m\u001b[0m\n\u001b[0;32m----> 1\u001b[0;31m \u001b[0mprint\u001b[0m\u001b[0;34m(\u001b[0m\u001b[0ma\u001b[0m \u001b[0;34m*\u001b[0m \u001b[0mb\u001b[0m\u001b[0;34m)\u001b[0m\u001b[0;34m\u001b[0m\u001b[0;34m\u001b[0m\u001b[0m\n\u001b[0m",
      "\u001b[0;31mValueError\u001b[0m: operands could not be broadcast together with shapes (2,2) (2,3) "
     ]
    }
   ],
   "source": [
    "print(a * b)"
   ]
  },
  {
   "cell_type": "markdown",
   "id": "12f5dd16",
   "metadata": {},
   "source": [
    "# Dot Product"
   ]
  },
  {
   "cell_type": "code",
   "execution_count": 34,
   "id": "deebf601",
   "metadata": {},
   "outputs": [
    {
     "name": "stdout",
     "output_type": "stream",
     "text": [
      "a <class 'numpy.ndarray'>\n",
      "[[1 2]\n",
      " [3 4]]\n",
      "\n",
      "b <class 'numpy.ndarray'>\n",
      "[[5 6]\n",
      " [8 9]]\n",
      "\n",
      "* operation on two ndarray objects (Elementwise)\n",
      "Producto Normal:  [[ 5 12]\n",
      " [24 36]]\n",
      "\n",
      "* operation on two matrix objects (same as np.dot())\n",
      "\n",
      "Producto punto:  [[21 24]\n",
      " [47 54]]\n"
     ]
    }
   ],
   "source": [
    "# Matrices as ndarray objects\n",
    "a = np.array([[1, 2], [3, 4]])\n",
    "b = np.array([[5, 6], [8, 9]])\n",
    "print(\"a\", type(a))\n",
    "print(a)\n",
    "print(\"\\nb\", type(b))\n",
    "print(b)\n",
    "\n",
    "print(\"\\n* operation on two ndarray objects (Elementwise)\")\n",
    "print(\"Producto Normal: \", a * b)\n",
    "print(\"\\n* operation on two matrix objects (same as np.dot())\")\n",
    "print(\"\\nProducto punto: \", np.dot(a,b))"
   ]
  },
  {
   "cell_type": "markdown",
   "id": "609de276",
   "metadata": {},
   "source": [
    "# Transpuesta"
   ]
  },
  {
   "cell_type": "code",
   "execution_count": 37,
   "id": "3c62f425",
   "metadata": {},
   "outputs": [
    {
     "name": "stdout",
     "output_type": "stream",
     "text": [
      "a = \n",
      "[[1 2]\n",
      " [3 4]\n",
      " [5 6]]\n",
      "\n",
      "With np.transpose(a) function\n",
      "[[1 3 5]\n",
      " [2 4 6]]\n",
      "\n",
      "With ndarray.transpose() method\n",
      "[[1 3 5]\n",
      " [2 4 6]]\n",
      "\n",
      "With ndarray.T short form\n",
      "[[1 3 5]\n",
      " [2 4 6]]\n"
     ]
    }
   ],
   "source": [
    "a = np.array([[1, 2], [3, 4], [5, 6]])\n",
    "print(\"a = \")\n",
    "print(a)\n",
    "\n",
    "print(\"\\nWith np.transpose(a) function\")\n",
    "print(np.transpose(a))\n",
    "\n",
    "print(\"\\nWith ndarray.transpose() method\")\n",
    "print(a.transpose())\n",
    "\n",
    "print(\"\\nWith ndarray.T short form\")\n",
    "print(a.T)"
   ]
  },
  {
   "cell_type": "code",
   "execution_count": 38,
   "id": "51074bd0",
   "metadata": {},
   "outputs": [],
   "source": [
    "#Transpuesta de un vector: CUIDADO !"
   ]
  },
  {
   "cell_type": "code",
   "execution_count": 40,
   "id": "0b94083f",
   "metadata": {},
   "outputs": [
    {
     "name": "stdout",
     "output_type": "stream",
     "text": [
      "a = \n",
      "[1 2 3]\n",
      "\n",
      "Transpuesta = \n",
      "[1 2 3]\n"
     ]
    }
   ],
   "source": [
    "a = np.array([1, 2, 3])\n",
    "print(\"a = \")\n",
    "print(a)\n",
    "print(\"\\nTranspuesta = \")\n",
    "print(np.transpose(a))"
   ]
  },
  {
   "cell_type": "code",
   "execution_count": 41,
   "id": "12e58e95",
   "metadata": {},
   "outputs": [],
   "source": [
    "#Se debe colocar el vector como un arreglo de dos dimensiones"
   ]
  },
  {
   "cell_type": "code",
   "execution_count": 42,
   "id": "70349ade",
   "metadata": {},
   "outputs": [
    {
     "name": "stdout",
     "output_type": "stream",
     "text": [
      "a = \n",
      "[[1 2 3]]\n",
      "[[1]\n",
      " [2]\n",
      " [3]]\n"
     ]
    }
   ],
   "source": [
    "a = np.array([[1, 2, 3]])\n",
    "print(\"a = \")\n",
    "print(a)\n",
    "print(np.transpose(a))"
   ]
  },
  {
   "cell_type": "markdown",
   "id": "367e3edb",
   "metadata": {},
   "source": [
    "# Suma de las Diagonales"
   ]
  },
  {
   "cell_type": "code",
   "execution_count": 43,
   "id": "ead89746",
   "metadata": {},
   "outputs": [
    {
     "name": "stdout",
     "output_type": "stream",
     "text": [
      "a = \n",
      "[[2 2 1]\n",
      " [1 3 1]\n",
      " [1 2 2]]\n",
      "\n",
      "Trace: 7\n",
      "Trace: 7\n"
     ]
    }
   ],
   "source": [
    "import numpy as np\n",
    "a = np.array([[2, 2, 1],\n",
    "               [1, 3, 1],\n",
    "               [1, 2, 2]])\n",
    "print(\"a = \")\n",
    "print(a)\n",
    "print(\"\\nTrace:\", a.trace())\n",
    "print(\"Trace:\", sum(a.diagonal()))"
   ]
  },
  {
   "cell_type": "markdown",
   "id": "83d6ac36",
   "metadata": {},
   "source": [
    "# Rango"
   ]
  },
  {
   "cell_type": "code",
   "execution_count": 44,
   "id": "d938b917",
   "metadata": {},
   "outputs": [
    {
     "name": "stdout",
     "output_type": "stream",
     "text": [
      "a = \n",
      "[[1 2 3]\n",
      " [4 5 6]\n",
      " [7 8 9]]\n",
      "\n",
      "Rank: 2\n"
     ]
    }
   ],
   "source": [
    "a = np.arange(1, 10)\n",
    "a.shape = (3, 3)\n",
    "print(\"a = \")\n",
    "print(a)\n",
    "rank = np.linalg.matrix_rank(a)\n",
    "print(\"\\nRank:\", rank)"
   ]
  },
  {
   "cell_type": "markdown",
   "id": "6449f03a",
   "metadata": {},
   "source": [
    "# Verdadera Inversa"
   ]
  },
  {
   "cell_type": "code",
   "execution_count": 45,
   "id": "e4df7c6e",
   "metadata": {},
   "outputs": [
    {
     "name": "stdout",
     "output_type": "stream",
     "text": [
      "a = \n",
      "[[2 2 1]\n",
      " [1 3 1]\n",
      " [1 2 2]]\n",
      "\n",
      "Determinant round: 5.0\n",
      "\n",
      "Determinant No-round: 4.999999999999999\n",
      "\n",
      "Inverse of a = \n",
      "[[ 0.8 -0.4 -0.2]\n",
      " [-0.2  0.6 -0.2]\n",
      " [-0.2 -0.4  0.8]]\n"
     ]
    }
   ],
   "source": [
    "a = np.array([[2, 2, 1],\n",
    "               [1, 3, 1],\n",
    "               [1, 2, 2]])\n",
    "print(\"a = \")\n",
    "print(a)\n",
    "det = np.linalg.det(a)\n",
    "print(\"\\nDeterminant round:\", np.round(det))\n",
    "print(\"\\nDeterminant No-round:\", det)\n",
    "inv = np.linalg.inv(a)\n",
    "print(\"\\nInverse of a = \")\n",
    "print(inv)"
   ]
  },
  {
   "cell_type": "markdown",
   "id": "92ba3674",
   "metadata": {},
   "source": [
    "# Flatten:"
   ]
  },
  {
   "cell_type": "code",
   "execution_count": 46,
   "id": "e9266581",
   "metadata": {},
   "outputs": [],
   "source": [
    "#Es un método para colocar en secuencia (vector fila) todos los elementos de un matriz rectangular."
   ]
  },
  {
   "cell_type": "code",
   "execution_count": 47,
   "id": "c6562b1a",
   "metadata": {},
   "outputs": [
    {
     "name": "stdout",
     "output_type": "stream",
     "text": [
      "a = \n",
      "[[1 2 3]\n",
      " [4 5 6]\n",
      " [7 8 9]]\n",
      "\n",
      "After flattening\n",
      "------------------\n",
      "[1 2 3 4 5 6 7 8 9]\n"
     ]
    }
   ],
   "source": [
    "a = np.arange(1, 10)\n",
    "a.shape = (3, 3)\n",
    "print(\"a = \")\n",
    "print(a)\n",
    "print(\"\\nAfter flattening\")\n",
    "print(\"------------------\")\n",
    "print(a.flatten())"
   ]
  },
  {
   "cell_type": "markdown",
   "id": "47bc64cc",
   "metadata": {},
   "source": [
    "# Eigenvalues and eigenvectors"
   ]
  },
  {
   "cell_type": "code",
   "execution_count": 48,
   "id": "66545829",
   "metadata": {},
   "outputs": [
    {
     "name": "stdout",
     "output_type": "stream",
     "text": [
      "a = \n",
      "[[2 2 1]\n",
      " [1 3 1]\n",
      " [1 2 2]]\n",
      "\n",
      "Eigenvalues:\n",
      "[5. 1. 1.]\n",
      "\n",
      "Eigenvectors:\n",
      "[[ 0.57735027  0.90453403  0.36601928]\n",
      " [ 0.57735027 -0.30151134 -0.55609927]\n",
      " [ 0.57735027 -0.30151134  0.74617926]]\n"
     ]
    }
   ],
   "source": [
    "a = np.array([[2, 2, 1],\n",
    "               [1, 3, 1],\n",
    "               [1, 2, 2]])\n",
    "print(\"a = \")\n",
    "print(a)\n",
    "w, v = np.linalg.eig(a)\n",
    "print(\"\\nEigenvalues:\")\n",
    "print(w)\n",
    "print(\"\\nEigenvectors:\")\n",
    "print(v)"
   ]
  },
  {
   "cell_type": "code",
   "execution_count": null,
   "id": "78a48ea3",
   "metadata": {},
   "outputs": [],
   "source": []
  }
 ],
 "metadata": {
  "kernelspec": {
   "display_name": "Python 3",
   "language": "python",
   "name": "python3"
  },
  "language_info": {
   "codemirror_mode": {
    "name": "ipython",
    "version": 3
   },
   "file_extension": ".py",
   "mimetype": "text/x-python",
   "name": "python",
   "nbconvert_exporter": "python",
   "pygments_lexer": "ipython3",
   "version": "3.8.8"
  }
 },
 "nbformat": 4,
 "nbformat_minor": 5
}
