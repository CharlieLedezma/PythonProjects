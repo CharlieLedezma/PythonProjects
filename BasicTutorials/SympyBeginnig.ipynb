{
 "cells": [
  {
   "cell_type": "markdown",
   "id": "c3052683",
   "metadata": {},
   "source": [
    "# sympy Imports"
   ]
  },
  {
   "cell_type": "code",
   "execution_count": 216,
   "id": "8c507d43",
   "metadata": {},
   "outputs": [],
   "source": [
    "#import sympy\n",
    "#from sympy.abc import r \n",
    "#from sympy import Derivative\n",
    "#from sympy.matrices import Matrix\n",
    "#from sympy.matrices import eye\n",
    "#from sympy.matrices import diag\n",
    "#from sympy.matrices import zeros\n",
    "#from sympy.matrices import ones\n",
    "#from sympy import Float\n",
    "#from sympy import Rational\n",
    "#from sympy import Integer\n",
    "#from sympy import Symbol\n",
    "#from sympy import sympify\n",
    "#from sympy.plotting import plot"
   ]
  },
  {
   "cell_type": "code",
   "execution_count": 5,
   "id": "afc2095b",
   "metadata": {},
   "outputs": [],
   "source": [
    "from sympy import Float"
   ]
  },
  {
   "cell_type": "code",
   "execution_count": 6,
   "id": "5519f868",
   "metadata": {},
   "outputs": [
    {
     "data": {
      "text/latex": [
       "$\\displaystyle 6.23$"
      ],
      "text/plain": [
       "6.23000000000000"
      ]
     },
     "execution_count": 6,
     "metadata": {},
     "output_type": "execute_result"
    }
   ],
   "source": [
    "Float(6.23)"
   ]
  },
  {
   "cell_type": "code",
   "execution_count": 8,
   "id": "8ba68895",
   "metadata": {},
   "outputs": [
    {
     "data": {
      "text/latex": [
       "$\\displaystyle 20.0$"
      ],
      "text/plain": [
       "20.0000000000000"
      ]
     },
     "execution_count": 8,
     "metadata": {},
     "output_type": "execute_result"
    }
   ],
   "source": [
    "Float(20)"
   ]
  },
  {
   "cell_type": "code",
   "execution_count": 9,
   "id": "b045e07b",
   "metadata": {},
   "outputs": [
    {
     "data": {
      "text/latex": [
       "$\\displaystyle 1.3$"
      ],
      "text/plain": [
       "1.3"
      ]
     },
     "execution_count": 9,
     "metadata": {},
     "output_type": "execute_result"
    }
   ],
   "source": [
    "Float(1.33333,2)"
   ]
  },
  {
   "cell_type": "code",
   "execution_count": 11,
   "id": "829a45df",
   "metadata": {},
   "outputs": [],
   "source": [
    "from sympy import Rational"
   ]
  },
  {
   "cell_type": "code",
   "execution_count": 12,
   "id": "62f6265f",
   "metadata": {},
   "outputs": [
    {
     "data": {
      "text/latex": [
       "$\\displaystyle \\frac{3}{4}$"
      ],
      "text/plain": [
       "3/4"
      ]
     },
     "execution_count": 12,
     "metadata": {},
     "output_type": "execute_result"
    }
   ],
   "source": [
    "Rational(3/4)"
   ]
  },
  {
   "cell_type": "code",
   "execution_count": 14,
   "id": "3635f155",
   "metadata": {},
   "outputs": [
    {
     "data": {
      "text/latex": [
       "$\\displaystyle \\frac{1}{4}$"
      ],
      "text/plain": [
       "1/4"
      ]
     },
     "execution_count": 14,
     "metadata": {},
     "output_type": "execute_result"
    }
   ],
   "source": [
    "Rational(0.25)"
   ]
  },
  {
   "cell_type": "code",
   "execution_count": 15,
   "id": "41717cdc",
   "metadata": {},
   "outputs": [],
   "source": [
    "from sympy import Integer"
   ]
  },
  {
   "cell_type": "code",
   "execution_count": 16,
   "id": "872a1a11",
   "metadata": {},
   "outputs": [
    {
     "data": {
      "text/latex": [
       "$\\displaystyle 5$"
      ],
      "text/plain": [
       "5"
      ]
     },
     "execution_count": 16,
     "metadata": {},
     "output_type": "execute_result"
    }
   ],
   "source": [
    "Integer(5.2)"
   ]
  },
  {
   "cell_type": "code",
   "execution_count": 17,
   "id": "948adbcf",
   "metadata": {},
   "outputs": [],
   "source": [
    "from sympy import S "
   ]
  },
  {
   "cell_type": "code",
   "execution_count": 18,
   "id": "1ddf801e",
   "metadata": {},
   "outputs": [
    {
     "name": "stdout",
     "output_type": "stream",
     "text": [
      "1/2\n"
     ]
    }
   ],
   "source": [
    "print (S.Half)"
   ]
  },
  {
   "cell_type": "code",
   "execution_count": 19,
   "id": "52c65b87",
   "metadata": {
    "scrolled": true
   },
   "outputs": [
    {
     "data": {
      "text/latex": [
       "$\\displaystyle \\infty$"
      ],
      "text/plain": [
       "oo"
      ]
     },
     "execution_count": 19,
     "metadata": {},
     "output_type": "execute_result"
    }
   ],
   "source": [
    "S.Infinity"
   ]
  },
  {
   "cell_type": "markdown",
   "id": "321cd97d",
   "metadata": {},
   "source": [
    "# Declaración símbolos"
   ]
  },
  {
   "cell_type": "code",
   "execution_count": null,
   "id": "79f7d8ff",
   "metadata": {},
   "outputs": [],
   "source": [
    "#x = Symbol('x')\n",
    "#y = Symbol('y')\n",
    "#x,y,z =symbols(\"x,y,z\")\n",
    "#x,y = symbols('x y')\n",
    "#from sympy.abc import a,b"
   ]
  },
  {
   "cell_type": "code",
   "execution_count": 21,
   "id": "f1b7b59d",
   "metadata": {},
   "outputs": [],
   "source": [
    "from sympy import Symbol"
   ]
  },
  {
   "cell_type": "code",
   "execution_count": 22,
   "id": "963cc881",
   "metadata": {},
   "outputs": [],
   "source": [
    "x = Symbol('x')"
   ]
  },
  {
   "cell_type": "code",
   "execution_count": 23,
   "id": "1a486274",
   "metadata": {},
   "outputs": [],
   "source": [
    "y=Symbol('y')"
   ]
  },
  {
   "cell_type": "code",
   "execution_count": 24,
   "id": "11ecb51c",
   "metadata": {},
   "outputs": [],
   "source": [
    "expr=x**2+y**2"
   ]
  },
  {
   "cell_type": "code",
   "execution_count": 25,
   "id": "02b844aa",
   "metadata": {},
   "outputs": [
    {
     "data": {
      "text/latex": [
       "$\\displaystyle x^{2} + y^{2}$"
      ],
      "text/plain": [
       "x**2 + y**2"
      ]
     },
     "execution_count": 25,
     "metadata": {},
     "output_type": "execute_result"
    }
   ],
   "source": [
    "expr"
   ]
  },
  {
   "cell_type": "code",
   "execution_count": 26,
   "id": "bfe4dafc",
   "metadata": {},
   "outputs": [],
   "source": [
    "s=Symbol('side') "
   ]
  },
  {
   "cell_type": "code",
   "execution_count": 27,
   "id": "181e0c7b",
   "metadata": {},
   "outputs": [
    {
     "data": {
      "text/latex": [
       "$\\displaystyle side$"
      ],
      "text/plain": [
       "side"
      ]
     },
     "execution_count": 27,
     "metadata": {},
     "output_type": "execute_result"
    }
   ],
   "source": [
    "s"
   ]
  },
  {
   "cell_type": "code",
   "execution_count": 28,
   "id": "b76ec05e",
   "metadata": {},
   "outputs": [
    {
     "data": {
      "text/latex": [
       "$\\displaystyle side^{3}$"
      ],
      "text/plain": [
       "side**3"
      ]
     },
     "execution_count": 28,
     "metadata": {},
     "output_type": "execute_result"
    }
   ],
   "source": [
    "s**3"
   ]
  },
  {
   "cell_type": "code",
   "execution_count": 29,
   "id": "a630a493",
   "metadata": {},
   "outputs": [],
   "source": [
    "from sympy import symbols "
   ]
  },
  {
   "cell_type": "code",
   "execution_count": 30,
   "id": "fbc173a0",
   "metadata": {},
   "outputs": [],
   "source": [
    "x,y,z=symbols(\"x,y,z\")"
   ]
  },
  {
   "cell_type": "code",
   "execution_count": 31,
   "id": "c9eb0f71",
   "metadata": {},
   "outputs": [],
   "source": [
    "from sympy import symbols"
   ]
  },
  {
   "cell_type": "code",
   "execution_count": 32,
   "id": "60955b96",
   "metadata": {},
   "outputs": [
    {
     "data": {
      "text/plain": [
       "(a0, a1, a2, a3, a4)"
      ]
     },
     "execution_count": 32,
     "metadata": {},
     "output_type": "execute_result"
    }
   ],
   "source": [
    "symbols('a:5')"
   ]
  },
  {
   "cell_type": "code",
   "execution_count": 37,
   "id": "06a2d216",
   "metadata": {},
   "outputs": [],
   "source": [
    "from sympy.abc import x,a\n",
    "from sympy import sin, cos"
   ]
  },
  {
   "cell_type": "code",
   "execution_count": 38,
   "id": "15b61476",
   "metadata": {},
   "outputs": [],
   "source": [
    "expr=sin(x)*sin(x)+cos(x)*cos(x)"
   ]
  },
  {
   "cell_type": "code",
   "execution_count": 39,
   "id": "3617c55f",
   "metadata": {},
   "outputs": [
    {
     "data": {
      "text/latex": [
       "$\\displaystyle \\sin^{2}{\\left(x \\right)} + \\cos^{2}{\\left(x \\right)}$"
      ],
      "text/plain": [
       "sin(x)**2 + cos(x)**2"
      ]
     },
     "execution_count": 39,
     "metadata": {},
     "output_type": "execute_result"
    }
   ],
   "source": [
    "expr"
   ]
  },
  {
   "cell_type": "code",
   "execution_count": 40,
   "id": "31a0da90",
   "metadata": {},
   "outputs": [
    {
     "data": {
      "text/latex": [
       "$\\displaystyle \\sin^{2}{\\left(a \\right)} + \\cos^{2}{\\left(a \\right)}$"
      ],
      "text/plain": [
       "sin(a)**2 + cos(a)**2"
      ]
     },
     "execution_count": 40,
     "metadata": {},
     "output_type": "execute_result"
    }
   ],
   "source": [
    "expr.subs(x,a)"
   ]
  },
  {
   "cell_type": "code",
   "execution_count": 43,
   "id": "ff26ad48",
   "metadata": {},
   "outputs": [
    {
     "data": {
      "text/latex": [
       "$\\displaystyle \\cos^{2}{\\left(5 \\right)} + \\sin^{2}{\\left(5 \\right)}$"
      ],
      "text/plain": [
       "cos(5)**2 + sin(5)**2"
      ]
     },
     "execution_count": 43,
     "metadata": {},
     "output_type": "execute_result"
    }
   ],
   "source": [
    "a=5\n",
    "expr.subs(x,a)"
   ]
  },
  {
   "cell_type": "code",
   "execution_count": 44,
   "id": "fb25f420",
   "metadata": {},
   "outputs": [
    {
     "data": {
      "text/latex": [
       "$\\displaystyle \\sin^{2}{\\left(x \\right)} + \\cos^{2}{\\left(x \\right)}$"
      ],
      "text/plain": [
       "sin(x)**2 + cos(x)**2"
      ]
     },
     "execution_count": 44,
     "metadata": {},
     "output_type": "execute_result"
    }
   ],
   "source": [
    "expr"
   ]
  },
  {
   "cell_type": "code",
   "execution_count": 45,
   "id": "8119a9a2",
   "metadata": {},
   "outputs": [
    {
     "data": {
      "text/latex": [
       "$\\displaystyle \\cos^{2}{\\left(5 \\right)} + \\sin^{2}{\\left(5 \\right)}$"
      ],
      "text/plain": [
       "cos(5)**2 + sin(5)**2"
      ]
     },
     "execution_count": 45,
     "metadata": {},
     "output_type": "execute_result"
    }
   ],
   "source": [
    "expr.subs(x,5)"
   ]
  },
  {
   "cell_type": "code",
   "execution_count": 46,
   "id": "f943f562",
   "metadata": {},
   "outputs": [],
   "source": [
    "expr=a*a+2*a+5"
   ]
  },
  {
   "cell_type": "code",
   "execution_count": 47,
   "id": "8a435f2b",
   "metadata": {},
   "outputs": [
    {
     "data": {
      "text/plain": [
       "40"
      ]
     },
     "execution_count": 47,
     "metadata": {},
     "output_type": "execute_result"
    }
   ],
   "source": [
    "expr"
   ]
  },
  {
   "cell_type": "code",
   "execution_count": 48,
   "id": "2fc4c235",
   "metadata": {},
   "outputs": [],
   "source": [
    "from sympy import sin, pi "
   ]
  },
  {
   "cell_type": "code",
   "execution_count": 49,
   "id": "99c8a483",
   "metadata": {},
   "outputs": [],
   "source": [
    "expr=sin(x)"
   ]
  },
  {
   "cell_type": "code",
   "execution_count": 53,
   "id": "14e45523",
   "metadata": {},
   "outputs": [],
   "source": [
    "expr1=expr.subs(x,pi)"
   ]
  },
  {
   "cell_type": "code",
   "execution_count": 54,
   "id": "be4f9281",
   "metadata": {},
   "outputs": [
    {
     "data": {
      "text/latex": [
       "$\\displaystyle 0$"
      ],
      "text/plain": [
       "0"
      ]
     },
     "execution_count": 54,
     "metadata": {},
     "output_type": "execute_result"
    }
   ],
   "source": [
    "expr1"
   ]
  },
  {
   "cell_type": "code",
   "execution_count": 55,
   "id": "61c90df4",
   "metadata": {},
   "outputs": [],
   "source": [
    "from sympy.abc import a,b"
   ]
  },
  {
   "cell_type": "code",
   "execution_count": 56,
   "id": "116c039a",
   "metadata": {},
   "outputs": [],
   "source": [
    "expr=(a+b)**2"
   ]
  },
  {
   "cell_type": "code",
   "execution_count": 57,
   "id": "ecd8397c",
   "metadata": {},
   "outputs": [
    {
     "data": {
      "text/latex": [
       "$\\displaystyle \\left(a + b\\right)^{2}$"
      ],
      "text/plain": [
       "(a + b)**2"
      ]
     },
     "execution_count": 57,
     "metadata": {},
     "output_type": "execute_result"
    }
   ],
   "source": [
    "expr"
   ]
  },
  {
   "cell_type": "code",
   "execution_count": 58,
   "id": "f5952609",
   "metadata": {
    "scrolled": true
   },
   "outputs": [
    {
     "data": {
      "text/latex": [
       "$\\displaystyle \\left(2 a + b\\right)^{2}$"
      ],
      "text/plain": [
       "(2*a + b)**2"
      ]
     },
     "execution_count": 58,
     "metadata": {},
     "output_type": "execute_result"
    }
   ],
   "source": [
    "expr1=expr.subs(b,a+b)\n",
    "expr1"
   ]
  },
  {
   "cell_type": "code",
   "execution_count": 63,
   "id": "176999d6",
   "metadata": {},
   "outputs": [],
   "source": [
    "from sympy import sympify"
   ]
  },
  {
   "cell_type": "code",
   "execution_count": 64,
   "id": "8938a4d0",
   "metadata": {},
   "outputs": [
    {
     "data": {
      "text/latex": [
       "$\\displaystyle 12$"
      ],
      "text/plain": [
       "12"
      ]
     },
     "execution_count": 64,
     "metadata": {},
     "output_type": "execute_result"
    }
   ],
   "source": [
    "expr=\"x**2+3*x+2\"\n",
    "expr1=sympify(expr)\n",
    "expr1\n",
    "expr1.subs(x,2)"
   ]
  },
  {
   "cell_type": "code",
   "execution_count": 65,
   "id": "c9fefdfe",
   "metadata": {},
   "outputs": [
    {
     "data": {
      "text/latex": [
       "$\\displaystyle x^{2} + 3 x + 2$"
      ],
      "text/plain": [
       "x**2 + 3*x + 2"
      ]
     },
     "execution_count": 65,
     "metadata": {},
     "output_type": "execute_result"
    }
   ],
   "source": [
    "expr1"
   ]
  },
  {
   "cell_type": "code",
   "execution_count": 68,
   "id": "a11b15f5",
   "metadata": {},
   "outputs": [
    {
     "data": {
      "text/latex": [
       "$\\displaystyle 3 y + z^{2} + 2$"
      ],
      "text/plain": [
       "3*y + z**2 + 2"
      ]
     },
     "execution_count": 68,
     "metadata": {},
     "output_type": "execute_result"
    }
   ],
   "source": [
    "expr=\"z**2+3*y+2\"\n",
    "expr2=sympify(expr)\n",
    "expr2"
   ]
  },
  {
   "cell_type": "code",
   "execution_count": 69,
   "id": "6da2c761",
   "metadata": {},
   "outputs": [
    {
     "data": {
      "text/latex": [
       "$\\displaystyle 4$"
      ],
      "text/plain": [
       "4"
      ]
     },
     "execution_count": 69,
     "metadata": {},
     "output_type": "execute_result"
    }
   ],
   "source": [
    "sympify(\"10/5+4/2\")"
   ]
  },
  {
   "cell_type": "code",
   "execution_count": 70,
   "id": "142e5945",
   "metadata": {},
   "outputs": [
    {
     "data": {
      "text/latex": [
       "$\\displaystyle \\frac{10}{5} + \\frac{4}{2}$"
      ],
      "text/plain": [
       "10/5 + 4/2"
      ]
     },
     "execution_count": 70,
     "metadata": {},
     "output_type": "execute_result"
    }
   ],
   "source": [
    "sympify(\"10/5+4/2\", evaluate=False)"
   ]
  },
  {
   "cell_type": "code",
   "execution_count": 71,
   "id": "21fe5479",
   "metadata": {},
   "outputs": [],
   "source": [
    "from sympy.abc import r "
   ]
  },
  {
   "cell_type": "code",
   "execution_count": 72,
   "id": "0def7f3e",
   "metadata": {},
   "outputs": [
    {
     "data": {
      "text/latex": [
       "$\\displaystyle \\pi r^{2}$"
      ],
      "text/plain": [
       "pi*r**2"
      ]
     },
     "execution_count": 72,
     "metadata": {},
     "output_type": "execute_result"
    }
   ],
   "source": [
    "expr=pi*r**2\n",
    "expr"
   ]
  },
  {
   "cell_type": "code",
   "execution_count": 73,
   "id": "ed98e9e8",
   "metadata": {},
   "outputs": [
    {
     "data": {
      "text/latex": [
       "$\\displaystyle 78.5398163397448$"
      ],
      "text/plain": [
       "78.5398163397448"
      ]
     },
     "execution_count": 73,
     "metadata": {},
     "output_type": "execute_result"
    }
   ],
   "source": [
    "expr.evalf(subs={r:5})"
   ]
  },
  {
   "cell_type": "code",
   "execution_count": 75,
   "id": "b588da51",
   "metadata": {},
   "outputs": [
    {
     "data": {
      "text/latex": [
       "$\\displaystyle 33.333$"
      ],
      "text/plain": [
       "33.333"
      ]
     },
     "execution_count": 75,
     "metadata": {},
     "output_type": "execute_result"
    }
   ],
   "source": [
    "expr=a/b\n",
    "expr.evalf(5, subs={a:100, b:3})"
   ]
  },
  {
   "cell_type": "markdown",
   "id": "7e7b36be",
   "metadata": {},
   "source": [
    "# :Lambdify"
   ]
  },
  {
   "cell_type": "code",
   "execution_count": 77,
   "id": "5cf3e797",
   "metadata": {},
   "outputs": [],
   "source": [
    "from sympy import lambdify"
   ]
  },
  {
   "cell_type": "code",
   "execution_count": 78,
   "id": "32bca805",
   "metadata": {},
   "outputs": [
    {
     "data": {
      "text/plain": [
       "627.8831939138764"
      ]
     },
     "execution_count": 78,
     "metadata": {},
     "output_type": "execute_result"
    }
   ],
   "source": [
    "expr=1/sin(x)\n",
    "f=lambdify(x, expr)\n",
    "f(3.14)"
   ]
  },
  {
   "cell_type": "code",
   "execution_count": 79,
   "id": "e90be5f7",
   "metadata": {},
   "outputs": [
    {
     "data": {
      "text/latex": [
       "$\\displaystyle \\frac{1}{\\sin{\\left(x \\right)}}$"
      ],
      "text/plain": [
       "1/sin(x)"
      ]
     },
     "execution_count": 79,
     "metadata": {},
     "output_type": "execute_result"
    }
   ],
   "source": [
    "expr"
   ]
  },
  {
   "cell_type": "code",
   "execution_count": 80,
   "id": "aafdc65f",
   "metadata": {},
   "outputs": [
    {
     "data": {
      "text/latex": [
       "$\\displaystyle 627.883193913876$"
      ],
      "text/plain": [
       "627.883193913876"
      ]
     },
     "execution_count": 80,
     "metadata": {},
     "output_type": "execute_result"
    }
   ],
   "source": [
    "expr.subs(x,3.14)"
   ]
  },
  {
   "cell_type": "code",
   "execution_count": 84,
   "id": "f9b1700d",
   "metadata": {},
   "outputs": [],
   "source": [
    "expr=1/sin(x+y**2)"
   ]
  },
  {
   "cell_type": "code",
   "execution_count": 85,
   "id": "0403ba27",
   "metadata": {},
   "outputs": [],
   "source": [
    "f=lambdify([x,y],expr)"
   ]
  },
  {
   "cell_type": "code",
   "execution_count": 91,
   "id": "061ef2a5",
   "metadata": {},
   "outputs": [
    {
     "data": {
      "text/plain": [
       "-1.5539094704202325"
      ]
     },
     "execution_count": 91,
     "metadata": {},
     "output_type": "execute_result"
    }
   ],
   "source": [
    "f(1,6)"
   ]
  },
  {
   "cell_type": "code",
   "execution_count": 87,
   "id": "3c3c70ce",
   "metadata": {},
   "outputs": [],
   "source": [
    "f=lambdify([x,y],expr, \"numpy\")"
   ]
  },
  {
   "cell_type": "code",
   "execution_count": 88,
   "id": "3ea17bd1",
   "metadata": {},
   "outputs": [],
   "source": [
    "import numpy "
   ]
  },
  {
   "cell_type": "code",
   "execution_count": 90,
   "id": "5c1d1486",
   "metadata": {},
   "outputs": [
    {
     "data": {
      "text/plain": [
       "array([-1.55390947,  1.49202696, -1.16887977, -5.67937799, -1.03035924])"
      ]
     },
     "execution_count": 90,
     "metadata": {},
     "output_type": "execute_result"
    }
   ],
   "source": [
    "l1=numpy.arange(1,6)\n",
    "l2=numpy.arange(6,11)\n",
    "f(l1,l2)"
   ]
  },
  {
   "cell_type": "markdown",
   "id": "784673ac",
   "metadata": {},
   "source": [
    "# Logical Expressions"
   ]
  },
  {
   "cell_type": "code",
   "execution_count": 93,
   "id": "37b433ff",
   "metadata": {},
   "outputs": [],
   "source": [
    "from sympy import * "
   ]
  },
  {
   "cell_type": "code",
   "execution_count": 94,
   "id": "160acc94",
   "metadata": {},
   "outputs": [],
   "source": [
    "x=sympify(true)"
   ]
  },
  {
   "cell_type": "code",
   "execution_count": 95,
   "id": "590bd8ef",
   "metadata": {},
   "outputs": [
    {
     "data": {
      "text/latex": [
       "$\\displaystyle \\text{True}$"
      ],
      "text/plain": [
       "True"
      ]
     },
     "execution_count": 95,
     "metadata": {},
     "output_type": "execute_result"
    }
   ],
   "source": [
    "x"
   ]
  },
  {
   "cell_type": "code",
   "execution_count": 105,
   "id": "96aa3537",
   "metadata": {},
   "outputs": [
    {
     "data": {
      "text/latex": [
       "$\\displaystyle \\text{True}$"
      ],
      "text/plain": [
       "True"
      ]
     },
     "execution_count": 105,
     "metadata": {},
     "output_type": "execute_result"
    }
   ],
   "source": [
    "from sympy.logic.boolalg import And\n",
    "from sympy.logic.boolalg import Or \n",
    "x=True\n",
    "y=True\n",
    "And(x,y)"
   ]
  },
  {
   "cell_type": "code",
   "execution_count": 110,
   "id": "0b2d309f",
   "metadata": {},
   "outputs": [
    {
     "data": {
      "text/latex": [
       "$\\displaystyle \\text{False}$"
      ],
      "text/plain": [
       "False"
      ]
     },
     "execution_count": 110,
     "metadata": {},
     "output_type": "execute_result"
    }
   ],
   "source": [
    "y=False\n",
    "And(x,y)"
   ]
  },
  {
   "cell_type": "code",
   "execution_count": 102,
   "id": "9c76097d",
   "metadata": {},
   "outputs": [
    {
     "data": {
      "text/plain": [
       "(True, True)"
      ]
     },
     "execution_count": 102,
     "metadata": {},
     "output_type": "execute_result"
    }
   ],
   "source": [
    "Or(x,y), x|y"
   ]
  },
  {
   "cell_type": "code",
   "execution_count": 106,
   "id": "94094002",
   "metadata": {},
   "outputs": [],
   "source": [
    "from sympy.logic.boolalg import Not "
   ]
  },
  {
   "cell_type": "code",
   "execution_count": 111,
   "id": "4a408532",
   "metadata": {},
   "outputs": [
    {
     "data": {
      "text/plain": [
       "(False, True)"
      ]
     },
     "execution_count": 111,
     "metadata": {},
     "output_type": "execute_result"
    }
   ],
   "source": [
    "Not(x), Not(y)"
   ]
  },
  {
   "cell_type": "code",
   "execution_count": 112,
   "id": "ed640beb",
   "metadata": {},
   "outputs": [
    {
     "data": {
      "text/plain": [
       "True"
      ]
     },
     "execution_count": 112,
     "metadata": {},
     "output_type": "execute_result"
    }
   ],
   "source": [
    "x"
   ]
  },
  {
   "cell_type": "code",
   "execution_count": 113,
   "id": "92776ace",
   "metadata": {},
   "outputs": [
    {
     "data": {
      "text/plain": [
       "False"
      ]
     },
     "execution_count": 113,
     "metadata": {},
     "output_type": "execute_result"
    }
   ],
   "source": [
    "y"
   ]
  },
  {
   "cell_type": "markdown",
   "id": "231bd9f7",
   "metadata": {},
   "source": [
    "# Querying"
   ]
  },
  {
   "cell_type": "code",
   "execution_count": 117,
   "id": "819faa24",
   "metadata": {},
   "outputs": [],
   "source": [
    "x=0"
   ]
  },
  {
   "cell_type": "code",
   "execution_count": 115,
   "id": "b2d3abcf",
   "metadata": {},
   "outputs": [
    {
     "data": {
      "text/plain": [
       "False"
      ]
     },
     "execution_count": 115,
     "metadata": {},
     "output_type": "execute_result"
    }
   ],
   "source": [
    "ask(Q.algebraic(pi))"
   ]
  },
  {
   "cell_type": "code",
   "execution_count": 118,
   "id": "9b7788b0",
   "metadata": {},
   "outputs": [
    {
     "data": {
      "text/plain": [
       "True"
      ]
     },
     "execution_count": 118,
     "metadata": {},
     "output_type": "execute_result"
    }
   ],
   "source": [
    "ask(Q.zero(x))"
   ]
  },
  {
   "cell_type": "code",
   "execution_count": 119,
   "id": "2c5af8b1",
   "metadata": {},
   "outputs": [
    {
     "data": {
      "text/plain": [
       "(True, False)"
      ]
     },
     "execution_count": 119,
     "metadata": {},
     "output_type": "execute_result"
    }
   ],
   "source": [
    "x,y= 2*I, 4+5*I\n",
    "ask(Q.imaginary(x)), ask(Q.imaginary(y))"
   ]
  },
  {
   "cell_type": "code",
   "execution_count": 120,
   "id": "9b64aa99",
   "metadata": {},
   "outputs": [
    {
     "data": {
      "text/plain": [
       "(False, True, True, False)"
      ]
     },
     "execution_count": 120,
     "metadata": {},
     "output_type": "execute_result"
    }
   ],
   "source": [
    "x,y=5,10\n",
    "ask(Q.even(x)), ask(Q.even(y)), ask(Q.odd(x)), ask(Q.odd(y))"
   ]
  },
  {
   "cell_type": "markdown",
   "id": "7367d26a",
   "metadata": {},
   "source": [
    "# Simplification"
   ]
  },
  {
   "cell_type": "code",
   "execution_count": 131,
   "id": "a5139faa",
   "metadata": {},
   "outputs": [],
   "source": [
    "from sympy.abc import x,y,a,b"
   ]
  },
  {
   "cell_type": "code",
   "execution_count": 124,
   "id": "cc5c6701",
   "metadata": {},
   "outputs": [],
   "source": [
    "expr=sin(x)**2 + cos(x)**2 "
   ]
  },
  {
   "cell_type": "code",
   "execution_count": 125,
   "id": "0e4cba0f",
   "metadata": {},
   "outputs": [
    {
     "data": {
      "text/latex": [
       "$\\displaystyle \\sin^{2}{\\left(x \\right)} + \\cos^{2}{\\left(x \\right)}$"
      ],
      "text/plain": [
       "sin(x)**2 + cos(x)**2"
      ]
     },
     "execution_count": 125,
     "metadata": {},
     "output_type": "execute_result"
    }
   ],
   "source": [
    "expr"
   ]
  },
  {
   "cell_type": "code",
   "execution_count": 126,
   "id": "d84fc36c",
   "metadata": {},
   "outputs": [
    {
     "data": {
      "text/latex": [
       "$\\displaystyle 1$"
      ],
      "text/plain": [
       "1"
      ]
     },
     "execution_count": 126,
     "metadata": {},
     "output_type": "execute_result"
    }
   ],
   "source": [
    "simplify(expr)"
   ]
  },
  {
   "cell_type": "code",
   "execution_count": 128,
   "id": "cda1c45c",
   "metadata": {},
   "outputs": [
    {
     "data": {
      "text/latex": [
       "$\\displaystyle a^{2} + 2 a b + b^{2}$"
      ],
      "text/plain": [
       "a**2 + 2*a*b + b**2"
      ]
     },
     "execution_count": 128,
     "metadata": {},
     "output_type": "execute_result"
    }
   ],
   "source": [
    "expand((a+b)**2)"
   ]
  },
  {
   "cell_type": "code",
   "execution_count": 129,
   "id": "121072e9",
   "metadata": {},
   "outputs": [
    {
     "data": {
      "text/latex": [
       "$\\displaystyle a^{2} - b^{2}$"
      ],
      "text/plain": [
       "a**2 - b**2"
      ]
     },
     "execution_count": 129,
     "metadata": {},
     "output_type": "execute_result"
    }
   ],
   "source": [
    "expand((a+b)*(a-b))"
   ]
  },
  {
   "cell_type": "code",
   "execution_count": 132,
   "id": "6745d427",
   "metadata": {},
   "outputs": [
    {
     "data": {
      "text/latex": [
       "$\\displaystyle z \\left(x + 2 y\\right)^{2}$"
      ],
      "text/plain": [
       "z*(x + 2*y)**2"
      ]
     },
     "execution_count": 132,
     "metadata": {},
     "output_type": "execute_result"
    }
   ],
   "source": [
    "factor(x**2*z + 4*x*y*z + 4*y**2*z)"
   ]
  },
  {
   "cell_type": "code",
   "execution_count": 133,
   "id": "d534a029",
   "metadata": {},
   "outputs": [
    {
     "data": {
      "text/plain": [
       "(1, [(z, 1), (x + 2*y, 2)])"
      ]
     },
     "execution_count": 133,
     "metadata": {},
     "output_type": "execute_result"
    }
   ],
   "source": [
    "factor_list(x**2*z + 4*x*y*z + 4*y**2*z)"
   ]
  },
  {
   "cell_type": "code",
   "execution_count": 134,
   "id": "2338b46c",
   "metadata": {},
   "outputs": [
    {
     "data": {
      "text/latex": [
       "$\\displaystyle x + 1$"
      ],
      "text/plain": [
       "x + 1"
      ]
     },
     "execution_count": 134,
     "metadata": {},
     "output_type": "execute_result"
    }
   ],
   "source": [
    "expr1=x**2+2*x+1\n",
    "expr2=x+1\n",
    "cancel(expr1/expr2)"
   ]
  },
  {
   "cell_type": "code",
   "execution_count": 135,
   "id": "d6bab628",
   "metadata": {},
   "outputs": [
    {
     "data": {
      "text/latex": [
       "$\\displaystyle \\frac{\\frac{3 x}{2} - 2}{x - 4} + \\frac{1}{x}$"
      ],
      "text/plain": [
       "(3*x/2 - 2)/(x - 4) + 1/x"
      ]
     },
     "execution_count": 135,
     "metadata": {},
     "output_type": "execute_result"
    }
   ],
   "source": [
    "expr = 1/x + (3*x/2 - 2)/(x - 4)\n",
    "expr"
   ]
  },
  {
   "cell_type": "code",
   "execution_count": 136,
   "id": "bcdbf8c2",
   "metadata": {},
   "outputs": [
    {
     "data": {
      "text/latex": [
       "$\\displaystyle \\frac{3 x^{2} - 2 x - 8}{2 x^{2} - 8 x}$"
      ],
      "text/plain": [
       "(3*x**2 - 2*x - 8)/(2*x**2 - 8*x)"
      ]
     },
     "execution_count": 136,
     "metadata": {},
     "output_type": "execute_result"
    }
   ],
   "source": [
    "cancel(expr)"
   ]
  },
  {
   "cell_type": "code",
   "execution_count": 137,
   "id": "b098f24a",
   "metadata": {},
   "outputs": [
    {
     "data": {
      "text/latex": [
       "$\\displaystyle 2$"
      ],
      "text/plain": [
       "2"
      ]
     },
     "execution_count": 137,
     "metadata": {},
     "output_type": "execute_result"
    }
   ],
   "source": [
    "from sympy import trigsimp, sin, cos\n",
    "from sympy.abc import x, y\n",
    "expr = 2*sin(x)**2 + 2*cos(x)**2\n",
    "trigsimp(expr)"
   ]
  },
  {
   "cell_type": "code",
   "execution_count": 138,
   "id": "397c603f",
   "metadata": {},
   "outputs": [
    {
     "data": {
      "text/latex": [
       "$\\displaystyle x^{y} x^{z} y^{z}$"
      ],
      "text/plain": [
       "x**y*x**z*y**z"
      ]
     },
     "execution_count": 138,
     "metadata": {},
     "output_type": "execute_result"
    }
   ],
   "source": [
    "expr=x**y*x**z*y**z\n",
    "expr"
   ]
  },
  {
   "cell_type": "code",
   "execution_count": 139,
   "id": "4ad5b9e1",
   "metadata": {},
   "outputs": [
    {
     "data": {
      "text/latex": [
       "$\\displaystyle x^{y + z} y^{z}$"
      ],
      "text/plain": [
       "x**(y + z)*y**z"
      ]
     },
     "execution_count": 139,
     "metadata": {},
     "output_type": "execute_result"
    }
   ],
   "source": [
    "powsimp(expr)"
   ]
  },
  {
   "cell_type": "code",
   "execution_count": 140,
   "id": "128c8d48",
   "metadata": {},
   "outputs": [
    {
     "data": {
      "text/latex": [
       "$\\displaystyle x^{y} \\left(x y\\right)^{z}$"
      ],
      "text/plain": [
       "x**y*(x*y)**z"
      ]
     },
     "execution_count": 140,
     "metadata": {},
     "output_type": "execute_result"
    }
   ],
   "source": [
    "powsimp(expr, combine='base', force=True)"
   ]
  },
  {
   "cell_type": "code",
   "execution_count": 141,
   "id": "7ac1cfb4",
   "metadata": {},
   "outputs": [
    {
     "data": {
      "text/latex": [
       "$\\displaystyle a \\log{\\left(x \\right)} + \\log{\\left(y \\right)} - \\log{\\left(z \\right)}$"
      ],
      "text/plain": [
       "a*log(x) + log(y) - log(z)"
      ]
     },
     "execution_count": 141,
     "metadata": {},
     "output_type": "execute_result"
    }
   ],
   "source": [
    "logcombine(a*log(x) + log(y) - log(z))"
   ]
  },
  {
   "cell_type": "code",
   "execution_count": 142,
   "id": "b27dd675",
   "metadata": {},
   "outputs": [
    {
     "data": {
      "text/latex": [
       "$\\displaystyle \\log{\\left(\\frac{x^{a} y}{z} \\right)}$"
      ],
      "text/plain": [
       "log(x**a*y/z)"
      ]
     },
     "execution_count": 142,
     "metadata": {},
     "output_type": "execute_result"
    }
   ],
   "source": [
    "logcombine(a*log(x) + log(y) - log(z), force=True)"
   ]
  },
  {
   "cell_type": "markdown",
   "id": "93dec915",
   "metadata": {},
   "source": [
    "# Derivative"
   ]
  },
  {
   "cell_type": "code",
   "execution_count": 143,
   "id": "a9f739b6",
   "metadata": {},
   "outputs": [
    {
     "data": {
      "text/latex": [
       "$\\displaystyle x \\sin{\\left(x^{2} \\right)} + 1$"
      ],
      "text/plain": [
       "x*sin(x**2) + 1"
      ]
     },
     "execution_count": 143,
     "metadata": {},
     "output_type": "execute_result"
    }
   ],
   "source": [
    "from sympy import diff, exp\n",
    "expr=x*sin(x*x)+1\n",
    "expr"
   ]
  },
  {
   "cell_type": "code",
   "execution_count": 144,
   "id": "eb76f713",
   "metadata": {},
   "outputs": [
    {
     "data": {
      "text/latex": [
       "$\\displaystyle 2 x^{2} \\cos{\\left(x^{2} \\right)} + \\sin{\\left(x^{2} \\right)}$"
      ],
      "text/plain": [
       "2*x**2*cos(x**2) + sin(x**2)"
      ]
     },
     "execution_count": 144,
     "metadata": {},
     "output_type": "execute_result"
    }
   ],
   "source": [
    "diff(expr,x)"
   ]
  },
  {
   "cell_type": "code",
   "execution_count": 145,
   "id": "e9a9be04",
   "metadata": {},
   "outputs": [
    {
     "data": {
      "text/latex": [
       "$\\displaystyle 2 x e^{x^{2}}$"
      ],
      "text/plain": [
       "2*x*exp(x**2)"
      ]
     },
     "execution_count": 145,
     "metadata": {},
     "output_type": "execute_result"
    }
   ],
   "source": [
    "diff(exp(x**2),x)"
   ]
  },
  {
   "cell_type": "code",
   "execution_count": 146,
   "id": "0ca35785",
   "metadata": {},
   "outputs": [
    {
     "data": {
      "text/latex": [
       "$\\displaystyle 24 x$"
      ],
      "text/plain": [
       "24*x"
      ]
     },
     "execution_count": 146,
     "metadata": {},
     "output_type": "execute_result"
    }
   ],
   "source": [
    "diff(x**4,x,3)"
   ]
  },
  {
   "cell_type": "code",
   "execution_count": 147,
   "id": "9d6ca77f",
   "metadata": {},
   "outputs": [
    {
     "data": {
      "text/latex": [
       "$\\displaystyle 2 x^{2} \\cos{\\left(x^{2} \\right)} + \\sin{\\left(x^{2} \\right)}$"
      ],
      "text/plain": [
       "2*x**2*cos(x**2) + sin(x**2)"
      ]
     },
     "execution_count": 147,
     "metadata": {},
     "output_type": "execute_result"
    }
   ],
   "source": [
    "expr.diff(x)"
   ]
  },
  {
   "cell_type": "code",
   "execution_count": 148,
   "id": "280b0170",
   "metadata": {},
   "outputs": [
    {
     "data": {
      "text/latex": [
       "$\\displaystyle \\frac{d}{d x} \\left(x \\sin{\\left(x^{2} \\right)} + 1\\right)$"
      ],
      "text/plain": [
       "Derivative(x*sin(x**2) + 1, x)"
      ]
     },
     "execution_count": 148,
     "metadata": {},
     "output_type": "execute_result"
    }
   ],
   "source": [
    "from sympy import Derivative\n",
    "d=Derivative(expr) \n",
    "d"
   ]
  },
  {
   "cell_type": "code",
   "execution_count": 149,
   "id": "38eef874",
   "metadata": {},
   "outputs": [
    {
     "data": {
      "text/latex": [
       "$\\displaystyle 2 x^{2} \\cos{\\left(x^{2} \\right)} + \\sin{\\left(x^{2} \\right)}$"
      ],
      "text/plain": [
       "2*x**2*cos(x**2) + sin(x**2)"
      ]
     },
     "execution_count": 149,
     "metadata": {},
     "output_type": "execute_result"
    }
   ],
   "source": [
    "d.doit()"
   ]
  },
  {
   "cell_type": "markdown",
   "id": "23e9c842",
   "metadata": {},
   "source": [
    "# Integration"
   ]
  },
  {
   "cell_type": "code",
   "execution_count": 150,
   "id": "e8d0a4e5",
   "metadata": {},
   "outputs": [],
   "source": [
    "expr=x**2 + x + 1 "
   ]
  },
  {
   "cell_type": "code",
   "execution_count": 151,
   "id": "b3eede44",
   "metadata": {},
   "outputs": [
    {
     "data": {
      "text/latex": [
       "$\\displaystyle \\frac{x^{3}}{3} + \\frac{x^{2}}{2} + x$"
      ],
      "text/plain": [
       "x**3/3 + x**2/2 + x"
      ]
     },
     "execution_count": 151,
     "metadata": {},
     "output_type": "execute_result"
    }
   ],
   "source": [
    "integrate(expr, x)"
   ]
  },
  {
   "cell_type": "code",
   "execution_count": 154,
   "id": "d0e33814",
   "metadata": {},
   "outputs": [
    {
     "data": {
      "text/latex": [
       "$\\displaystyle \\sin{\\left(x \\right)} \\tan{\\left(x \\right)}$"
      ],
      "text/plain": [
       "sin(x)*tan(x)"
      ]
     },
     "execution_count": 154,
     "metadata": {},
     "output_type": "execute_result"
    }
   ],
   "source": [
    "expr=sin(x)*tan(x) \n",
    "expr"
   ]
  },
  {
   "cell_type": "code",
   "execution_count": 155,
   "id": "bb2f4903",
   "metadata": {},
   "outputs": [
    {
     "data": {
      "text/latex": [
       "$\\displaystyle - \\frac{\\log{\\left(\\sin{\\left(x \\right)} - 1 \\right)}}{2} + \\frac{\\log{\\left(\\sin{\\left(x \\right)} + 1 \\right)}}{2} - \\sin{\\left(x \\right)}$"
      ],
      "text/plain": [
       "-log(sin(x) - 1)/2 + log(sin(x) + 1)/2 - sin(x)"
      ]
     },
     "execution_count": 155,
     "metadata": {},
     "output_type": "execute_result"
    }
   ],
   "source": [
    "integrate(expr,x)"
   ]
  },
  {
   "cell_type": "code",
   "execution_count": 156,
   "id": "b3957a9e",
   "metadata": {},
   "outputs": [],
   "source": [
    "expr=exp(-x**2)"
   ]
  },
  {
   "cell_type": "code",
   "execution_count": 157,
   "id": "c70c916c",
   "metadata": {},
   "outputs": [
    {
     "data": {
      "text/latex": [
       "$\\displaystyle e^{- x^{2}}$"
      ],
      "text/plain": [
       "exp(-x**2)"
      ]
     },
     "execution_count": 157,
     "metadata": {},
     "output_type": "execute_result"
    }
   ],
   "source": [
    "expr"
   ]
  },
  {
   "cell_type": "code",
   "execution_count": 158,
   "id": "8100f435",
   "metadata": {},
   "outputs": [
    {
     "data": {
      "text/latex": [
       "$\\displaystyle \\frac{\\sqrt{\\pi}}{2}$"
      ],
      "text/plain": [
       "sqrt(pi)/2"
      ]
     },
     "execution_count": 158,
     "metadata": {},
     "output_type": "execute_result"
    }
   ],
   "source": [
    "integrate(expr,(x,0,oo) )"
   ]
  },
  {
   "cell_type": "code",
   "execution_count": 159,
   "id": "c0353ce0",
   "metadata": {
    "scrolled": true
   },
   "outputs": [
    {
     "data": {
      "text/latex": [
       "$\\displaystyle e^{- x^{2} - y^{2}}$"
      ],
      "text/plain": [
       "exp(-x**2 - y**2)"
      ]
     },
     "execution_count": 159,
     "metadata": {},
     "output_type": "execute_result"
    }
   ],
   "source": [
    "expr=exp(-x**2 - y**2)\n",
    "expr"
   ]
  },
  {
   "cell_type": "code",
   "execution_count": 161,
   "id": "2392ecbf",
   "metadata": {},
   "outputs": [
    {
     "data": {
      "text/latex": [
       "$\\displaystyle \\frac{\\sqrt{\\pi} e^{- y^{2}} \\operatorname{erf}{\\left(x \\right)}}{2}$"
      ],
      "text/plain": [
       "sqrt(pi)*exp(-y**2)*erf(x)/2"
      ]
     },
     "execution_count": 161,
     "metadata": {},
     "output_type": "execute_result"
    }
   ],
   "source": [
    "integrate(expr,x)"
   ]
  },
  {
   "cell_type": "code",
   "execution_count": 160,
   "id": "880036e2",
   "metadata": {},
   "outputs": [
    {
     "data": {
      "text/latex": [
       "$\\displaystyle \\frac{\\pi}{4}$"
      ],
      "text/plain": [
       "pi/4"
      ]
     },
     "execution_count": 160,
     "metadata": {},
     "output_type": "execute_result"
    }
   ],
   "source": [
    "integrate(expr,(x,0,oo),(y,0,oo))"
   ]
  },
  {
   "cell_type": "code",
   "execution_count": 162,
   "id": "d43d56d0",
   "metadata": {},
   "outputs": [],
   "source": [
    "expr = Integral(log(x)**2, x)"
   ]
  },
  {
   "cell_type": "code",
   "execution_count": 163,
   "id": "f7f43c16",
   "metadata": {},
   "outputs": [
    {
     "data": {
      "text/latex": [
       "$\\displaystyle \\int \\log{\\left(x \\right)}^{2}\\, dx$"
      ],
      "text/plain": [
       "Integral(log(x)**2, x)"
      ]
     },
     "execution_count": 163,
     "metadata": {},
     "output_type": "execute_result"
    }
   ],
   "source": [
    "expr"
   ]
  },
  {
   "cell_type": "code",
   "execution_count": 164,
   "id": "875483f3",
   "metadata": {},
   "outputs": [
    {
     "data": {
      "text/latex": [
       "$\\displaystyle x \\log{\\left(x \\right)}^{2} - 2 x \\log{\\left(x \\right)} + 2 x$"
      ],
      "text/plain": [
       "x*log(x)**2 - 2*x*log(x) + 2*x"
      ]
     },
     "execution_count": 164,
     "metadata": {},
     "output_type": "execute_result"
    }
   ],
   "source": [
    "expr.doit()"
   ]
  },
  {
   "cell_type": "code",
   "execution_count": 165,
   "id": "495cd596",
   "metadata": {},
   "outputs": [
    {
     "data": {
      "text/latex": [
       "$\\displaystyle e^{- x^{2}}$"
      ],
      "text/plain": [
       "exp(-x**2)"
      ]
     },
     "execution_count": 165,
     "metadata": {},
     "output_type": "execute_result"
    }
   ],
   "source": [
    "from sympy import fourier_transform, exp\n",
    "from sympy.abc import x, k\n",
    "expr=exp(-x**2)\n",
    "expr"
   ]
  },
  {
   "cell_type": "code",
   "execution_count": 166,
   "id": "7d4ca3bc",
   "metadata": {},
   "outputs": [
    {
     "data": {
      "text/latex": [
       "$\\displaystyle \\sqrt{\\pi} e^{- \\pi^{2} k^{2}}$"
      ],
      "text/plain": [
       "sqrt(pi)*exp(-pi**2*k**2)"
      ]
     },
     "execution_count": 166,
     "metadata": {},
     "output_type": "execute_result"
    }
   ],
   "source": [
    "fourier_transform(expr, x, k)"
   ]
  },
  {
   "cell_type": "code",
   "execution_count": 167,
   "id": "ee0c322f",
   "metadata": {},
   "outputs": [
    {
     "data": {
      "text/plain": [
       "(s**(-a)*gamma(a + 1)/s, 0, re(a) > -1)"
      ]
     },
     "execution_count": 167,
     "metadata": {},
     "output_type": "execute_result"
    }
   ],
   "source": [
    "from sympy.integrals import laplace_transform\n",
    "from sympy.abc import t, s, a\n",
    "laplace_transform(t**a, t, s)"
   ]
  },
  {
   "cell_type": "markdown",
   "id": "9cbb89d2",
   "metadata": {},
   "source": [
    "# Matrices"
   ]
  },
  {
   "cell_type": "code",
   "execution_count": 171,
   "id": "437a628a",
   "metadata": {},
   "outputs": [
    {
     "data": {
      "text/latex": [
       "$\\displaystyle \\left[\\begin{matrix}1 & 2 & 3\\\\2 & 3 & 1\\end{matrix}\\right]$"
      ],
      "text/plain": [
       "Matrix([\n",
       "[1, 2, 3],\n",
       "[2, 3, 1]])"
      ]
     },
     "execution_count": 171,
     "metadata": {},
     "output_type": "execute_result"
    }
   ],
   "source": [
    "from sympy.matrices import Matrix \n",
    "m=Matrix([[1,2,3],[2,3,1]])\n",
    "m "
   ]
  },
  {
   "cell_type": "code",
   "execution_count": 172,
   "id": "47e84738",
   "metadata": {},
   "outputs": [
    {
     "data": {
      "text/latex": [
       "$\\displaystyle \\left[\\begin{matrix}10 & 40 & 30\\\\2 & 6 & 9\\end{matrix}\\right]$"
      ],
      "text/plain": [
       "Matrix([\n",
       "[10, 40, 30],\n",
       "[ 2,  6,  9]])"
      ]
     },
     "execution_count": 172,
     "metadata": {},
     "output_type": "execute_result"
    }
   ],
   "source": [
    "M=Matrix(2,3,[10,40,30,2,6,9])\n",
    "M"
   ]
  },
  {
   "cell_type": "code",
   "execution_count": 174,
   "id": "bdbe415e",
   "metadata": {},
   "outputs": [
    {
     "data": {
      "text/plain": [
       "(2, 3)"
      ]
     },
     "execution_count": 174,
     "metadata": {},
     "output_type": "execute_result"
    }
   ],
   "source": [
    "M.shape"
   ]
  },
  {
   "cell_type": "code",
   "execution_count": 179,
   "id": "384714b6",
   "metadata": {},
   "outputs": [
    {
     "data": {
      "text/latex": [
       "$\\displaystyle \\left[\\begin{matrix}10 & 40 & 30\\end{matrix}\\right]$"
      ],
      "text/plain": [
       "Matrix([[10, 40, 30]])"
      ]
     },
     "execution_count": 179,
     "metadata": {},
     "output_type": "execute_result"
    }
   ],
   "source": [
    "M.row(0)"
   ]
  },
  {
   "cell_type": "code",
   "execution_count": 180,
   "id": "f0aca88e",
   "metadata": {},
   "outputs": [
    {
     "data": {
      "text/latex": [
       "$\\displaystyle \\left[\\begin{matrix}10\\\\2\\end{matrix}\\right]$"
      ],
      "text/plain": [
       "Matrix([\n",
       "[10],\n",
       "[ 2]])"
      ]
     },
     "execution_count": 180,
     "metadata": {},
     "output_type": "execute_result"
    }
   ],
   "source": [
    "M.col(0)"
   ]
  },
  {
   "cell_type": "code",
   "execution_count": 181,
   "id": "b270b1de",
   "metadata": {},
   "outputs": [
    {
     "data": {
      "text/latex": [
       "$\\displaystyle \\left[\\begin{matrix}2 & 6 & 9\\end{matrix}\\right]$"
      ],
      "text/plain": [
       "Matrix([[2, 6, 9]])"
      ]
     },
     "execution_count": 181,
     "metadata": {},
     "output_type": "execute_result"
    }
   ],
   "source": [
    "M.row(1)"
   ]
  },
  {
   "cell_type": "code",
   "execution_count": 183,
   "id": "45bbca0f",
   "metadata": {},
   "outputs": [
    {
     "data": {
      "text/plain": [
       "[6]"
      ]
     },
     "execution_count": 183,
     "metadata": {},
     "output_type": "execute_result"
    }
   ],
   "source": [
    "M.row(1)[1:2]"
   ]
  },
  {
   "cell_type": "code",
   "execution_count": 184,
   "id": "6cbf7642",
   "metadata": {},
   "outputs": [
    {
     "data": {
      "text/latex": [
       "$\\displaystyle \\left[\\begin{matrix}10 & 40 & 30\\\\2 & 6 & 9\\end{matrix}\\right]$"
      ],
      "text/plain": [
       "Matrix([\n",
       "[10, 40, 30],\n",
       "[ 2,  6,  9]])"
      ]
     },
     "execution_count": 184,
     "metadata": {},
     "output_type": "execute_result"
    }
   ],
   "source": [
    "M"
   ]
  },
  {
   "cell_type": "code",
   "execution_count": 185,
   "id": "57ba583e",
   "metadata": {},
   "outputs": [],
   "source": [
    "M.col_del(1)"
   ]
  },
  {
   "cell_type": "code",
   "execution_count": 186,
   "id": "d4375d27",
   "metadata": {},
   "outputs": [
    {
     "data": {
      "text/latex": [
       "$\\displaystyle \\left[\\begin{matrix}10 & 30\\\\2 & 9\\end{matrix}\\right]$"
      ],
      "text/plain": [
       "Matrix([\n",
       "[10, 30],\n",
       "[ 2,  9]])"
      ]
     },
     "execution_count": 186,
     "metadata": {},
     "output_type": "execute_result"
    }
   ],
   "source": [
    "M"
   ]
  },
  {
   "cell_type": "code",
   "execution_count": 187,
   "id": "d0bddfb7",
   "metadata": {},
   "outputs": [
    {
     "data": {
      "text/plain": [
       "(2, 2)"
      ]
     },
     "execution_count": 187,
     "metadata": {},
     "output_type": "execute_result"
    }
   ],
   "source": [
    "M.shape"
   ]
  },
  {
   "cell_type": "code",
   "execution_count": 189,
   "id": "181caa9e",
   "metadata": {},
   "outputs": [
    {
     "data": {
      "text/latex": [
       "$\\displaystyle \\left[\\begin{matrix}10 & 30\\\\2 & 9\\end{matrix}\\right]$"
      ],
      "text/plain": [
       "Matrix([\n",
       "[10, 30],\n",
       "[ 2,  9]])"
      ]
     },
     "execution_count": 189,
     "metadata": {},
     "output_type": "execute_result"
    }
   ],
   "source": [
    "Matrix([[10, 30],[ 2, 9]])"
   ]
  },
  {
   "cell_type": "code",
   "execution_count": 194,
   "id": "ad3c827d",
   "metadata": {},
   "outputs": [
    {
     "data": {
      "text/latex": [
       "$\\displaystyle \\left[\\begin{matrix}-8 & -4\\end{matrix}\\right]$"
      ],
      "text/plain": [
       "Matrix([[-8, -4]])"
      ]
     },
     "execution_count": 194,
     "metadata": {},
     "output_type": "execute_result"
    }
   ],
   "source": [
    "M1=Matrix([[-8,-4]]) \n",
    "\n",
    "M1"
   ]
  },
  {
   "cell_type": "code",
   "execution_count": 196,
   "id": "524942aa",
   "metadata": {},
   "outputs": [
    {
     "data": {
      "text/latex": [
       "$\\displaystyle \\left[\\begin{matrix}10 & 30\\\\-8 & -4\\\\10 & 30\\\\2 & 9\\end{matrix}\\right]$"
      ],
      "text/plain": [
       "Matrix([\n",
       "[10, 30],\n",
       "[-8, -4],\n",
       "[10, 30],\n",
       "[ 2,  9]])"
      ]
     },
     "execution_count": 196,
     "metadata": {},
     "output_type": "execute_result"
    }
   ],
   "source": [
    "M"
   ]
  },
  {
   "cell_type": "code",
   "execution_count": 198,
   "id": "1f7c6cfb",
   "metadata": {},
   "outputs": [],
   "source": [
    "M.row_del(0)"
   ]
  },
  {
   "cell_type": "code",
   "execution_count": 199,
   "id": "87838d4d",
   "metadata": {},
   "outputs": [
    {
     "data": {
      "text/latex": [
       "$\\displaystyle \\left[\\begin{matrix}-8 & -4\\\\10 & 30\\\\2 & 9\\end{matrix}\\right]$"
      ],
      "text/plain": [
       "Matrix([\n",
       "[-8, -4],\n",
       "[10, 30],\n",
       "[ 2,  9]])"
      ]
     },
     "execution_count": 199,
     "metadata": {},
     "output_type": "execute_result"
    }
   ],
   "source": [
    "M"
   ]
  },
  {
   "cell_type": "code",
   "execution_count": 200,
   "id": "01875437",
   "metadata": {},
   "outputs": [
    {
     "data": {
      "text/latex": [
       "$\\displaystyle \\left[\\begin{matrix}10 & 30\\\\2 & 9\\end{matrix}\\right]$"
      ],
      "text/plain": [
       "Matrix([\n",
       "[10, 30],\n",
       "[ 2,  9]])"
      ]
     },
     "execution_count": 200,
     "metadata": {},
     "output_type": "execute_result"
    }
   ],
   "source": [
    "M.row_del(0)\n",
    "M"
   ]
  },
  {
   "cell_type": "code",
   "execution_count": 201,
   "id": "b15542d2",
   "metadata": {},
   "outputs": [],
   "source": [
    "M=M.row_insert(0,M1)"
   ]
  },
  {
   "cell_type": "code",
   "execution_count": 202,
   "id": "997e0f49",
   "metadata": {},
   "outputs": [
    {
     "data": {
      "text/latex": [
       "$\\displaystyle \\left[\\begin{matrix}-8 & -4\\\\10 & 30\\\\2 & 9\\end{matrix}\\right]$"
      ],
      "text/plain": [
       "Matrix([\n",
       "[-8, -4],\n",
       "[10, 30],\n",
       "[ 2,  9]])"
      ]
     },
     "execution_count": 202,
     "metadata": {},
     "output_type": "execute_result"
    }
   ],
   "source": [
    "M"
   ]
  },
  {
   "cell_type": "code",
   "execution_count": 204,
   "id": "4da53769",
   "metadata": {},
   "outputs": [
    {
     "data": {
      "text/latex": [
       "$\\displaystyle \\left[\\begin{matrix}1 & 2 & 3\\\\3 & 2 & 1\\end{matrix}\\right]$"
      ],
      "text/plain": [
       "Matrix([\n",
       "[1, 2, 3],\n",
       "[3, 2, 1]])"
      ]
     },
     "execution_count": 204,
     "metadata": {},
     "output_type": "execute_result"
    }
   ],
   "source": [
    "M1=Matrix([[1,2,3],[3,2,1]])\n",
    "M1"
   ]
  },
  {
   "cell_type": "code",
   "execution_count": 205,
   "id": "7a4df919",
   "metadata": {},
   "outputs": [
    {
     "data": {
      "text/latex": [
       "$\\displaystyle \\left[\\begin{matrix}1 & 3\\\\2 & 2\\\\3 & 1\\end{matrix}\\right]$"
      ],
      "text/plain": [
       "Matrix([\n",
       "[1, 3],\n",
       "[2, 2],\n",
       "[3, 1]])"
      ]
     },
     "execution_count": 205,
     "metadata": {},
     "output_type": "execute_result"
    }
   ],
   "source": [
    "M1.T"
   ]
  },
  {
   "cell_type": "code",
   "execution_count": 206,
   "id": "5f306309",
   "metadata": {},
   "outputs": [
    {
     "data": {
      "text/latex": [
       "$\\displaystyle \\left[\\begin{matrix}-8 & -4\\\\10 & 30\\\\2 & 9\\end{matrix}\\right]$"
      ],
      "text/plain": [
       "Matrix([\n",
       "[-8, -4],\n",
       "[10, 30],\n",
       "[ 2,  9]])"
      ]
     },
     "execution_count": 206,
     "metadata": {},
     "output_type": "execute_result"
    }
   ],
   "source": [
    "M"
   ]
  },
  {
   "cell_type": "code",
   "execution_count": 207,
   "id": "b8bbb8c6",
   "metadata": {},
   "outputs": [
    {
     "data": {
      "text/latex": [
       "$\\displaystyle \\left[\\begin{matrix}-8 & 10 & 2\\\\-4 & 30 & 9\\end{matrix}\\right]$"
      ],
      "text/plain": [
       "Matrix([\n",
       "[-8, 10, 2],\n",
       "[-4, 30, 9]])"
      ]
     },
     "execution_count": 207,
     "metadata": {},
     "output_type": "execute_result"
    }
   ],
   "source": [
    "M.T"
   ]
  },
  {
   "cell_type": "code",
   "execution_count": 208,
   "id": "9c9ea542",
   "metadata": {},
   "outputs": [
    {
     "data": {
      "text/latex": [
       "$\\displaystyle \\left[\\begin{matrix}10 & 20 & 30\\\\5 & 8 & 12\\\\9 & 6 & 15\\end{matrix}\\right]$"
      ],
      "text/plain": [
       "Matrix([\n",
       "[10, 20, 30],\n",
       "[ 5,  8, 12],\n",
       "[ 9,  6, 15]])"
      ]
     },
     "execution_count": 208,
     "metadata": {},
     "output_type": "execute_result"
    }
   ],
   "source": [
    "M=Matrix(3,3,[10,20,30,5,8,12,9,6,15])\n",
    "M"
   ]
  },
  {
   "cell_type": "code",
   "execution_count": 209,
   "id": "794556f0",
   "metadata": {},
   "outputs": [
    {
     "data": {
      "text/latex": [
       "$\\displaystyle \\left[\\begin{matrix}10 & 5 & 9\\\\20 & 8 & 6\\\\30 & 12 & 15\\end{matrix}\\right]$"
      ],
      "text/plain": [
       "Matrix([\n",
       "[10,  5,  9],\n",
       "[20,  8,  6],\n",
       "[30, 12, 15]])"
      ]
     },
     "execution_count": 209,
     "metadata": {},
     "output_type": "execute_result"
    }
   ],
   "source": [
    "M.T"
   ]
  },
  {
   "cell_type": "code",
   "execution_count": 210,
   "id": "80e8afeb",
   "metadata": {},
   "outputs": [
    {
     "data": {
      "text/latex": [
       "$\\displaystyle -120$"
      ],
      "text/plain": [
       "-120"
      ]
     },
     "execution_count": 210,
     "metadata": {},
     "output_type": "execute_result"
    }
   ],
   "source": [
    "M.det()"
   ]
  },
  {
   "cell_type": "code",
   "execution_count": 211,
   "id": "d547b539",
   "metadata": {},
   "outputs": [],
   "source": [
    "from sympy.matrices import eye"
   ]
  },
  {
   "cell_type": "code",
   "execution_count": 214,
   "id": "6b26e612",
   "metadata": {},
   "outputs": [],
   "source": [
    "I =  eye(8)"
   ]
  },
  {
   "cell_type": "code",
   "execution_count": 215,
   "id": "e8f27095",
   "metadata": {},
   "outputs": [
    {
     "data": {
      "text/latex": [
       "$\\displaystyle \\left[\\begin{matrix}1 & 0 & 0 & 0 & 0 & 0 & 0 & 0\\\\0 & 1 & 0 & 0 & 0 & 0 & 0 & 0\\\\0 & 0 & 1 & 0 & 0 & 0 & 0 & 0\\\\0 & 0 & 0 & 1 & 0 & 0 & 0 & 0\\\\0 & 0 & 0 & 0 & 1 & 0 & 0 & 0\\\\0 & 0 & 0 & 0 & 0 & 1 & 0 & 0\\\\0 & 0 & 0 & 0 & 0 & 0 & 1 & 0\\\\0 & 0 & 0 & 0 & 0 & 0 & 0 & 1\\end{matrix}\\right]$"
      ],
      "text/plain": [
       "Matrix([\n",
       "[1, 0, 0, 0, 0, 0, 0, 0],\n",
       "[0, 1, 0, 0, 0, 0, 0, 0],\n",
       "[0, 0, 1, 0, 0, 0, 0, 0],\n",
       "[0, 0, 0, 1, 0, 0, 0, 0],\n",
       "[0, 0, 0, 0, 1, 0, 0, 0],\n",
       "[0, 0, 0, 0, 0, 1, 0, 0],\n",
       "[0, 0, 0, 0, 0, 0, 1, 0],\n",
       "[0, 0, 0, 0, 0, 0, 0, 1]])"
      ]
     },
     "execution_count": 215,
     "metadata": {},
     "output_type": "execute_result"
    }
   ],
   "source": [
    "I"
   ]
  },
  {
   "cell_type": "code",
   "execution_count": 217,
   "id": "2ebaa988",
   "metadata": {},
   "outputs": [],
   "source": [
    "from sympy.matrices import diag"
   ]
  },
  {
   "cell_type": "code",
   "execution_count": 218,
   "id": "bf0dd809",
   "metadata": {},
   "outputs": [
    {
     "data": {
      "text/latex": [
       "$\\displaystyle \\left[\\begin{matrix}1 & 0 & 0\\\\0 & 2 & 0\\\\0 & 0 & 3\\end{matrix}\\right]$"
      ],
      "text/plain": [
       "Matrix([\n",
       "[1, 0, 0],\n",
       "[0, 2, 0],\n",
       "[0, 0, 3]])"
      ]
     },
     "execution_count": 218,
     "metadata": {},
     "output_type": "execute_result"
    }
   ],
   "source": [
    "diag(1,2,3)"
   ]
  },
  {
   "cell_type": "code",
   "execution_count": 219,
   "id": "9bf0be8d",
   "metadata": {},
   "outputs": [],
   "source": [
    "from sympy.matrices import zeros"
   ]
  },
  {
   "cell_type": "code",
   "execution_count": 220,
   "id": "311085a0",
   "metadata": {},
   "outputs": [
    {
     "data": {
      "text/latex": [
       "$\\displaystyle \\left[\\begin{matrix}0 & 0 & 0\\\\0 & 0 & 0\\end{matrix}\\right]$"
      ],
      "text/plain": [
       "Matrix([\n",
       "[0, 0, 0],\n",
       "[0, 0, 0]])"
      ]
     },
     "execution_count": 220,
     "metadata": {},
     "output_type": "execute_result"
    }
   ],
   "source": [
    "z = zeros(2,3)\n",
    "z"
   ]
  },
  {
   "cell_type": "markdown",
   "id": "cf6d8fd6",
   "metadata": {},
   "source": [
    "# Function class"
   ]
  },
  {
   "cell_type": "code",
   "execution_count": 222,
   "id": "9b1acc7c",
   "metadata": {},
   "outputs": [
    {
     "data": {
      "text/latex": [
       "$\\displaystyle 5$"
      ],
      "text/plain": [
       "5"
      ]
     },
     "execution_count": 222,
     "metadata": {},
     "output_type": "execute_result"
    }
   ],
   "source": [
    "from sympy import * \n",
    "re(5+3*I)"
   ]
  },
  {
   "cell_type": "code",
   "execution_count": 223,
   "id": "2e41c55c",
   "metadata": {},
   "outputs": [
    {
     "data": {
      "text/latex": [
       "$\\displaystyle 0$"
      ],
      "text/plain": [
       "0"
      ]
     },
     "execution_count": 223,
     "metadata": {},
     "output_type": "execute_result"
    }
   ],
   "source": [
    "re(I)"
   ]
  },
  {
   "cell_type": "code",
   "execution_count": 224,
   "id": "b095abbd",
   "metadata": {},
   "outputs": [
    {
     "ename": "NameError",
     "evalue": "name 'sym' is not defined",
     "output_type": "error",
     "traceback": [
      "\u001b[0;31m---------------------------------------------------------------------------\u001b[0m",
      "\u001b[0;31mNameError\u001b[0m                                 Traceback (most recent call last)",
      "\u001b[0;32m<ipython-input-224-9e83ddf73138>\u001b[0m in \u001b[0;36m<module>\u001b[0;34m\u001b[0m\n\u001b[0;32m----> 1\u001b[0;31m \u001b[0mt\u001b[0m \u001b[0;34m=\u001b[0m \u001b[0msym\u001b[0m\u001b[0;34m.\u001b[0m\u001b[0msymbols\u001b[0m\u001b[0;34m(\u001b[0m\u001b[0;34m\"t\"\u001b[0m\u001b[0;34m)\u001b[0m\u001b[0;34m\u001b[0m\u001b[0;34m\u001b[0m\u001b[0m\n\u001b[0m",
      "\u001b[0;31mNameError\u001b[0m: name 'sym' is not defined"
     ]
    }
   ],
   "source": [
    "t = sym.symbols(\"t\")"
   ]
  },
  {
   "cell_type": "code",
   "execution_count": null,
   "id": "96a4370e",
   "metadata": {},
   "outputs": [],
   "source": []
  }
 ],
 "metadata": {
  "kernelspec": {
   "display_name": "Python 3",
   "language": "python",
   "name": "python3"
  },
  "language_info": {
   "codemirror_mode": {
    "name": "ipython",
    "version": 3
   },
   "file_extension": ".py",
   "mimetype": "text/x-python",
   "name": "python",
   "nbconvert_exporter": "python",
   "pygments_lexer": "ipython3",
   "version": "3.8.8"
  }
 },
 "nbformat": 4,
 "nbformat_minor": 5
}
