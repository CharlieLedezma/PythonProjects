{
 "cells": [
  {
   "cell_type": "code",
   "execution_count": 2,
   "metadata": {},
   "outputs": [],
   "source": [
    "from sympy import *\n",
    "from sympy.physics.mechanics import LagrangesMethod, Lagrangian\n",
    "from sympy.physics.mechanics import ReferenceFrame, Particle, Point\n",
    "from sympy.physics.mechanics import dynamicsymbols, kinetic_energy\n",
    "from sympy.physics.mechanics import mprint, mlatex\n",
    "from sympy.physics.mechanics import dynamicsymbols, init_vprinting\n",
    "from sympy.plotting import plot"
   ]
  },
  {
   "cell_type": "code",
   "execution_count": 3,
   "metadata": {},
   "outputs": [],
   "source": [
    "init_vprinting()"
   ]
  },
  {
   "cell_type": "code",
   "execution_count": 4,
   "metadata": {},
   "outputs": [],
   "source": [
    "#Angulos de las juntas 1,2\n",
    "theta1 = dynamicsymbols(\"theta_1\")\n",
    "theta2 = dynamicsymbols(\"theta_2\")"
   ]
  },
  {
   "cell_type": "code",
   "execution_count": 5,
   "metadata": {},
   "outputs": [
    {
     "data": {
      "image/png": "[encoded data removed]",
      "text/latex": [
       "$\\displaystyle \\theta_{1}$"
      ],
      "text/plain": [
       "θ₁"
      ]
     },
     "execution_count": 5,
     "metadata": {},
     "output_type": "execute_result"
    }
   ],
   "source": [
    "theta1"
   ]
  },
  {
   "cell_type": "code",
   "execution_count": 5,
   "metadata": {},
   "outputs": [
    {
     "data": {
      "image/png": "[encoded data removed]",
      "text/latex": [
       "$\\displaystyle \\theta_{2}$"
      ],
      "text/plain": [
       "θ₂"
      ]
     },
     "execution_count": 5,
     "metadata": {},
     "output_type": "execute_result"
    }
   ],
   "source": [
    "theta2"
   ]
  },
  {
   "cell_type": "code",
   "execution_count": 6,
   "metadata": {},
   "outputs": [
    {
     "data": {
      "image/png": "[encoded data removed]",
      "text/latex": [
       "$\\displaystyle \\dot{\\theta}_{1}$"
      ],
      "text/plain": [
       "θ₁̇"
      ]
     },
     "execution_count": 6,
     "metadata": {},
     "output_type": "execute_result"
    }
   ],
   "source": [
    "theta1_d = dynamicsymbols(\"theta_1\",1)\n",
    "theta1_d"
   ]
  },
  {
   "cell_type": "code",
   "execution_count": 7,
   "metadata": {},
   "outputs": [
    {
     "data": {
      "image/png": "[encoded data removed]",
      "text/latex": [
       "$\\displaystyle \\dot{\\theta}_{2}$"
      ],
      "text/plain": [
       "θ₂̇"
      ]
     },
     "execution_count": 7,
     "metadata": {},
     "output_type": "execute_result"
    }
   ],
   "source": [
    "theta2_d = dynamicsymbols(\"theta_2\",1)\n",
    "theta2_d"
   ]
  },
  {
   "cell_type": "code",
   "execution_count": 8,
   "metadata": {},
   "outputs": [],
   "source": [
    "m1,lg1,l1,m2,lg2,g,t,I1,I2 = symbols(\"m_1 l_g1 l_1 m_2 l_g2 g t I1 I2\")"
   ]
  },
  {
   "cell_type": "code",
   "execution_count": 9,
   "metadata": {},
   "outputs": [
    {
     "data": {
      "image/png": "[encoded data removed]",
      "text/latex": [
       "$\\displaystyle l_{g1}$"
      ],
      "text/plain": [
       "l_g1"
      ]
     },
     "execution_count": 9,
     "metadata": {},
     "output_type": "execute_result"
    }
   ],
   "source": [
    "lg1"
   ]
  },
  {
   "cell_type": "code",
   "execution_count": 10,
   "metadata": {},
   "outputs": [
    {
     "data": {
      "image/png": "[encoded data removed]",
      "text/latex": [
       "$\\displaystyle l_{1} \\cos{\\left(\\theta_{1} \\right)} + l_{g2} \\cos{\\left(\\theta_{1} + \\theta_{2} \\right)}$"
      ],
      "text/plain": [
       "l₁⋅cos(θ₁) + l_g2⋅cos(θ₁ + θ₂)"
      ]
     },
     "execution_count": 10,
     "metadata": {},
     "output_type": "execute_result"
    }
   ],
   "source": [
    "#Posiciones de cada masa puntual en el sistema coordeando x-y\n",
    "x1 = lg1 * cos(theta1)\n",
    "y1 = lg1 * sin(theta1)\n",
    "x2 = l1 * cos(theta1) + lg2 * cos(theta1+theta2)\n",
    "y2 = l1 * sin(theta1) + lg2 * sin(theta1+theta2)\n",
    "x2"
   ]
  },
  {
   "cell_type": "code",
   "execution_count": 11,
   "metadata": {},
   "outputs": [
    {
     "data": {
      "image/png": "[encoded data removed]",
      "text/latex": [
       "$\\displaystyle l_{1} \\sin{\\left(\\theta_{1} \\right)} + l_{g2} \\sin{\\left(\\theta_{1} + \\theta_{2} \\right)}$"
      ],
      "text/plain": [
       "l₁⋅sin(θ₁) + l_g2⋅sin(θ₁ + θ₂)"
      ]
     },
     "execution_count": 11,
     "metadata": {},
     "output_type": "execute_result"
    }
   ],
   "source": [
    "y2"
   ]
  },
  {
   "cell_type": "code",
   "execution_count": 12,
   "metadata": {},
   "outputs": [
    {
     "data": {
      "image/png": "[encoded data removed]",
      "text/latex": [
       "$\\displaystyle \\frac{I_{2} \\left(\\dot{\\theta}_{1} + \\dot{\\theta}_{2}\\right)^{2}}{2}$"
      ],
      "text/plain": [
       "            2\n",
       "I₂⋅(θ₁̇ + θ₂̇) \n",
       "─────────────\n",
       "      2      "
      ]
     },
     "execution_count": 12,
     "metadata": {},
     "output_type": "execute_result"
    }
   ],
   "source": [
    "#Momentos de inercia\n",
    "i1 = Rational(1/2)*I1*diff(theta1,t)**2\n",
    "i2 = Rational(1/2)*I2*(diff(theta1,t)+diff(theta2,t))**2\n",
    "i2"
   ]
  },
  {
   "cell_type": "code",
   "execution_count": 13,
   "metadata": {},
   "outputs": [
    {
     "data": {
      "image/png": "[encoded data removed]",
      "text/latex": [
       "$\\displaystyle \\frac{I_{1} \\dot{\\theta}_{1}^{2}}{2} + \\frac{I_{2} \\dot{\\theta}_{1}^{2}}{2} + I_{2} \\dot{\\theta}_{1} \\dot{\\theta}_{2} + \\frac{I_{2} \\dot{\\theta}_{2}^{2}}{2} + \\frac{l_{1}^{2} m_{2} \\dot{\\theta}_{1}^{2}}{2} + l_{1} l_{g2} m_{2} \\cos{\\left(\\theta_{2} \\right)} \\dot{\\theta}_{1}^{2} + l_{1} l_{g2} m_{2} \\cos{\\left(\\theta_{2} \\right)} \\dot{\\theta}_{1} \\dot{\\theta}_{2} + \\frac{l_{g1}^{2} m_{1} \\dot{\\theta}_{1}^{2}}{2} + \\frac{l_{g2}^{2} m_{2} \\dot{\\theta}_{1}^{2}}{2} + l_{g2}^{2} m_{2} \\dot{\\theta}_{1} \\dot{\\theta}_{2} + \\frac{l_{g2}^{2} m_{2} \\dot{\\theta}_{2}^{2}}{2}$"
      ],
      "text/plain": [
       "     2        2                   2     2      2                              \n",
       "I₁⋅θ₁̇    I₂⋅θ₁̇               I₂⋅θ₂̇    l₁ ⋅m₂⋅θ₁̇                         2 \n",
       "────── + ────── + I₂⋅θ₁̇⋅θ₂̇ + ────── + ────────── + l₁⋅l_g2⋅m₂⋅cos(θ₂)⋅θ₁̇  +\n",
       "  2        2                   2          2                                   \n",
       "\n",
       "                             2      2       2      2                        2 \n",
       "                             l_g1 ⋅m₁⋅θ₁̇    l_g2 ⋅m₂⋅θ₁̇        2            \n",
       " l₁⋅l_g2⋅m₂⋅cos(θ₂)⋅θ₁̇⋅θ₂̇ + ──────────── + ──────────── + l_g2 ⋅m₂⋅θ₁̇⋅θ₂̇ +\n",
       "                              2              2                               2\n",
       "\n",
       "     2\n",
       "l_g2 ⋅m₂⋅θ₂̇ \n",
       " ────────────\n",
       "      "
      ]
     },
     "execution_count": 13,
     "metadata": {},
     "output_type": "execute_result"
    }
   ],
   "source": [
    "# Energia Cinética\n",
    "k1 = Rational(1/2)*m1*(diff(x1,t))**2 + Rational(1/2)*m1*(diff(y1,t))**2 + i1\n",
    "k2 = Rational(1/2)*m2*(diff(x2,t))**2 + Rational(1/2)*m2*(diff(y2,t))**2 + i2\n",
    "k = simplify(k1 + k2)\n",
    "k"
   ]
  },
  {
   "cell_type": "code",
   "execution_count": 14,
   "metadata": {},
   "outputs": [
    {
     "data": {
      "image/png": "[encoded data removed]",
      "text/latex": [
       "$\\displaystyle g l_{g1} m_{1} \\sin{\\left(\\theta_{1} \\right)} + g m_{2} \\left(l_{1} \\sin{\\left(\\theta_{1} \\right)} + l_{g2} \\sin{\\left(\\theta_{1} + \\theta_{2} \\right)}\\right)$"
      ],
      "text/plain": [
       "g⋅l_g1⋅m₁⋅sin(θ₁) + g⋅m₂⋅(l₁⋅sin(θ₁) + l_g2⋅sin(θ₁ + θ₂))"
      ]
     },
     "execution_count": 14,
     "metadata": {},
     "output_type": "execute_result"
    }
   ],
   "source": [
    "# Energia Potencial\n",
    "u1 = m1 * g * y1\n",
    "u2 = m2 * g * y2\n",
    "u = u1 + u2\n",
    "u"
   ]
  },
  {
   "cell_type": "code",
   "execution_count": 15,
   "metadata": {},
   "outputs": [
    {
     "data": {
      "image/png": "[encoded data removed]",
      "text/latex": [
       "$\\displaystyle g l_{g1} m_{1} \\sin{\\left(\\theta_{1} \\right)}$"
      ],
      "text/plain": [
       "g⋅l_g1⋅m₁⋅sin(θ₁)"
      ]
     },
     "execution_count": 15,
     "metadata": {},
     "output_type": "execute_result"
    }
   ],
   "source": [
    "u1"
   ]
  },
  {
   "cell_type": "code",
   "execution_count": 16,
   "metadata": {},
   "outputs": [
    {
     "data": {
      "image/png": "[encoded data removed]",
      "text/latex": [
       "$\\displaystyle \\frac{I_{1} \\dot{\\theta}_{1}^{2}}{2} + \\frac{I_{2} \\dot{\\theta}_{1}^{2}}{2} + I_{2} \\dot{\\theta}_{1} \\dot{\\theta}_{2} + \\frac{I_{2} \\dot{\\theta}_{2}^{2}}{2} - g l_{g1} m_{1} \\sin{\\left(\\theta_{1} \\right)} - g m_{2} \\left(l_{1} \\sin{\\left(\\theta_{1} \\right)} + l_{g2} \\sin{\\left(\\theta_{1} + \\theta_{2} \\right)}\\right) + \\frac{l_{1}^{2} m_{2} \\dot{\\theta}_{1}^{2}}{2} + l_{1} l_{g2} m_{2} \\cos{\\left(\\theta_{2} \\right)} \\dot{\\theta}_{1}^{2} + l_{1} l_{g2} m_{2} \\cos{\\left(\\theta_{2} \\right)} \\dot{\\theta}_{1} \\dot{\\theta}_{2} + \\frac{l_{g1}^{2} m_{1} \\dot{\\theta}_{1}^{2}}{2} + \\frac{l_{g2}^{2} m_{2} \\dot{\\theta}_{1}^{2}}{2} + l_{g2}^{2} m_{2} \\dot{\\theta}_{1} \\dot{\\theta}_{2} + \\frac{l_{g2}^{2} m_{2} \\dot{\\theta}_{2}^{2}}{2}$"
      ],
      "text/plain": [
       "     2        2                   2                                           \n",
       "I₁⋅θ₁̇    I₂⋅θ₁̇               I₂⋅θ₂̇                                         \n",
       "────── + ────── + I₂⋅θ₁̇⋅θ₂̇ + ────── - g⋅l_g1⋅m₁⋅sin(θ₁) - g⋅m₂⋅(l₁⋅sin(θ₁) +\n",
       "  2        2                   2                                              \n",
       "\n",
       "                      2      2                                                \n",
       "                       l₁ ⋅m₂⋅θ₁̇                         2                   \n",
       " l_g2⋅sin(θ₁ + θ₂)) + ────────── + l₁⋅l_g2⋅m₂⋅cos(θ₂)⋅θ₁̇  + l₁⋅l_g2⋅m₂⋅cos(θ₂\n",
       "                        2                                                     \n",
       "\n",
       "           2      2       2      2                        2      2\n",
       "           l_g1 ⋅m₁⋅θ₁̇    l_g2 ⋅m₂⋅θ₁̇        2            l_g2 ⋅m₂⋅θ₂̇ \n",
       ")⋅θ₁̇⋅θ₂̇ + ──────────── + ──────────── + l_g2 ⋅m₂⋅θ₁̇⋅θ₂̇ + ────────────\n",
       "            2              2                               2      "
      ]
     },
     "execution_count": 16,
     "metadata": {},
     "output_type": "execute_result"
    }
   ],
   "source": [
    "#Lagrangian\n",
    "Lagr = k-u\n",
    "Lagr"
   ]
  },
  {
   "cell_type": "code",
   "execution_count": 17,
   "metadata": {},
   "outputs": [],
   "source": [
    "#Lagrange Equations\n",
    "rhs1 = simplify(diff(Lagr,theta1))\n",
    "rhs2 = simplify(diff(Lagr,theta2))"
   ]
  },
  {
   "cell_type": "code",
   "execution_count": 18,
   "metadata": {},
   "outputs": [],
   "source": [
    "lhs1 = simplify(diff(diff(Lagr,diff(theta1,t)),t))\n",
    "lhs2 = simplify(diff(diff(Lagr,diff(theta2,t)),t))"
   ]
  },
  {
   "cell_type": "code",
   "execution_count": 19,
   "metadata": {},
   "outputs": [
    {
     "data": {
      "image/png": "[encoded data removed]",
      "text/latex": [
       "$\\displaystyle I_{2} \\ddot{\\theta}_{1} + I_{2} \\ddot{\\theta}_{2} - l_{1} l_{g2} m_{2} \\sin{\\left(\\theta_{2} \\right)} \\dot{\\theta}_{1} \\dot{\\theta}_{2} + l_{1} l_{g2} m_{2} \\cos{\\left(\\theta_{2} \\right)} \\ddot{\\theta}_{1} + l_{g2}^{2} m_{2} \\ddot{\\theta}_{1} + l_{g2}^{2} m_{2} \\ddot{\\theta}_{2}$"
      ],
      "text/plain": [
       "                                                                       2      \n",
       "I₂⋅θ₁̈ + I₂⋅θ₂̈ - l₁⋅l_g2⋅m₂⋅sin(θ₂)⋅θ₁̇⋅θ₂̇ + l₁⋅l_g2⋅m₂⋅cos(θ₂)⋅θ₁̈ + l_g2 ⋅\n",
       "\n",
       "       2      \n",
       "m₂⋅θ₁̈ + l_g2 ⋅m₂⋅θ₂̈"
      ]
     },
     "metadata": {},
     "output_type": "display_data"
    }
   ],
   "source": [
    "display(lhs2)"
   ]
  },
  {
   "cell_type": "code",
   "execution_count": 20,
   "metadata": {},
   "outputs": [
    {
     "data": {
      "image/png": "[encoded data removed]",
      "text/latex": [
       "$\\displaystyle - g \\left(l_{1} m_{2} \\cos{\\left(\\theta_{1} \\right)} + l_{g1} m_{1} \\cos{\\left(\\theta_{1} \\right)} + l_{g2} m_{2} \\cos{\\left(\\theta_{1} + \\theta_{2} \\right)}\\right) = I_{1} \\ddot{\\theta}_{1} + I_{2} \\ddot{\\theta}_{1} + I_{2} \\ddot{\\theta}_{2} + l_{1}^{2} m_{2} \\ddot{\\theta}_{1} - 2 l_{1} l_{g2} m_{2} \\sin{\\left(\\theta_{2} \\right)} \\dot{\\theta}_{1} \\dot{\\theta}_{2} - l_{1} l_{g2} m_{2} \\sin{\\left(\\theta_{2} \\right)} \\dot{\\theta}_{2}^{2} + 2 l_{1} l_{g2} m_{2} \\cos{\\left(\\theta_{2} \\right)} \\ddot{\\theta}_{1} + l_{1} l_{g2} m_{2} \\cos{\\left(\\theta_{2} \\right)} \\ddot{\\theta}_{2} + l_{g1}^{2} m_{1} \\ddot{\\theta}_{1} + l_{g2}^{2} m_{2} \\ddot{\\theta}_{1} + l_{g2}^{2} m_{2} \\ddot{\\theta}_{2}$"
      ],
      "text/plain": [
       "                                                                              \n",
       "-g⋅(l₁⋅m₂⋅cos(θ₁) + l_g1⋅m₁⋅cos(θ₁) + l_g2⋅m₂⋅cos(θ₁ + θ₂)) = I₁⋅θ₁̈ + I₂⋅θ₁̈ \n",
       "\n",
       "          2                                                           2       \n",
       "+ I₂⋅θ₂̈ + l₁ ⋅m₂⋅θ₁̈ - 2⋅l₁⋅l_g2⋅m₂⋅sin(θ₂)⋅θ₁̇⋅θ₂̇ - l₁⋅l_g2⋅m₂⋅sin(θ₂)⋅θ₂̇ \n",
       "\n",
       "                                                  2             2             \n",
       " + 2⋅l₁⋅l_g2⋅m₂⋅cos(θ₂)⋅θ₁̈ + l₁⋅l_g2⋅m₂⋅cos(θ₂)⋅θ₂̈ + l_g1 ⋅m₁⋅θ₁̈ + l_g2 ⋅m₂\n",
       "\n",
       "2      \n",
       "⋅θ₁̈ + l_g2 ⋅m₂⋅θ₂̈"
      ]
     },
     "execution_count": 20,
     "metadata": {},
     "output_type": "execute_result"
    }
   ],
   "source": [
    "Eq1 = Eq(rhs1,lhs1)\n",
    "Eq1"
   ]
  },
  {
   "cell_type": "code",
   "execution_count": 21,
   "metadata": {},
   "outputs": [
    {
     "data": {
      "image/png": "[encoded data removed]",
      "text/latex": [
       "$\\displaystyle - l_{g2} m_{2} \\left(g \\cos{\\left(\\theta_{1} + \\theta_{2} \\right)} + l_{1} \\sin{\\left(\\theta_{2} \\right)} \\dot{\\theta}_{1}^{2} + l_{1} \\sin{\\left(\\theta_{2} \\right)} \\dot{\\theta}_{1} \\dot{\\theta}_{2}\\right) = I_{2} \\ddot{\\theta}_{1} + I_{2} \\ddot{\\theta}_{2} - l_{1} l_{g2} m_{2} \\sin{\\left(\\theta_{2} \\right)} \\dot{\\theta}_{1} \\dot{\\theta}_{2} + l_{1} l_{g2} m_{2} \\cos{\\left(\\theta_{2} \\right)} \\ddot{\\theta}_{1} + l_{g2}^{2} m_{2} \\ddot{\\theta}_{1} + l_{g2}^{2} m_{2} \\ddot{\\theta}_{2}$"
      ],
      "text/plain": [
       "         ⎛                              2                   ⎞                 \n",
       "-l_g2⋅m₂⋅⎝g⋅cos(θ₁ + θ₂) + l₁⋅sin(θ₂)⋅θ₁̇  + l₁⋅sin(θ₂)⋅θ₁̇⋅θ₂̇⎠ = I₂⋅θ₁̈ + I₂\n",
       "\n",
       "                                                         2             2      \n",
       "⋅θ₂̈ - l₁⋅l_g2⋅m₂⋅sin(θ₂)⋅θ₁̇⋅θ₂̇ + l₁⋅l_g2⋅m₂⋅cos(θ₂)⋅θ₁̈ + l_g2 ⋅m₂⋅θ₁̈ + l_"
      ]
     },
     "execution_count": 21,
     "metadata": {},
     "output_type": "execute_result"
    }
   ],
   "source": [
    "Eq2 = Eq(rhs2,lhs2)\n",
    "Eq2"
   ]
  },
  {
   "cell_type": "code",
   "execution_count": 22,
   "metadata": {},
   "outputs": [
    {
     "data": {
      "image/png": "[encoded data removed]",
      "text/latex": [
       "$\\displaystyle \\frac{I_{1} \\dot{\\theta}_{1}^{2}}{2} + \\frac{l_{g1}^{2} m_{1} \\sin^{2}{\\left(\\theta_{1} \\right)} \\dot{\\theta}_{1}^{2}}{2} + \\frac{l_{g1}^{2} m_{1} \\cos^{2}{\\left(\\theta_{1} \\right)} \\dot{\\theta}_{1}^{2}}{2}$"
      ],
      "text/plain": [
       "     2       2       2       2       2       2       2\n",
       "I₁⋅θ₁̇    l_g1 ⋅m₁⋅sin (θ₁)⋅θ₁̇    l_g1 ⋅m₁⋅cos (θ₁)⋅θ₁̇ \n",
       "────── + ───────────────────── + ─────────────────────\n",
       "  2                2                       2          "
      ]
     },
     "execution_count": 22,
     "metadata": {},
     "output_type": "execute_result"
    }
   ],
   "source": [
    "k1"
   ]
  },
  {
   "cell_type": "code",
   "execution_count": 23,
   "metadata": {},
   "outputs": [
    {
     "data": {
      "image/png": "[encoded data removed]",
      "text/latex": [
       "$\\displaystyle \\frac{I_{2} \\left(\\dot{\\theta}_{1} + \\dot{\\theta}_{2}\\right)^{2}}{2} + \\frac{m_{2} \\left(- l_{1} \\sin{\\left(\\theta_{1} \\right)} \\dot{\\theta}_{1} - l_{g2} \\left(\\dot{\\theta}_{1} + \\dot{\\theta}_{2}\\right) \\sin{\\left(\\theta_{1} + \\theta_{2} \\right)}\\right)^{2}}{2} + \\frac{m_{2} \\left(l_{1} \\cos{\\left(\\theta_{1} \\right)} \\dot{\\theta}_{1} + l_{g2} \\left(\\dot{\\theta}_{1} + \\dot{\\theta}_{2}\\right) \\cos{\\left(\\theta_{1} + \\theta_{2} \\right)}\\right)^{2}}{2}$"
      ],
      "text/plain": [
       "            2                                                    2            \n",
       "I₂⋅(θ₁̇ + θ₂̇)    m₂⋅(-l₁⋅sin(θ₁)⋅θ₁̇ - l_g2⋅(θ₁̇ + θ₂̇)⋅sin(θ₁ + θ₂))    m₂⋅(\n",
       "───────────── + ────────────────────────────────────────────────── + ─────────\n",
       "      2                                 2                                     \n",
       "\n",
       "                                       2\n",
       "l₁⋅cos(θ₁)⋅θ₁̇ + l_g2⋅(θ₁̇ + θ₂̇)⋅cos(θ₁ + θ₂)) \n",
       "────────────────────────────────────────\n",
       "               2                        "
      ]
     },
     "execution_count": 23,
     "metadata": {},
     "output_type": "execute_result"
    }
   ],
   "source": [
    "k2"
   ]
  },
  {
   "cell_type": "code",
   "execution_count": 24,
   "metadata": {
    "scrolled": false
   },
   "outputs": [
    {
     "data": {
      "image/png": "[encoded data removed]",
      "text/latex": [
       "$\\displaystyle g l_{1} m_{2} \\sin{\\left(\\theta_{1} \\right)} + g l_{g1} m_{1} \\sin{\\left(\\theta_{1} \\right)} + g l_{g2} m_{2} \\sin{\\left(\\theta_{1} + \\theta_{2} \\right)}$"
      ],
      "text/plain": [
       "g⋅l₁⋅m₂⋅sin(θ₁) + g⋅l_g1⋅m₁⋅sin(θ₁) + g⋅l_g2⋅m₂⋅sin(θ₁ + θ₂)"
      ]
     },
     "execution_count": 24,
     "metadata": {},
     "output_type": "execute_result"
    }
   ],
   "source": [
    "expand(u)"
   ]
  },
  {
   "cell_type": "code",
   "execution_count": 25,
   "metadata": {},
   "outputs": [
    {
     "data": {
      "text/latex": [
       "$\\displaystyle \\left[\\begin{matrix}- l_{g1} \\sin{\\left(\\theta_{1} \\right)} & 0\\\\l_{g1} \\cos{\\left(\\theta_{1} \\right)} & 0\\\\1 & 0\\end{matrix}\\right]$"
      ],
      "text/plain": [
       "⎡-l_g1⋅sin(θ₁)  0⎤\n",
       "⎢                ⎥\n",
       "⎢l_g1⋅cos(θ₁)   0⎥\n",
       "⎢                ⎥\n",
       "⎣      1        0⎦"
      ]
     },
     "execution_count": 25,
     "metadata": {},
     "output_type": "execute_result"
    }
   ],
   "source": [
    "#Cálculo del Jacobiano del Link 1\n",
    "J1 = Matrix([[diff(x1,theta1),diff(x1,theta2)],[diff(y1,theta1),diff(y1,theta2)],[1,0]])\n",
    "J1"
   ]
  },
  {
   "cell_type": "code",
   "execution_count": 26,
   "metadata": {},
   "outputs": [
    {
     "data": {
      "text/latex": [
       "$\\displaystyle \\left[\\begin{matrix}\\dot{\\theta}_{1}\\\\\\dot{\\theta}_{2}\\end{matrix}\\right]$"
      ],
      "text/plain": [
       "⎡θ₁̇⎤\n",
       "⎢  ⎥\n",
       "⎣θ₂̇⎦"
      ]
     },
     "metadata": {},
     "output_type": "display_data"
    }
   ],
   "source": [
    "qdot = Matrix([[theta1_d],[theta2_d]])\n",
    "display(qdot)"
   ]
  },
  {
   "cell_type": "code",
   "execution_count": 27,
   "metadata": {},
   "outputs": [
    {
     "data": {
      "text/latex": [
       "$\\displaystyle \\left[\\begin{matrix}- l_{g1} \\sin{\\left(\\theta_{1} \\right)} \\dot{\\theta}_{1}\\\\l_{g1} \\cos{\\left(\\theta_{1} \\right)} \\dot{\\theta}_{1}\\\\\\dot{\\theta}_{1}\\end{matrix}\\right]$"
      ],
      "text/plain": [
       "⎡-l_g1⋅sin(θ₁)⋅θ₁̇⎤\n",
       "⎢                ⎥\n",
       "⎢l_g1⋅cos(θ₁)⋅θ₁̇ ⎥\n",
       "⎢                ⎥\n",
       "⎣       θ₁̇       ⎦"
      ]
     },
     "metadata": {},
     "output_type": "display_data"
    }
   ],
   "source": [
    "V1 = J1*qdot\n",
    "display(V1)"
   ]
  },
  {
   "cell_type": "code",
   "execution_count": 28,
   "metadata": {},
   "outputs": [
    {
     "data": {
      "text/latex": [
       "$\\displaystyle \\left[\\begin{matrix}m_{1} & 0 & 0\\\\0 & m_{1} & 0\\\\0 & 0 & I_{1}\\end{matrix}\\right]$"
      ],
      "text/plain": [
       "⎡m₁  0   0 ⎤\n",
       "⎢          ⎥\n",
       "⎢0   m₁  0 ⎥\n",
       "⎢          ⎥\n",
       "⎣0   0   I₁⎦"
      ]
     },
     "metadata": {},
     "output_type": "display_data"
    }
   ],
   "source": [
    "G1 = Matrix([[m1,0,0],[0,m1,0],[0,0,I1]])\n",
    "display(G1)"
   ]
  },
  {
   "cell_type": "code",
   "execution_count": 29,
   "metadata": {
    "scrolled": true
   },
   "outputs": [
    {
     "data": {
      "image/png": "[encoded data removed]",
      "text/latex": [
       "$\\displaystyle \\frac{I_{1} \\dot{\\theta}_{1}^{2}}{2} + \\frac{l_{g1}^{2} m_{1} \\sin^{2}{\\left(\\theta_{1} \\right)} \\dot{\\theta}_{1}^{2}}{2} + \\frac{l_{g1}^{2} m_{1} \\cos^{2}{\\left(\\theta_{1} \\right)} \\dot{\\theta}_{1}^{2}}{2}$"
      ],
      "text/plain": [
       "     2       2       2       2       2       2       2\n",
       "I₁⋅θ₁̇    l_g1 ⋅m₁⋅sin (θ₁)⋅θ₁̇    l_g1 ⋅m₁⋅cos (θ₁)⋅θ₁̇ \n",
       "────── + ───────────────────── + ─────────────────────\n",
       "  2                2                       2          "
      ]
     },
     "metadata": {},
     "output_type": "display_data"
    }
   ],
   "source": [
    "kk1 = Rational(1/2) * V1.T * G1 * V1\n",
    "display (kk1[0,0])"
   ]
  },
  {
   "cell_type": "code",
   "execution_count": 159,
   "metadata": {},
   "outputs": [
    {
     "data": {
      "image/png": "[encoded data removed]",
      "text/latex": [
       "$\\displaystyle \\frac{I_{1} \\dot{\\theta}_{1}^{2}}{2} + \\frac{l_{g1}^{2} m_{1} \\sin^{2}{\\left(\\theta_{1} \\right)} \\dot{\\theta}_{1}^{2}}{2} + \\frac{l_{g1}^{2} m_{1} \\cos^{2}{\\left(\\theta_{1} \\right)} \\dot{\\theta}_{1}^{2}}{2}$"
      ],
      "text/plain": [
       "     2       2       2       2       2       2       2\n",
       "I₁⋅θ₁̇    l_g1 ⋅m₁⋅sin (θ₁)⋅θ₁̇    l_g1 ⋅m₁⋅cos (θ₁)⋅θ₁̇ \n",
       "────── + ───────────────────── + ─────────────────────\n",
       "  2                2                       2          "
      ]
     },
     "metadata": {},
     "output_type": "display_data"
    }
   ],
   "source": [
    "#Obtención de la Energía cinética a partir de las variables generalizadas\n",
    "kk1 = Rational(1/2) * qdot.T * J1.T * G1 * J1 * qdot\n",
    "display (expand(kk1[0,0]))"
   ]
  },
  {
   "cell_type": "code",
   "execution_count": 30,
   "metadata": {},
   "outputs": [
    {
     "data": {
      "image/png": "[encoded data removed]",
      "text/latex": [
       "$\\displaystyle \\frac{I_{1} \\dot{\\theta}_{1}^{2}}{2} + \\frac{l_{g1}^{2} m_{1} \\sin^{2}{\\left(\\theta_{1} \\right)} \\dot{\\theta}_{1}^{2}}{2} + \\frac{l_{g1}^{2} m_{1} \\cos^{2}{\\left(\\theta_{1} \\right)} \\dot{\\theta}_{1}^{2}}{2}$"
      ],
      "text/plain": [
       "     2       2       2       2       2       2       2\n",
       "I₁⋅θ₁̇    l_g1 ⋅m₁⋅sin (θ₁)⋅θ₁̇    l_g1 ⋅m₁⋅cos (θ₁)⋅θ₁̇ \n",
       "────── + ───────────────────── + ─────────────────────\n",
       "  2                2                       2          "
      ]
     },
     "metadata": {},
     "output_type": "display_data"
    }
   ],
   "source": [
    "#Comparación con la energía cinética obtenida derivando la posición (ver arriba)\n",
    "display (k1)"
   ]
  },
  {
   "cell_type": "code",
   "execution_count": 31,
   "metadata": {
    "scrolled": true
   },
   "outputs": [
    {
     "data": {
      "text/latex": [
       "$\\displaystyle \\left[\\begin{matrix}I_{1} + l_{g1}^{2} m_{1} \\sin^{2}{\\left(\\theta_{1} \\right)} + l_{g1}^{2} m_{1} \\cos^{2}{\\left(\\theta_{1} \\right)} & 0\\\\0 & 0\\end{matrix}\\right]$"
      ],
      "text/plain": [
       "⎡         2       2           2       2       ⎤\n",
       "⎢I₁ + l_g1 ⋅m₁⋅sin (θ₁) + l_g1 ⋅m₁⋅cos (θ₁)  0⎥\n",
       "⎢                                             ⎥\n",
       "⎣                    0                       0⎦"
      ]
     },
     "metadata": {},
     "output_type": "display_data"
    }
   ],
   "source": [
    "#Mass Matrix\n",
    "M1 = J1.T * G1 * J1\n",
    "display(M1)"
   ]
  },
  {
   "cell_type": "code",
   "execution_count": 32,
   "metadata": {},
   "outputs": [
    {
     "data": {
      "text/latex": [
       "$\\displaystyle \\left[\\begin{matrix}- l_{1} \\sin{\\left(\\theta_{1} \\right)} - l_{g2} \\sin{\\left(\\theta_{1} + \\theta_{2} \\right)} & - l_{g2} \\sin{\\left(\\theta_{1} + \\theta_{2} \\right)}\\\\l_{1} \\cos{\\left(\\theta_{1} \\right)} + l_{g2} \\cos{\\left(\\theta_{1} + \\theta_{2} \\right)} & l_{g2} \\cos{\\left(\\theta_{1} + \\theta_{2} \\right)}\\\\1 & 1\\end{matrix}\\right]$"
      ],
      "text/plain": [
       "⎡-l₁⋅sin(θ₁) - l_g2⋅sin(θ₁ + θ₂)  -l_g2⋅sin(θ₁ + θ₂)⎤\n",
       "⎢                                                   ⎥\n",
       "⎢l₁⋅cos(θ₁) + l_g2⋅cos(θ₁ + θ₂)   l_g2⋅cos(θ₁ + θ₂) ⎥\n",
       "⎢                                                   ⎥\n",
       "⎣               1                         1         ⎦"
      ]
     },
     "execution_count": 32,
     "metadata": {},
     "output_type": "execute_result"
    }
   ],
   "source": [
    "#Cálculo del Jacobiano del Link 2\n",
    "J2 = Matrix([[diff(x2,theta1),diff(x2,theta2)],[diff(y2,theta1),diff(y2,theta2)],[1,1]])\n",
    "J2"
   ]
  },
  {
   "cell_type": "code",
   "execution_count": 33,
   "metadata": {
    "scrolled": true
   },
   "outputs": [
    {
     "data": {
      "text/latex": [
       "$\\displaystyle \\left[\\begin{matrix}- l_{g2} \\sin{\\left(\\theta_{1} + \\theta_{2} \\right)} \\dot{\\theta}_{2} + \\left(- l_{1} \\sin{\\left(\\theta_{1} \\right)} - l_{g2} \\sin{\\left(\\theta_{1} + \\theta_{2} \\right)}\\right) \\dot{\\theta}_{1}\\\\l_{g2} \\cos{\\left(\\theta_{1} + \\theta_{2} \\right)} \\dot{\\theta}_{2} + \\left(l_{1} \\cos{\\left(\\theta_{1} \\right)} + l_{g2} \\cos{\\left(\\theta_{1} + \\theta_{2} \\right)}\\right) \\dot{\\theta}_{1}\\\\\\dot{\\theta}_{1} + \\dot{\\theta}_{2}\\end{matrix}\\right]$"
      ],
      "text/plain": [
       "⎡-l_g2⋅sin(θ₁ + θ₂)⋅θ₂̇ + (-l₁⋅sin(θ₁) - l_g2⋅sin(θ₁ + θ₂))⋅θ₁̇⎤\n",
       "⎢                                                            ⎥\n",
       "⎢ l_g2⋅cos(θ₁ + θ₂)⋅θ₂̇ + (l₁⋅cos(θ₁) + l_g2⋅cos(θ₁ + θ₂))⋅θ₁̇ ⎥\n",
       "⎢                                                            ⎥\n",
       "⎣                          θ₁̇ + θ₂̇                           ⎦"
      ]
     },
     "metadata": {},
     "output_type": "display_data"
    }
   ],
   "source": [
    "V2 = J2*qdot\n",
    "display(V2)"
   ]
  },
  {
   "cell_type": "code",
   "execution_count": 34,
   "metadata": {},
   "outputs": [
    {
     "data": {
      "text/latex": [
       "$\\displaystyle \\left[\\begin{matrix}m_{2} & 0 & 0\\\\0 & m_{2} & 0\\\\0 & 0 & I_{2}\\end{matrix}\\right]$"
      ],
      "text/plain": [
       "⎡m₂  0   0 ⎤\n",
       "⎢          ⎥\n",
       "⎢0   m₂  0 ⎥\n",
       "⎢          ⎥\n",
       "⎣0   0   I₂⎦"
      ]
     },
     "metadata": {},
     "output_type": "display_data"
    }
   ],
   "source": [
    "G2 = Matrix([[m2,0,0],[0,m2,0],[0,0,I2]])\n",
    "display(G2)"
   ]
  },
  {
   "cell_type": "code",
   "execution_count": 35,
   "metadata": {},
   "outputs": [
    {
     "data": {
      "image/png": "[encoded data removed]",
      "text/latex": [
       "$\\displaystyle \\frac{I_{2} \\dot{\\theta}_{1}^{2}}{2} + I_{2} \\dot{\\theta}_{1} \\dot{\\theta}_{2} + \\frac{I_{2} \\dot{\\theta}_{2}^{2}}{2} + \\frac{l_{1}^{2} m_{2} \\dot{\\theta}_{1}^{2}}{2} + l_{1} l_{g2} m_{2} \\cos{\\left(\\theta_{2} \\right)} \\dot{\\theta}_{1}^{2} + l_{1} l_{g2} m_{2} \\cos{\\left(\\theta_{2} \\right)} \\dot{\\theta}_{1} \\dot{\\theta}_{2} + \\frac{l_{g2}^{2} m_{2} \\dot{\\theta}_{1}^{2}}{2} + l_{g2}^{2} m_{2} \\dot{\\theta}_{1} \\dot{\\theta}_{2} + \\frac{l_{g2}^{2} m_{2} \\dot{\\theta}_{2}^{2}}{2}$"
      ],
      "text/plain": [
       "     2                   2     2      2                                       \n",
       "I₂⋅θ₁̇               I₂⋅θ₂̇    l₁ ⋅m₂⋅θ₁̇                         2           \n",
       "────── + I₂⋅θ₁̇⋅θ₂̇ + ────── + ────────── + l₁⋅l_g2⋅m₂⋅cos(θ₂)⋅θ₁̇  + l₁⋅l_g2⋅\n",
       "  2                   2          2                                            \n",
       "\n",
       "                    2      2                        2      2\n",
       "                   l_g2 ⋅m₂⋅θ₁̇        2            l_g2 ⋅m₂⋅θ₂̇ \n",
       "m₂⋅cos(θ₂)⋅θ₁̇⋅θ₂̇ + ──────────── + l_g2 ⋅m₂⋅θ₁̇⋅θ₂̇ + ────────────\n",
       "                     2                               2      "
      ]
     },
     "metadata": {},
     "output_type": "display_data"
    }
   ],
   "source": [
    "kk2 = Rational(1/2) * V2.T * G2 * V2\n",
    "display (simplify(kk2[0,0]))\n",
    "#display (kk2)"
   ]
  },
  {
   "cell_type": "code",
   "execution_count": 36,
   "metadata": {},
   "outputs": [
    {
     "data": {
      "image/png": "[encoded data removed]",
      "text/latex": [
       "$\\displaystyle \\frac{I_{2} \\dot{\\theta}_{1}^{2}}{2} + I_{2} \\dot{\\theta}_{1} \\dot{\\theta}_{2} + \\frac{I_{2} \\dot{\\theta}_{2}^{2}}{2} + \\frac{l_{1}^{2} m_{2} \\dot{\\theta}_{1}^{2}}{2} + l_{1} l_{g2} m_{2} \\cos{\\left(\\theta_{2} \\right)} \\dot{\\theta}_{1}^{2} + l_{1} l_{g2} m_{2} \\cos{\\left(\\theta_{2} \\right)} \\dot{\\theta}_{1} \\dot{\\theta}_{2} + \\frac{l_{g2}^{2} m_{2} \\dot{\\theta}_{1}^{2}}{2} + l_{g2}^{2} m_{2} \\dot{\\theta}_{1} \\dot{\\theta}_{2} + \\frac{l_{g2}^{2} m_{2} \\dot{\\theta}_{2}^{2}}{2}$"
      ],
      "text/plain": [
       "     2                   2     2      2                                       \n",
       "I₂⋅θ₁̇               I₂⋅θ₂̇    l₁ ⋅m₂⋅θ₁̇                         2           \n",
       "────── + I₂⋅θ₁̇⋅θ₂̇ + ────── + ────────── + l₁⋅l_g2⋅m₂⋅cos(θ₂)⋅θ₁̇  + l₁⋅l_g2⋅\n",
       "  2                   2          2                                            \n",
       "\n",
       "                    2      2                        2      2\n",
       "                   l_g2 ⋅m₂⋅θ₁̇        2            l_g2 ⋅m₂⋅θ₂̇ \n",
       "m₂⋅cos(θ₂)⋅θ₁̇⋅θ₂̇ + ──────────── + l_g2 ⋅m₂⋅θ₁̇⋅θ₂̇ + ────────────\n",
       "                     2                               2      "
      ]
     },
     "metadata": {},
     "output_type": "display_data"
    }
   ],
   "source": [
    "#Comparación con la energía cinética obtenida derivando la posición (ver arriba)\n",
    "display (simplify(k2))"
   ]
  },
  {
   "cell_type": "code",
   "execution_count": 37,
   "metadata": {},
   "outputs": [
    {
     "data": {
      "text/latex": [
       "$\\displaystyle \\left[\\begin{matrix}I_{2} + m_{2} \\left(- l_{1} \\sin{\\left(\\theta_{1} \\right)} - l_{g2} \\sin{\\left(\\theta_{1} + \\theta_{2} \\right)}\\right)^{2} + m_{2} \\left(l_{1} \\cos{\\left(\\theta_{1} \\right)} + l_{g2} \\cos{\\left(\\theta_{1} + \\theta_{2} \\right)}\\right)^{2} & I_{2} - l_{g2} m_{2} \\left(- l_{1} \\sin{\\left(\\theta_{1} \\right)} - l_{g2} \\sin{\\left(\\theta_{1} + \\theta_{2} \\right)}\\right) \\sin{\\left(\\theta_{1} + \\theta_{2} \\right)} + l_{g2} m_{2} \\left(l_{1} \\cos{\\left(\\theta_{1} \\right)} + l_{g2} \\cos{\\left(\\theta_{1} + \\theta_{2} \\right)}\\right) \\cos{\\left(\\theta_{1} + \\theta_{2} \\right)}\\\\I_{2} - l_{g2} m_{2} \\left(- l_{1} \\sin{\\left(\\theta_{1} \\right)} - l_{g2} \\sin{\\left(\\theta_{1} + \\theta_{2} \\right)}\\right) \\sin{\\left(\\theta_{1} + \\theta_{2} \\right)} + l_{g2} m_{2} \\left(l_{1} \\cos{\\left(\\theta_{1} \\right)} + l_{g2} \\cos{\\left(\\theta_{1} + \\theta_{2} \\right)}\\right) \\cos{\\left(\\theta_{1} + \\theta_{2} \\right)} & I_{2} + l_{g2}^{2} m_{2} \\sin^{2}{\\left(\\theta_{1} + \\theta_{2} \\right)} + l_{g2}^{2} m_{2} \\cos^{2}{\\left(\\theta_{1} + \\theta_{2} \\right)}\\end{matrix}\\right]$"
      ],
      "text/plain": [
       "⎡                                                          2                  \n",
       "⎢                 I₂ + m₂⋅(-l₁⋅sin(θ₁) - l_g2⋅sin(θ₁ + θ₂))  + m₂⋅(l₁⋅cos(θ₁) \n",
       "⎢                                                                             \n",
       "⎢                                                                             \n",
       "⎣I₂ - l_g2⋅m₂⋅(-l₁⋅sin(θ₁) - l_g2⋅sin(θ₁ + θ₂))⋅sin(θ₁ + θ₂) + l_g2⋅m₂⋅(l₁⋅cos\n",
       "\n",
       "                    2                                                         \n",
       "+ l_g2⋅cos(θ₁ + θ₂))                    I₂ - l_g2⋅m₂⋅(-l₁⋅sin(θ₁) - l_g2⋅sin(θ\n",
       "                                                                              \n",
       "                                                                              \n",
       "(θ₁) + l_g2⋅cos(θ₁ + θ₂))⋅cos(θ₁ + θ₂)                                 I₂ + l_\n",
       "\n",
       "                                                                             ⎤\n",
       "₁ + θ₂))⋅sin(θ₁ + θ₂) + l_g2⋅m₂⋅(l₁⋅cos(θ₁) + l_g2⋅cos(θ₁ + θ₂))⋅cos(θ₁ + θ₂)⎥\n",
       "                                                                             ⎥\n",
       "  2       2                2       2                                         ⎥\n",
       "g2 ⋅m₂⋅sin (θ₁ + θ₂) + l_g2 ⋅m₂⋅cos (θ₁ + θ₂)                                ⎦"
      ]
     },
     "metadata": {},
     "output_type": "display_data"
    }
   ],
   "source": [
    "#Mass Matrix\n",
    "M2 = J2.T * G2 * J2\n",
    "display(M2)"
   ]
  },
  {
   "cell_type": "code",
   "execution_count": 38,
   "metadata": {},
   "outputs": [
    {
     "data": {
      "text/latex": [
       "$\\displaystyle \\left[\\begin{matrix}I_{1} + I_{2} + l_{1}^{2} m_{2} + 2 l_{1} l_{g2} m_{2} \\cos{\\left(\\theta_{2} \\right)} + l_{g1}^{2} m_{1} + l_{g2}^{2} m_{2} & I_{2} + l_{1} l_{g2} m_{2} \\cos{\\left(\\theta_{2} \\right)} + l_{g2}^{2} m_{2}\\\\I_{2} + l_{1} l_{g2} m_{2} \\cos{\\left(\\theta_{2} \\right)} + l_{g2}^{2} m_{2} & I_{2} + l_{g2}^{2} m_{2}\\end{matrix}\\right]$"
      ],
      "text/plain": [
       "⎡            2                                 2          2                   \n",
       "⎢I₁ + I₂ + l₁ ⋅m₂ + 2⋅l₁⋅l_g2⋅m₂⋅cos(θ₂) + l_g1 ⋅m₁ + l_g2 ⋅m₂  I₂ + l₁⋅l_g2⋅m\n",
       "⎢                                                                             \n",
       "⎢                                           2                                 \n",
       "⎣             I₂ + l₁⋅l_g2⋅m₂⋅cos(θ₂) + l_g2 ⋅m₂                          I₂ +\n",
       "\n",
       "                2   ⎤\n",
       "₂⋅cos(θ₂) + l_g2 ⋅m₂⎥\n",
       "                    ⎥\n",
       "     2              ⎥\n",
       " l_g2 ⋅m₂           ⎦"
      ]
     },
     "metadata": {},
     "output_type": "display_data"
    }
   ],
   "source": [
    "#Compiled Mass Matrix\n",
    "M = simplify(M1 + M2)\n",
    "display(M)"
   ]
  },
  {
   "cell_type": "code",
   "execution_count": 39,
   "metadata": {},
   "outputs": [
    {
     "data": {
      "text/latex": [
       "$\\displaystyle \\left[\\begin{matrix}g l_{g1} m_{1} \\cos{\\left(\\theta_{1} \\right)} + g m_{2} \\left(l_{1} \\cos{\\left(\\theta_{1} \\right)} + l_{g2} \\cos{\\left(\\theta_{1} + \\theta_{2} \\right)}\\right)\\\\g l_{g2} m_{2} \\cos{\\left(\\theta_{1} + \\theta_{2} \\right)}\\end{matrix}\\right]$"
      ],
      "text/plain": [
       "⎡g⋅l_g1⋅m₁⋅cos(θ₁) + g⋅m₂⋅(l₁⋅cos(θ₁) + l_g2⋅cos(θ₁ + θ₂))⎤\n",
       "⎢                                                         ⎥\n",
       "⎣                 g⋅l_g2⋅m₂⋅cos(θ₁ + θ₂)                  ⎦"
      ]
     },
     "metadata": {},
     "output_type": "display_data"
    }
   ],
   "source": [
    "#The gravitational force vector\n",
    "G = Matrix([[diff(u,theta1)],[diff(u,theta2)]])\n",
    "display(G)"
   ]
  },
  {
   "cell_type": "code",
   "execution_count": 40,
   "metadata": {},
   "outputs": [
    {
     "data": {
      "text/latex": [
       "$\\displaystyle \\left[\\begin{matrix}- \\frac{l_{1} l_{g2} m_{2} \\left(2 \\dot{\\theta}_{1} + \\dot{\\theta}_{2}\\right) \\sin{\\left(\\theta_{2} \\right)} \\dot{\\theta}_{2}}{2}\\\\- \\frac{l_{1} l_{g2} m_{2} \\sin{\\left(\\theta_{2} \\right)} \\dot{\\theta}_{1} \\dot{\\theta}_{2}}{2}\\end{matrix}\\right]$"
      ],
      "text/plain": [
       "⎡-l₁⋅l_g2⋅m₂⋅(2⋅θ₁̇ + θ₂̇)⋅sin(θ₂)⋅θ₂̇ ⎤\n",
       "⎢───────────────────────────────────⎥\n",
       "⎢                 2                 ⎥\n",
       "⎢                                   ⎥\n",
       "⎢    -l₁⋅l_g2⋅m₂⋅sin(θ₂)⋅θ₁̇⋅θ₂̇      ⎥\n",
       "⎢    ──────────────────────────     ⎥\n",
       "⎣                2                  ⎦"
      ]
     },
     "metadata": {},
     "output_type": "display_data"
    }
   ],
   "source": [
    "#Centrifugal and Coriolis forces\n",
    "H = diff(M,t) - Rational(1/2)*(theta1_d*diff(M,theta1).T + theta2_d*diff(M,theta2).T)\n",
    "C = simplify(H*qdot)\n",
    "display(C)"
   ]
  },
  {
   "cell_type": "code",
   "execution_count": 171,
   "metadata": {},
   "outputs": [],
   "source": [
    "#IM = M.inv()"
   ]
  },
  {
   "cell_type": "code",
   "execution_count": 172,
   "metadata": {},
   "outputs": [],
   "source": [
    "#A = (-1)*IM*(HH+g)"
   ]
  },
  {
   "cell_type": "code",
   "execution_count": 173,
   "metadata": {},
   "outputs": [],
   "source": [
    "#def Manipulador(p,k):\n",
    "#    theta1, theta1_d, theta2, theta2_d = p\n",
    "    #IM = M.inv()\n",
    "#    A = (-1)*IM*(H + g)\n",
    "#    theta1_dd, theta2_dd = A\n",
    "#   return [theta1_d, theta1_dd, theta2_d, theta2_dd]"
   ]
  },
  {
   "cell_type": "code",
   "execution_count": 41,
   "metadata": {
    "scrolled": true
   },
   "outputs": [
    {
     "data": {
      "text/latex": [
       "$\\displaystyle \\left[\\begin{matrix}\\theta_{1}\\\\\\theta_{2}\\end{matrix}\\right]$"
      ],
      "text/plain": [
       "⎡θ₁⎤\n",
       "⎢  ⎥\n",
       "⎣θ₂⎦"
      ]
     },
     "metadata": {},
     "output_type": "display_data"
    }
   ],
   "source": [
    "q = Matrix([[theta1],[theta2]])\n",
    "#qdot\n",
    "display (q)"
   ]
  },
  {
   "cell_type": "code",
   "execution_count": 42,
   "metadata": {},
   "outputs": [
    {
     "data": {
      "text/latex": [
       "$\\displaystyle \\left[\\begin{matrix}- \\frac{l_{1} l_{g2} m_{2} \\left(2 \\dot{\\theta}_{1} + \\dot{\\theta}_{2}\\right) \\sin{\\left(\\theta_{2} \\right)} \\dot{\\theta}_{2}}{2}\\\\- \\frac{l_{1} l_{g2} m_{2} \\sin{\\left(\\theta_{2} \\right)} \\dot{\\theta}_{1} \\dot{\\theta}_{2}}{2}\\end{matrix}\\right]$"
      ],
      "text/plain": [
       "⎡-l₁⋅l_g2⋅m₂⋅(2⋅θ₁̇ + θ₂̇)⋅sin(θ₂)⋅θ₂̇ ⎤\n",
       "⎢───────────────────────────────────⎥\n",
       "⎢                 2                 ⎥\n",
       "⎢                                   ⎥\n",
       "⎢    -l₁⋅l_g2⋅m₂⋅sin(θ₂)⋅θ₁̇⋅θ₂̇      ⎥\n",
       "⎢    ──────────────────────────     ⎥\n",
       "⎣                2                  ⎦"
      ]
     },
     "execution_count": 42,
     "metadata": {},
     "output_type": "execute_result"
    }
   ],
   "source": [
    "C"
   ]
  },
  {
   "cell_type": "code",
   "execution_count": 43,
   "metadata": {},
   "outputs": [],
   "source": [
    "# compile functions to numerical code\n",
    "mass_matrix = lambdify([q], M)\n",
    "coriolis_matrix = lambdify([q, qdot], C)\n",
    "gravity_vector = lambdify([q], G)"
   ]
  },
  {
   "cell_type": "code",
   "execution_count": 95,
   "metadata": {},
   "outputs": [],
   "source": [
    "def force(cls, q, dq, ddq):\n",
    "    M = cls.mass_matrix(q)\n",
    "    C = cls.coriolis_matrix(q, qdot)\n",
    "    G = cls.gravity_vector(q)\n",
    "\n",
    "    return M @ ddq + C @ dq + g"
   ]
  },
  {
   "cell_type": "code",
   "execution_count": 96,
   "metadata": {},
   "outputs": [],
   "source": [
    "import numpy as np"
   ]
  },
  {
   "cell_type": "code",
   "execution_count": 97,
   "metadata": {},
   "outputs": [],
   "source": [
    "np.random.seed(0)\n",
    "q = np.random.random(2) * [2 * np.pi, 2 * np.pi] - [np.pi, np.pi]\n",
    "dq = np.random.random(2) * 2 - 1\n",
    "ddq = np.random.random(2) * 2 - 1"
   ]
  },
  {
   "cell_type": "code",
   "execution_count": 98,
   "metadata": {},
   "outputs": [],
   "source": [
    "np.random.seed(0)\n",
    "\n",
    "def random_motion():\n",
    "    q = np.random.random(2) * [2 * np.pi, 2 * np.pi] - [np.pi, np.pi]\n",
    "    dq = np.random.random(2) * 2 - 1\n",
    "    ddq = np.random.random(2) * 2 - 1\n",
    "    return q, dq, ddq"
   ]
  },
  {
   "cell_type": "code",
   "execution_count": 99,
   "metadata": {},
   "outputs": [
    {
     "name": "stderr",
     "output_type": "stream",
     "text": [
      "UsageError: %%timeit is a cell magic, but the cell body is empty. Did you mean the line magic %timeit (single %)?\n"
     ]
    }
   ],
   "source": [
    "%%timeit q, dq, ddq = random_motion()"
   ]
  },
  {
   "cell_type": "code",
   "execution_count": 176,
   "metadata": {},
   "outputs": [],
   "source": [
    "m1 = 1.0\n",
    "m2 = 1.0\n",
    "I1 = 1.0\n",
    "I2 = 1.0\n",
    "l1 = 1.0\n",
    "lg1 = 0.5\n",
    "lg2 = 0.5\n",
    "g = 9.8"
   ]
  },
  {
   "cell_type": "code",
   "execution_count": 104,
   "metadata": {},
   "outputs": [],
   "source": [
    "#params =[m_1, m_2, I_1, I_2, l_1, l_g1, l_g2, g ]\n",
    "#values =[1, 1, 1, 1, 1, 0.5, 0.5, 9.8]"
   ]
  },
  {
   "cell_type": "code",
   "execution_count": 177,
   "metadata": {},
   "outputs": [],
   "source": [
    "#mass_matrix(q)"
   ]
  },
  {
   "cell_type": "code",
   "execution_count": 178,
   "metadata": {},
   "outputs": [
    {
     "data": {
      "text/latex": [
       "$\\displaystyle \\left[\\begin{matrix}I_{1} + I_{2} + l_{1}^{2} m_{2} + 2 l_{1} l_{g2} m_{2} \\cos{\\left(\\theta_{2} \\right)} + l_{g1}^{2} m_{1} + l_{g2}^{2} m_{2} & I_{2} + l_{1} l_{g2} m_{2} \\cos{\\left(\\theta_{2} \\right)} + l_{g2}^{2} m_{2}\\\\I_{2} + l_{1} l_{g2} m_{2} \\cos{\\left(\\theta_{2} \\right)} + l_{g2}^{2} m_{2} & I_{2} + l_{g2}^{2} m_{2}\\end{matrix}\\right]$"
      ],
      "text/plain": [
       "⎡            2                                 2          2                   \n",
       "⎢I₁ + I₂ + l₁ ⋅m₂ + 2⋅l₁⋅l_g2⋅m₂⋅cos(θ₂) + l_g1 ⋅m₁ + l_g2 ⋅m₂  I₂ + l₁⋅l_g2⋅m\n",
       "⎢                                                                             \n",
       "⎢                                           2                                 \n",
       "⎣             I₂ + l₁⋅l_g2⋅m₂⋅cos(θ₂) + l_g2 ⋅m₂                          I₂ +\n",
       "\n",
       "                2   ⎤\n",
       "₂⋅cos(θ₂) + l_g2 ⋅m₂⎥\n",
       "                    ⎥\n",
       "     2              ⎥\n",
       " l_g2 ⋅m₂           ⎦"
      ]
     },
     "execution_count": 178,
     "metadata": {},
     "output_type": "execute_result"
    }
   ],
   "source": [
    "M"
   ]
  },
  {
   "cell_type": "code",
   "execution_count": 179,
   "metadata": {},
   "outputs": [],
   "source": [
    "MM = M.subs([(m1,1),(m2,1),(I1,1),(I2,1),(l1,1),(lg1,0.5),(lg2,0.5),(theta2,0.5)])"
   ]
  },
  {
   "cell_type": "code",
   "execution_count": 184,
   "metadata": {
    "scrolled": true
   },
   "outputs": [
    {
     "data": {
      "text/plain": [
       "'Matrix([[I1 + I2 + l_1**2*m_2 + 2*l_1*l_g2*m_2*cos(theta_2(t)) + l_g1**2*m_1 + l_g2**2*m_2, I2 + l_1*l_g2*m_2*cos(theta_2(t)) + l_g2**2*m_2], [I2 + l_1*l_g2*m_2*cos(theta_2(t)) + l_g2**2*m_2, I2 + l_g2**2*m_2]])'"
      ]
     },
     "execution_count": 184,
     "metadata": {},
     "output_type": "execute_result"
    }
   ],
   "source": [
    "format(M)"
   ]
  },
  {
   "cell_type": "code",
   "execution_count": null,
   "metadata": {},
   "outputs": [],
   "source": [
    "#print(\"After Substitution : {}\".format(MM))"
   ]
  },
  {
   "cell_type": "code",
   "execution_count": 122,
   "metadata": {},
   "outputs": [],
   "source": [
    "#m1,lg1,l1,m2,lg2,g,t,I1,I2 = symbols(\"m_1 l_g1 l_1 m_2 l_g2 g t I1 I2\")\n",
    "#jacobi = lambdify([])"
   ]
  },
  {
   "cell_type": "code",
   "execution_count": null,
   "metadata": {},
   "outputs": [],
   "source": [
    "#m1,lg1,l1,m2,lg2,g,t,I1,I2 = symbols(\"m_1 l_g1 l_1 m_2 l_g2 g t I1 I2\")"
   ]
  },
  {
   "cell_type": "code",
   "execution_count": 128,
   "metadata": {},
   "outputs": [],
   "source": [
    "c = lambdify([lg1, theta1], J1, \"numpy\")"
   ]
  },
  {
   "cell_type": "code",
   "execution_count": 129,
   "metadata": {},
   "outputs": [
    {
     "data": {
      "text/latex": [
       "$\\displaystyle \\left[\\begin{matrix}- l_{g1} \\sin{\\left(\\theta_{1} \\right)} & 0\\\\l_{g1} \\cos{\\left(\\theta_{1} \\right)} & 0\\\\1 & 0\\end{matrix}\\right]$"
      ],
      "text/plain": [
       "⎡-l_g1⋅sin(θ₁)  0⎤\n",
       "⎢                ⎥\n",
       "⎢l_g1⋅cos(θ₁)   0⎥\n",
       "⎢                ⎥\n",
       "⎣      1        0⎦"
      ]
     },
     "execution_count": 129,
     "metadata": {},
     "output_type": "execute_result"
    }
   ],
   "source": [
    "#gg = g.subs([(m_1,1),(m_2,1),(I_1,1),(I_2,1),(l_g2,0.5),(theta1,0.5),(theta2,0.5),(g,9.8)])\n",
    "#display(gg)\n",
    "J1"
   ]
  },
  {
   "cell_type": "code",
   "execution_count": 130,
   "metadata": {},
   "outputs": [
    {
     "data": {
      "text/plain": [
       "array([[-2.39712769,  0.        ],\n",
       "       [ 4.38791281,  0.        ],\n",
       "       [ 1.        ,  0.        ]])"
      ]
     },
     "execution_count": 130,
     "metadata": {},
     "output_type": "execute_result"
    }
   ],
   "source": [
    "jacobi(5,0.5)\n",
    "#print(jacobi_eval)"
   ]
  },
  {
   "cell_type": "code",
   "execution_count": null,
   "metadata": {},
   "outputs": [],
   "source": []
  }
 ],
 "metadata": {
  "kernelspec": {
   "display_name": "Python 3",
   "language": "python",
   "name": "python3"
  },
  "language_info": {
   "codemirror_mode": {
    "name": "ipython",
    "version": 3
   },
   "file_extension": ".py",
   "mimetype": "text/x-python",
   "name": "python",
   "nbconvert_exporter": "python",
   "pygments_lexer": "ipython3",
   "version": "3.10.12"
  }
 },
 "nbformat": 4,
 "nbformat_minor": 5
}
