{
 "cells": [
  {
   "cell_type": "code",
   "execution_count": 1,
   "metadata": {},
   "outputs": [],
   "source": [
    "#import numpy as np\n",
    "#import sympy as sym\n",
    "#from sympy.physics.mechanics import dynamicsymbols, init_vprinting"
   ]
  },
  {
   "cell_type": "code",
   "execution_count": 48,
   "metadata": {},
   "outputs": [],
   "source": [
    "from IPython.display import display\n",
    "import sympy as sy\n",
    "from sympy.solvers.ode import dsolve\n",
    "import matplotlib.pyplot as plt\n",
    "import numpy as np\n",
    "from sympy import functions\n",
    "from sympy import Function, Symbol"
   ]
  },
  {
   "cell_type": "code",
   "execution_count": 51,
   "metadata": {},
   "outputs": [],
   "source": [
    "sy.init_printing()"
   ]
  },
  {
   "cell_type": "code",
   "execution_count": 57,
   "metadata": {},
   "outputs": [],
   "source": [
    "t = sy.symbols('t', real=True)\n",
    "f = sy.symbols('f', cls=Function)"
   ]
  },
  {
   "cell_type": "code",
   "execution_count": 58,
   "metadata": {},
   "outputs": [
    {
     "data": {
      "image/png": "[encoded data removed]",
      "text/latex": [
       "$\\displaystyle \\frac{d}{d t} f{\\left(t \\right)} = 0.1 f^{2}{\\left(t \\right)} - 2 f{\\left(t \\right)}$"
      ],
      "text/plain": [
       "d               2            \n",
       "──(f(t)) = 0.1⋅f (t) - 2⋅f(t)\n",
       "dt                           "
      ]
     },
     "execution_count": 58,
     "metadata": {},
     "output_type": "execute_result"
    }
   ],
   "source": [
    "eq1 = sy.Eq(f(t).diff(t), (0.1*f(t)**2 - 2*f(t)))\n",
    "eq1"
   ]
  },
  {
   "cell_type": "code",
   "execution_count": 60,
   "metadata": {},
   "outputs": [
    {
     "data": {
      "image/png": "[encoded data removed]",
      "text/latex": [
       "$\\displaystyle t - 0.5 \\log{\\left(1.0 f{\\left(t \\right)} - 20.0 \\right)} + 0.5 \\log{\\left(1.0 f{\\left(t \\right)} \\right)} = C_{1}$"
      ],
      "text/plain": [
       "t - 0.5⋅log(1.0⋅f(t) - 20.0) + 0.5⋅log(1.0⋅f(t)) = C₁"
      ]
     },
     "execution_count": 60,
     "metadata": {},
     "output_type": "execute_result"
    }
   ],
   "source": [
    "sls = dsolve(eq1)\n",
    "sls"
   ]
  }
 ],
 "metadata": {
  "kernelspec": {
   "display_name": "Python 3",
   "language": "python",
   "name": "python3"
  },
  "language_info": {
   "codemirror_mode": {
    "name": "ipython",
    "version": 3
   },
   "file_extension": ".py",
   "mimetype": "text/x-python",
   "name": "python",
   "nbconvert_exporter": "python",
   "pygments_lexer": "ipython3",
   "version": "3.10.6"
  },
  "orig_nbformat": 4
 },
 "nbformat": 4,
 "nbformat_minor": 2
}
