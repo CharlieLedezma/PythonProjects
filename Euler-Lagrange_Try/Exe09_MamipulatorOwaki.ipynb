{
 "cells": [
  {
   "cell_type": "code",
   "execution_count": 1,
   "metadata": {},
   "outputs": [],
   "source": [
    "import numpy as np\n",
    "import matplotlib.pyplot as plt\n",
    "from scipy.integrate import odeint\n",
    "import sympy as smp\n",
    "from matplotlib import animation\n",
    "from matplotlib.animation import PillowWriter\n",
    "from IPython.display import Image\n",
    "from sympy.physics.mechanics import dynamicsymbols, init_vprinting\n",
    "import math"
   ]
  },
  {
   "cell_type": "code",
   "execution_count": 2,
   "metadata": {},
   "outputs": [],
   "source": [
    "#init_vprinting()"
   ]
  },
  {
   "cell_type": "code",
   "execution_count": 3,
   "metadata": {},
   "outputs": [],
   "source": [
    "t, m_1, m_2, I_1, I_2, l_1, l_g1, l_g2, g = smp.symbols('t, m_1, m_2, I_1, I_2, l_1, l_g1, l_g2, g')"
   ]
  },
  {
   "cell_type": "code",
   "execution_count": 4,
   "metadata": {},
   "outputs": [],
   "source": [
    "#Generalized Variables\n",
    "#theta_1 = smp.Symbol('theta_1')\n",
    "#theta_2 = smp.Symbol('theta_2')\n",
    "theta_1, theta_2 = smp.symbols(r'\\theta_1 \\theta_2', cls=smp.Function)"
   ]
  },
  {
   "attachments": {},
   "cell_type": "markdown",
   "metadata": {},
   "source": [
    "Define $\\theta(t)$ and $\\dot{\\theta}(t)$ and $\\ddot{\\theta}(t)$"
   ]
  },
  {
   "cell_type": "code",
   "execution_count": 5,
   "metadata": {},
   "outputs": [],
   "source": [
    "theta_1 = theta_1(t)\n",
    "theta_2 = theta_2(t)\n",
    "theta_1d = smp.diff(theta_1,t)\n",
    "theta_2d = smp.diff(theta_2,t)\n",
    "theta_1dd = smp.diff(theta_1d,t)\n",
    "theta_2dd = smp.diff(theta_2d,t)"
   ]
  },
  {
   "cell_type": "code",
   "execution_count": 6,
   "metadata": {},
   "outputs": [
    {
     "data": {
      "text/plain": [
       "(\\theta_1(t),\n",
       " \\theta_2(t),\n",
       " Derivative(\\theta_1(t), t),\n",
       " Derivative(\\theta_2(t), t),\n",
       " Derivative(\\theta_1(t), (t, 2)),\n",
       " Derivative(\\theta_2(t), (t, 2)))"
      ]
     },
     "execution_count": 6,
     "metadata": {},
     "output_type": "execute_result"
    }
   ],
   "source": [
    "theta_1, theta_2, theta_1d, theta_2d, theta_1dd, theta_2dd "
   ]
  },
  {
   "attachments": {},
   "cell_type": "markdown",
   "metadata": {},
   "source": [
    "Define the $x$ and $y$ in function of..."
   ]
  },
  {
   "cell_type": "code",
   "execution_count": 7,
   "metadata": {},
   "outputs": [
    {
     "data": {
      "text/latex": [
       "$\\displaystyle l_{1} \\sin{\\left(\\theta_{1}{\\left(t \\right)} \\right)} + l_{g2} \\sin{\\left(\\theta_{1}{\\left(t \\right)} + \\theta_{2}{\\left(t \\right)} \\right)}$"
      ],
      "text/plain": [
       "l_1*sin(\\theta_1(t)) + l_g2*sin(\\theta_1(t) + \\theta_2(t))"
      ]
     },
     "execution_count": 7,
     "metadata": {},
     "output_type": "execute_result"
    }
   ],
   "source": [
    "x1 = (l_g1)*smp.cos(theta_1)\n",
    "y1 = (l_g1)*smp.sin(theta_1)\n",
    "x2 = (l_1)*smp.cos(theta_1) + (l_g2)*smp.cos(theta_1+theta_2)\n",
    "y2 = (l_1)*smp.sin(theta_1) + (l_g2)*smp.sin(theta_1+theta_2)\n",
    "y2"
   ]
  },
  {
   "attachments": {},
   "cell_type": "markdown",
   "metadata": {},
   "source": [
    "Define both kinetic and potential energy:\n",
    "\n",
    "* Kinetic energy $T$ comes from the motion of the two arms\n"
   ]
  },
  {
   "cell_type": "code",
   "execution_count": 8,
   "metadata": {},
   "outputs": [],
   "source": [
    "T1 = smp.Rational(1/2) * m_1 * (smp.diff(x1,t)**2 + smp.diff(y1,t)**2) + smp.Rational(1/2) * I_1 * theta_1d**2\n",
    "\n",
    "T2 = smp.Rational(1,2) * m_2 * (smp.diff(x2,t)**2 + smp.diff(y2,t)**2) + smp.Rational(1/2) * I_2 * (theta_1d**2 + theta_2d**2)\n",
    "\n",
    "T = T1 + T2\n"
   ]
  },
  {
   "attachments": {},
   "cell_type": "markdown",
   "metadata": {},
   "source": [
    "* Potential energy $V$ comes from both the gravitational potential energy of the masses $mgy$ "
   ]
  },
  {
   "cell_type": "code",
   "execution_count": 9,
   "metadata": {},
   "outputs": [],
   "source": [
    "V1 = m_1*l_g1*g*smp.sin(theta_1)\n",
    "V2 = m_2*g*(l_1*smp.sin(theta_1) + l_g2*smp.sin(theta_1+theta_2))\n",
    "V = V1 + V2"
   ]
  },
  {
   "attachments": {},
   "cell_type": "markdown",
   "metadata": {},
   "source": [
    "Now we can look at the Lagrangian"
   ]
  },
  {
   "cell_type": "code",
   "execution_count": 10,
   "metadata": {},
   "outputs": [
    {
     "data": {
      "text/latex": [
       "$\\displaystyle \\frac{I_{1} \\left(\\frac{d}{d t} \\theta_{1}{\\left(t \\right)}\\right)^{2}}{2} + \\frac{I_{2} \\left(\\left(\\frac{d}{d t} \\theta_{1}{\\left(t \\right)}\\right)^{2} + \\left(\\frac{d}{d t} \\theta_{2}{\\left(t \\right)}\\right)^{2}\\right)}{2} - g l_{g1} m_{1} \\sin{\\left(\\theta_{1}{\\left(t \\right)} \\right)} - g m_{2} \\left(l_{1} \\sin{\\left(\\theta_{1}{\\left(t \\right)} \\right)} + l_{g2} \\sin{\\left(\\theta_{1}{\\left(t \\right)} + \\theta_{2}{\\left(t \\right)} \\right)}\\right) + \\frac{m_{1} \\left(l_{g1}^{2} \\sin^{2}{\\left(\\theta_{1}{\\left(t \\right)} \\right)} \\left(\\frac{d}{d t} \\theta_{1}{\\left(t \\right)}\\right)^{2} + l_{g1}^{2} \\cos^{2}{\\left(\\theta_{1}{\\left(t \\right)} \\right)} \\left(\\frac{d}{d t} \\theta_{1}{\\left(t \\right)}\\right)^{2}\\right)}{2} + \\frac{m_{2} \\left(\\left(- l_{1} \\sin{\\left(\\theta_{1}{\\left(t \\right)} \\right)} \\frac{d}{d t} \\theta_{1}{\\left(t \\right)} - l_{g2} \\left(\\frac{d}{d t} \\theta_{1}{\\left(t \\right)} + \\frac{d}{d t} \\theta_{2}{\\left(t \\right)}\\right) \\sin{\\left(\\theta_{1}{\\left(t \\right)} + \\theta_{2}{\\left(t \\right)} \\right)}\\right)^{2} + \\left(l_{1} \\cos{\\left(\\theta_{1}{\\left(t \\right)} \\right)} \\frac{d}{d t} \\theta_{1}{\\left(t \\right)} + l_{g2} \\left(\\frac{d}{d t} \\theta_{1}{\\left(t \\right)} + \\frac{d}{d t} \\theta_{2}{\\left(t \\right)}\\right) \\cos{\\left(\\theta_{1}{\\left(t \\right)} + \\theta_{2}{\\left(t \\right)} \\right)}\\right)^{2}\\right)}{2}$"
      ],
      "text/plain": [
       "I_1*Derivative(\\theta_1(t), t)**2/2 + I_2*(Derivative(\\theta_1(t), t)**2 + Derivative(\\theta_2(t), t)**2)/2 - g*l_g1*m_1*sin(\\theta_1(t)) - g*m_2*(l_1*sin(\\theta_1(t)) + l_g2*sin(\\theta_1(t) + \\theta_2(t))) + m_1*(l_g1**2*sin(\\theta_1(t))**2*Derivative(\\theta_1(t), t)**2 + l_g1**2*cos(\\theta_1(t))**2*Derivative(\\theta_1(t), t)**2)/2 + m_2*((-l_1*sin(\\theta_1(t))*Derivative(\\theta_1(t), t) - l_g2*(Derivative(\\theta_1(t), t) + Derivative(\\theta_2(t), t))*sin(\\theta_1(t) + \\theta_2(t)))**2 + (l_1*cos(\\theta_1(t))*Derivative(\\theta_1(t), t) + l_g2*(Derivative(\\theta_1(t), t) + Derivative(\\theta_2(t), t))*cos(\\theta_1(t) + \\theta_2(t)))**2)/2"
      ]
     },
     "execution_count": 10,
     "metadata": {},
     "output_type": "execute_result"
    }
   ],
   "source": [
    "L = T - V\n",
    "L"
   ]
  },
  {
   "attachments": {},
   "cell_type": "markdown",
   "metadata": {},
   "source": [
    "Get Lagrange's equations\n",
    "\n",
    "$$\\frac{\\partial L}{\\partial \\theta_1} - \\frac{d}{dt}\\frac{\\partial L}{\\partial \\dot{\\theta_1}} = 0$$\n",
    "$$\\frac{\\partial L}{\\partial \\theta_2} - \\frac{d}{dt}\\frac{\\partial L}{\\partial \\dot{\\theta_2}} = 0$$"
   ]
  },
  {
   "cell_type": "code",
   "execution_count": 11,
   "metadata": {},
   "outputs": [],
   "source": [
    "LE1 = smp.diff(L, theta_1) - smp.diff(smp.diff(L, theta_1d), t).simplify()\n",
    "LE2 = smp.diff(L, theta_2) - smp.diff(smp.diff(L, theta_2d), t).simplify()"
   ]
  },
  {
   "attachments": {},
   "cell_type": "markdown",
   "metadata": {},
   "source": [
    "Solve Lagranges equations (this assumes that `LE1` and `LE2` are both equal to zero)\n",
    "\n",
    "* We solve these equations (which are **linear** in $\\ddot{\\theta_1}$ and $\\ddot{\\theta_2}$) for $\\ddot{\\theta_1}$ and $\\ddot{\\theta_2}$."
   ]
  },
  {
   "cell_type": "code",
   "execution_count": 12,
   "metadata": {},
   "outputs": [],
   "source": [
    "sols = smp.solve([LE1, LE2], (theta_1dd , theta_2dd ),\n",
    "                simplify=False, rational=False)"
   ]
  },
  {
   "attachments": {},
   "cell_type": "markdown",
   "metadata": {},
   "source": [
    "Now we have \n",
    "\n",
    "* $\\frac{d^2 \\theta_1}{dt^2} = ...$\n",
    "* $\\frac{d^2 \\theta_2}{dt^2} = ...$\n",
    "\n",
    "These are two second order ODEs! In python we can only solve systems of first order ODEs. Any system of second order ODEs can be converted as follows:\n",
    "\n",
    "1. Define $z_1 = d\\theta_1/dt$ and $z_2=d\\theta_2/dt$\n",
    "2. Then $dz_1/dt = d^2\\theta_1/dt^2$ and $dz_2/dt = d^2\\theta_2/dt^2$\n",
    "\n",
    "Now we get a system of 4 first order ODEs (as opposed to 2 second order ones)\n",
    "\n",
    "* $d z_1/dt = ...$\n",
    "* $d\\theta_1/dt = z_1$\n",
    "* $d z_2/dt = ...$\n",
    "* $d\\theta_2/dt = z_1$\n",
    "\n",
    "We need to convert the **symbolic** expressions above to numerical functions so we can use them in a numerical python solver. For this we use `smp.lambdify`"
   ]
  },
  {
   "cell_type": "code",
   "execution_count": 13,
   "metadata": {},
   "outputs": [],
   "source": [
    "dz1dt_f = smp.lambdify((t,g,m_1, m_2, I_1, I_2, l_1, l_g1, l_g2,theta_1,theta_2,theta_1d,theta_2d), sols[theta_1dd])\n",
    "dz2dt_f = smp.lambdify((t,g,m_1, m_2, I_1, I_2, l_1, l_g1, l_g2,theta_1,theta_2,theta_1d,theta_2d), sols[theta_2dd])\n",
    "dthe1dt_f = smp.lambdify(theta_1d, theta_1d)\n",
    "dthe2dt_f = smp.lambdify(theta_2d, theta_2d)"
   ]
  },
  {
   "attachments": {},
   "cell_type": "markdown",
   "metadata": {},
   "source": [
    "Now define $\\vec{S} = (\\theta_1, z_1, \\theta_2, z_2)$. IF we're going to use an ODE solver in python, we need to write a function that takes in $\\vec{S}$ and $t$ and returns $d\\vec{S}/dt$. In other words, we need to define $d\\vec{S}/dt (\\vec{S}, t)$\n",
    "\n",
    "* Our system of ODEs can be fully specified using $d\\vec{S}/dt$ and depends only on $\\vec{S}$ and $t$"
   ]
  },
  {
   "cell_type": "code",
   "execution_count": 14,
   "metadata": {},
   "outputs": [],
   "source": [
    "def dSdt(S, t, g, m_1, m_2, I_1, I_2, l_1, l_g1, l_g2):\n",
    "    theta_1, z1, theta_2, z2 = S\n",
    "    return [\n",
    "        dthe1dt_f(z1),\n",
    "        dz1dt_f(t,g,m_1, m_2, I_1, I_2, l_1, l_g1, l_g2,theta_1,theta_2,z1,z2),\n",
    "        dthe2dt_f(z2),\n",
    "        dz2dt_f(t,g,m_1, m_2, I_1, I_2, l_1, l_g1, l_g2,theta_1,theta_2,z1,z2),\n",
    "    ]"
   ]
  },
  {
   "attachments": {},
   "cell_type": "markdown",
   "metadata": {},
   "source": [
    "Solve the system of ODEs using scipys `odeint` method"
   ]
  },
  {
   "cell_type": "code",
   "execution_count": 15,
   "metadata": {},
   "outputs": [],
   "source": [
    "t = np.linspace(0, 10, 1001) # s\n",
    "g = 9.81 #m/s^2\n",
    "m_1 = 1.0 # kg\n",
    "m_2 = 1.0 # kg\n",
    "I_1 = 1.0 \n",
    "I_2 = 1.0\n",
    "l_1 = 1.0 # m\n",
    "l_g1 = smp.Rational(1/2)*l_1 # m\n",
    "l_g2 = smp.Rational(1/2)*l_1 # m\n",
    "\n",
    "\n",
    "#y0=[-smp.Rational(1/4)*math.pi, 0.0,-smp.Rational(1/3)*math.pi, 0.0]\n",
    "y0=[0.1*math.pi, 0.0, 0.1*math.pi, 0.0]\n",
    "#ans = odeint(dSdt, y0=[1, -1, -1, 1], t=t, args=(g, k, L0, m1, m2, m3, l1, l2))\n",
    "ans = odeint(dSdt, y0, t=t, args=(g,m_1, m_2, I_1, I_2, l_1, l_g1, l_g2))"
   ]
  },
  {
   "cell_type": "code",
   "execution_count": 18,
   "metadata": {},
   "outputs": [],
   "source": [
    "the1 = ans.T[0]*smp.Rational(180/math.pi)\n",
    "#the1 = ans.T\n",
    "the2 = ans.T[1]*smp.Rational(180/math.pi)"
   ]
  },
  {
   "cell_type": "code",
   "execution_count": 19,
   "metadata": {},
   "outputs": [
    {
     "data": {
      "text/plain": [
       "[<matplotlib.lines.Line2D at 0x7f26c012f250>]"
      ]
     },
     "execution_count": 19,
     "metadata": {},
     "output_type": "execute_result"
    },
    {
     "data": {
      "image/png": "[encoded data removed]",
      "text/plain": [
       "<Figure size 640x480 with 1 Axes>"
      ]
     },
     "metadata": {},
     "output_type": "display_data"
    }
   ],
   "source": [
    "#plt.plot(t, the1,label= r'$\\frac{d\\theta_1}{dt} = \\theta_2 $')\n",
    "plt.plot(t, the1,'b--',label= 'theta1')\n",
    "plt.plot(t, the2)"
   ]
  }
 ],
 "metadata": {
  "kernelspec": {
   "display_name": "Python 3",
   "language": "python",
   "name": "python3"
  },
  "language_info": {
   "codemirror_mode": {
    "name": "ipython",
    "version": 3
   },
   "file_extension": ".py",
   "mimetype": "text/x-python",
   "name": "python",
   "nbconvert_exporter": "python",
   "pygments_lexer": "ipython3",
   "version": "3.10.12"
  },
  "orig_nbformat": 4
 },
 "nbformat": 4,
 "nbformat_minor": 2
}
