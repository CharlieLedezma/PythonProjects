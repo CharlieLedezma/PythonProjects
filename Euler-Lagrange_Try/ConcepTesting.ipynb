{
 "cells": [
  {
   "cell_type": "code",
   "execution_count": 1,
   "metadata": {},
   "outputs": [],
   "source": [
    "from sympy import *\n",
    "#from sympy.physics.mechanics import dynamicsymbols, kinetic_energy\n",
    "from sympy.physics.mechanics import dynamicsymbols, init_vprinting"
   ]
  },
  {
   "cell_type": "code",
   "execution_count": 33,
   "metadata": {},
   "outputs": [],
   "source": [
    "#init_vprinting()"
   ]
  },
  {
   "cell_type": "code",
   "execution_count": 34,
   "metadata": {},
   "outputs": [],
   "source": [
    "#Euler angles\n",
    "# phi = roll\n",
    "# theta = pitch\n",
    "# psi = yaw\n",
    "\n",
    "#alpha = symbols('alpha_m')\n",
    "#phi = symbols('phi')\n",
    "#theta = symbols('theta')\n",
    "#psi = symbols('psi')\n",
    "\n",
    "#phi,theta,psi"
   ]
  },
  {
   "cell_type": "code",
   "execution_count": 2,
   "metadata": {},
   "outputs": [],
   "source": [
    "#Euler angles\n",
    "# phi = roll\n",
    "# theta = pitch\n",
    "# psi = yaw\n",
    "phi, theta, psi = symbols ('phi theta psi')"
   ]
  },
  {
   "cell_type": "code",
   "execution_count": 16,
   "metadata": {},
   "outputs": [],
   "source": [
    "c_phi = cos(phi); s_phi = sin(phi)\n",
    "c_theta = cos(theta ); s_theta  = sin(theta )\n",
    "c_psi = cos(psi); s_psi= sin(psi)"
   ]
  },
  {
   "cell_type": "code",
   "execution_count": 30,
   "metadata": {},
   "outputs": [
    {
     "data": {
      "text/latex": [
       "$\\displaystyle \\left[\\begin{matrix}1 & 0 & 0\\\\0 & \\cos{\\left(\\theta \\right)} & - \\sin{\\left(\\theta \\right)}\\\\0 & \\sin{\\left(\\theta \\right)} & \\cos{\\left(\\theta \\right)}\\end{matrix}\\right]$"
      ],
      "text/plain": [
       "Matrix([\n",
       "[1,          0,           0],\n",
       "[0, cos(theta), -sin(theta)],\n",
       "[0, sin(theta),  cos(theta)]])"
      ]
     },
     "execution_count": 30,
     "metadata": {},
     "output_type": "execute_result"
    }
   ],
   "source": [
    "# phi = roll\n",
    "#_x_phi = Matrix([[1, 0, 0],[0, c_phi,-s_phi],[0, s_phi,c_phi]])\n",
    "#R_x_phi\n",
    "R_x_theta = Matrix([[1, 0, 0],[0, c_theta,-s_theta],[0, s_theta,c_theta]])\n",
    "R_x_theta"
   ]
  },
  {
   "cell_type": "code",
   "execution_count": 31,
   "metadata": {},
   "outputs": [
    {
     "data": {
      "text/latex": [
       "$\\displaystyle \\left[\\begin{matrix}\\cos{\\left(\\psi \\right)} & 0 & \\sin{\\left(\\psi \\right)}\\\\0 & 1 & 0\\\\- \\sin{\\left(\\psi \\right)} & 0 & \\cos{\\left(\\psi \\right)}\\end{matrix}\\right]$"
      ],
      "text/plain": [
       "Matrix([\n",
       "[ cos(psi), 0, sin(psi)],\n",
       "[        0, 1,        0],\n",
       "[-sin(psi), 0, cos(psi)]])"
      ]
     },
     "execution_count": 31,
     "metadata": {},
     "output_type": "execute_result"
    }
   ],
   "source": [
    "# theta = pitch\n",
    "#R_y_theta = Matrix([[c_theta , 0, s_theta ],[0, 1,0],[-s_theta , 0, c_theta ]])\n",
    "#R_y_theta\n",
    "R_y_psi = Matrix([[c_psi , 0, s_psi ],[0, 1,0],[-s_psi , 0, c_psi ]])\n",
    "R_y_psi"
   ]
  },
  {
   "cell_type": "code",
   "execution_count": 32,
   "metadata": {},
   "outputs": [
    {
     "data": {
      "text/latex": [
       "$\\displaystyle \\left[\\begin{matrix}\\cos{\\left(\\phi \\right)} & - \\sin{\\left(\\phi \\right)} & 0\\\\\\sin{\\left(\\phi \\right)} & \\cos{\\left(\\phi \\right)} & 0\\\\0 & 0 & 1\\end{matrix}\\right]$"
      ],
      "text/plain": [
       "Matrix([\n",
       "[cos(phi), -sin(phi), 0],\n",
       "[sin(phi),  cos(phi), 0],\n",
       "[       0,         0, 1]])"
      ]
     },
     "execution_count": 32,
     "metadata": {},
     "output_type": "execute_result"
    }
   ],
   "source": [
    "# psi = yaw\n",
    "#R_z_psi = Matrix([[c_psi, -s_psi, 0 ],[s_psi, c_psi,0],[0 , 0, 1]])\n",
    "#R_z_psi\n",
    "R_z_phi = Matrix([[c_phi, -s_phi, 0 ],[s_phi, c_phi,0],[0 , 0, 1]])\n",
    "R_z_phi\n"
   ]
  },
  {
   "cell_type": "code",
   "execution_count": 15,
   "metadata": {},
   "outputs": [
    {
     "data": {
      "text/latex": [
       "$\\displaystyle \\left(\\left[\\begin{matrix}\\cos{\\left(\\phi \\right)} & - \\sin{\\left(\\phi \\right)} & 0\\\\\\sin{\\left(\\phi \\right)} & \\cos{\\left(\\phi \\right)} & 0\\\\0 & 0 & 1\\end{matrix}\\right]\\right)^{T}$"
      ],
      "text/plain": [
       "Matrix([\n",
       "[cos(phi), -sin(phi), 0],\n",
       "[sin(phi),  cos(phi), 0],\n",
       "[       0,         0, 1]]).T"
      ]
     },
     "execution_count": 15,
     "metadata": {},
     "output_type": "execute_result"
    }
   ],
   "source": [
    "#Transpose(R_z_psi)"
   ]
  },
  {
   "cell_type": "code",
   "execution_count": 33,
   "metadata": {},
   "outputs": [
    {
     "data": {
      "text/latex": [
       "$\\displaystyle \\left[\\begin{matrix}\\cos{\\left(\\phi \\right)} \\cos{\\left(\\psi \\right)} & - \\sin{\\left(\\phi \\right)} \\cos{\\left(\\theta \\right)} + \\sin{\\left(\\psi \\right)} \\sin{\\left(\\theta \\right)} \\cos{\\left(\\phi \\right)} & \\sin{\\left(\\phi \\right)} \\sin{\\left(\\theta \\right)} + \\sin{\\left(\\psi \\right)} \\cos{\\left(\\phi \\right)} \\cos{\\left(\\theta \\right)}\\\\\\sin{\\left(\\phi \\right)} \\cos{\\left(\\psi \\right)} & \\sin{\\left(\\phi \\right)} \\sin{\\left(\\psi \\right)} \\sin{\\left(\\theta \\right)} + \\cos{\\left(\\phi \\right)} \\cos{\\left(\\theta \\right)} & \\sin{\\left(\\phi \\right)} \\sin{\\left(\\psi \\right)} \\cos{\\left(\\theta \\right)} - \\sin{\\left(\\theta \\right)} \\cos{\\left(\\phi \\right)}\\\\- \\sin{\\left(\\psi \\right)} & \\sin{\\left(\\theta \\right)} \\cos{\\left(\\psi \\right)} & \\cos{\\left(\\psi \\right)} \\cos{\\left(\\theta \\right)}\\end{matrix}\\right]$"
      ],
      "text/plain": [
       "Matrix([\n",
       "[cos(phi)*cos(psi), -sin(phi)*cos(theta) + sin(psi)*sin(theta)*cos(phi), sin(phi)*sin(theta) + sin(psi)*cos(phi)*cos(theta)],\n",
       "[sin(phi)*cos(psi),  sin(phi)*sin(psi)*sin(theta) + cos(phi)*cos(theta), sin(phi)*sin(psi)*cos(theta) - sin(theta)*cos(phi)],\n",
       "[        -sin(psi),                                 sin(theta)*cos(psi),                                cos(psi)*cos(theta)]])"
      ]
     },
     "execution_count": 33,
     "metadata": {},
     "output_type": "execute_result"
    }
   ],
   "source": [
    "#wRp = yaw * pitch * roll\n",
    "#wRp = R_z_psi*R_y_theta*R_x_phi\n",
    "\n",
    "wRp = R_z_phi*R_y_psi*R_x_theta\n",
    "#wRp = R_z_phi*R_x_theta*R_y_psi\n",
    "wRp"
   ]
  },
  {
   "cell_type": "code",
   "execution_count": 42,
   "metadata": {},
   "outputs": [],
   "source": [
    "phi = 30"
   ]
  },
  {
   "cell_type": "code",
   "execution_count": 43,
   "metadata": {},
   "outputs": [
    {
     "data": {
      "text/latex": [
       "$\\displaystyle \\left[\\begin{matrix}1 & 0 & 0\\\\0 & \\cos{\\left(\\phi \\right)} & - \\sin{\\left(\\phi \\right)}\\\\0 & \\sin{\\left(\\phi \\right)} & \\cos{\\left(\\phi \\right)}\\end{matrix}\\right]$"
      ],
      "text/plain": [
       "⎡1    0        0   ⎤\n",
       "⎢                  ⎥\n",
       "⎢0  cos(φ)  -sin(φ)⎥\n",
       "⎢                  ⎥\n",
       "⎣0  sin(φ)  cos(φ) ⎦"
      ]
     },
     "execution_count": 43,
     "metadata": {},
     "output_type": "execute_result"
    }
   ],
   "source": [
    "R_x_phi"
   ]
  },
  {
   "cell_type": "code",
   "execution_count": 44,
   "metadata": {},
   "outputs": [
    {
     "data": {
      "text/latex": [
       "$\\displaystyle \\left[\\begin{matrix}1.0 & 0 & 0\\\\0 & \\cos{\\left(\\phi \\right)} & - \\sin{\\left(\\phi \\right)}\\\\0 & \\sin{\\left(\\phi \\right)} & \\cos{\\left(\\phi \\right)}\\end{matrix}\\right]$"
      ],
      "text/plain": [
       "⎡1.0    0        0   ⎤\n",
       "⎢                    ⎥\n",
       "⎢ 0   cos(φ)  -sin(φ)⎥\n",
       "⎢                    ⎥\n",
       "⎣ 0   sin(φ)  cos(φ) ⎦"
      ]
     },
     "execution_count": 44,
     "metadata": {},
     "output_type": "execute_result"
    }
   ],
   "source": [
    "T= R_x_phi.subs(phi,pi)\n",
    "T.evalf()"
   ]
  },
  {
   "cell_type": "code",
   "execution_count": 45,
   "metadata": {},
   "outputs": [
    {
     "data": {
      "text/latex": [
       "$\\displaystyle \\left[\\begin{matrix}1\\\\1\\\\1\\end{matrix}\\right]$"
      ],
      "text/plain": [
       "⎡1⎤\n",
       "⎢ ⎥\n",
       "⎢1⎥\n",
       "⎢ ⎥\n",
       "⎣1⎦"
      ]
     },
     "execution_count": 45,
     "metadata": {},
     "output_type": "execute_result"
    }
   ],
   "source": [
    "V = Matrix([[1],[1],[1]])\n",
    "V"
   ]
  },
  {
   "cell_type": "code",
   "execution_count": 46,
   "metadata": {},
   "outputs": [
    {
     "data": {
      "text/latex": [
       "$\\displaystyle \\left[\\begin{matrix}1\\\\- \\sin{\\left(\\phi \\right)} + \\cos{\\left(\\phi \\right)}\\\\\\sin{\\left(\\phi \\right)} + \\cos{\\left(\\phi \\right)}\\end{matrix}\\right]$"
      ],
      "text/plain": [
       "⎡       1        ⎤\n",
       "⎢                ⎥\n",
       "⎢-sin(φ) + cos(φ)⎥\n",
       "⎢                ⎥\n",
       "⎣sin(φ) + cos(φ) ⎦"
      ]
     },
     "execution_count": 46,
     "metadata": {},
     "output_type": "execute_result"
    }
   ],
   "source": [
    "R_x_phi.subs(phi,pi/4)*V"
   ]
  },
  {
   "cell_type": "code",
   "execution_count": null,
   "metadata": {},
   "outputs": [],
   "source": []
  }
 ],
 "metadata": {
  "kernelspec": {
   "display_name": "Python 3",
   "language": "python",
   "name": "python3"
  },
  "language_info": {
   "codemirror_mode": {
    "name": "ipython",
    "version": 3
   },
   "file_extension": ".py",
   "mimetype": "text/x-python",
   "name": "python",
   "nbconvert_exporter": "python",
   "pygments_lexer": "ipython3",
   "version": "3.10.12"
  },
  "orig_nbformat": 4
 },
 "nbformat": 4,
 "nbformat_minor": 2
}
