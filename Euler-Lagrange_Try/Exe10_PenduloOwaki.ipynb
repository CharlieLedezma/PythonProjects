{
 "cells": [
  {
   "cell_type": "code",
   "execution_count": 32,
   "metadata": {},
   "outputs": [],
   "source": [
    "import numpy as np\n",
    "import matplotlib.pyplot as plt\n",
    "from scipy.integrate import odeint\n",
    "import sympy as smp\n",
    "from matplotlib import animation\n",
    "from matplotlib.animation import PillowWriter\n",
    "from IPython.display import Image\n",
    "from sympy.physics.mechanics import dynamicsymbols, init_vprinting\n",
    "import math"
   ]
  },
  {
   "cell_type": "code",
   "execution_count": 33,
   "metadata": {},
   "outputs": [],
   "source": [
    "init_vprinting()"
   ]
  },
  {
   "cell_type": "code",
   "execution_count": 44,
   "metadata": {},
   "outputs": [],
   "source": [
    "t, m_x, m_theta, I, l_g, g, x = smp.symbols('t, m_x, m_theta, I, l_g, g, x')"
   ]
  },
  {
   "cell_type": "code",
   "execution_count": 51,
   "metadata": {},
   "outputs": [],
   "source": [
    "#Generalized Variables\n",
    "#theta_1 = smp.Symbol('theta_1')\n",
    "#theta_2 = smp.Symbol('theta_2')\n",
    "#theta = smp.symbols(r'\\theta', cls=smp.Function)\n",
    "theta = dynamicsymbols('theta')\n",
    "x = dynamicsymbols('x')"
   ]
  },
  {
   "attachments": {},
   "cell_type": "markdown",
   "metadata": {},
   "source": [
    "Generalized coordinates:"
   ]
  },
  {
   "cell_type": "code",
   "execution_count": 55,
   "metadata": {},
   "outputs": [],
   "source": [
    "q1 = theta\n",
    "q2 = x"
   ]
  },
  {
   "attachments": {},
   "cell_type": "markdown",
   "metadata": {},
   "source": [
    "Define $\\theta(t)$ and $\\dot{\\theta}(t)$ and $\\ddot{\\theta}(t)$ and $x(t)$"
   ]
  },
  {
   "cell_type": "code",
   "execution_count": 56,
   "metadata": {},
   "outputs": [],
   "source": [
    "#theta = theta(t)\n",
    "q1_d = smp.diff(q1,t)\n",
    "q1_dd = smp.diff(q1_d,t)\n",
    "#x = x(t)\n",
    "q2_d = smp.diff(q2,t)\n",
    "q2_dd = smp.diff(q2_d,t)"
   ]
  },
  {
   "cell_type": "code",
   "execution_count": 57,
   "metadata": {},
   "outputs": [
    {
     "data": {
      "image/png": "[encoded data removed]",
      "text/latex": [
       "$\\displaystyle \\left( \\theta, \\  \\dot{\\theta}, \\  \\ddot{\\theta}, \\  x, \\  \\dot{x}, \\  \\ddot{x}\\right)$"
      ],
      "text/plain": [
       "(θ, θ̇, θ̈, x, ẋ, ẍ)"
      ]
     },
     "execution_count": 57,
     "metadata": {},
     "output_type": "execute_result"
    }
   ],
   "source": [
    "q1, q1_d, q1_dd, q2, q2_d, q2_dd "
   ]
  },
  {
   "attachments": {},
   "cell_type": "markdown",
   "metadata": {},
   "source": [
    "Define the $x$ and $y$ in function of..."
   ]
  },
  {
   "cell_type": "code",
   "execution_count": 65,
   "metadata": {},
   "outputs": [],
   "source": [
    "x_p = x + l_g*smp.sin(theta)\n",
    "y_p = -(l_g)*smp.cos(theta)"
   ]
  },
  {
   "attachments": {},
   "cell_type": "markdown",
   "metadata": {},
   "source": [
    "Define both kinetic and potential energy:\n",
    "\n",
    "* Kinetic energy $T$ comes from the motion of the two arms\n"
   ]
  },
  {
   "cell_type": "code",
   "execution_count": 66,
   "metadata": {},
   "outputs": [
    {
     "data": {
      "image/png": "[encoded data removed]",
      "text/latex": [
       "$\\displaystyle \\frac{I \\dot{\\theta}^{2}}{2} + \\frac{m_{\\theta} \\left(l_{g}^{2} \\dot{\\theta}^{2} + 2 l_{g} \\cos{\\left(\\theta \\right)} \\dot{\\theta} \\dot{x} + \\dot{x}^{2}\\right)}{2} + \\frac{m_{x} \\dot{x}^{2}}{2}$"
      ],
      "text/plain": [
       "   2          ⎛   2  2                       2⎞       2\n",
       "I⋅θ̇    mₜₕₑₜₐ⋅⎝l_g ⋅θ̇  + 2⋅l_g⋅cos(θ)⋅θ̇⋅ẋ + ẋ ⎠   mₓ⋅ẋ \n",
       "──── + ──────────────────────────────────────── + ─────\n",
       " 2                        2                         2  "
      ]
     },
     "execution_count": 66,
     "metadata": {},
     "output_type": "execute_result"
    }
   ],
   "source": [
    "T1 = smp.Rational(1/2) *( I *smp.diff(theta,t)**2 + m_theta*(smp.diff(x_p,t)**2+smp.diff(y_p,t)**2)) \n",
    "\n",
    "T2 = smp.Rational(1,2) * m_x * smp.diff(x,t)**2 \n",
    "\n",
    "T = T1 + T2\n",
    "T.simplify()\n"
   ]
  },
  {
   "attachments": {},
   "cell_type": "markdown",
   "metadata": {},
   "source": [
    "* Potential energy $V$ comes from the gravitational  energy of the masses $mgy$ "
   ]
  },
  {
   "cell_type": "code",
   "execution_count": 67,
   "metadata": {},
   "outputs": [],
   "source": [
    "V1 = m_theta*g*l_g*smp.cos(theta)\n",
    "V = V1 "
   ]
  },
  {
   "attachments": {},
   "cell_type": "markdown",
   "metadata": {},
   "source": [
    "Now we can look at the Lagrangian"
   ]
  },
  {
   "cell_type": "code",
   "execution_count": 68,
   "metadata": {},
   "outputs": [
    {
     "data": {
      "image/png": "[encoded data removed]",
      "text/latex": [
       "$\\displaystyle \\frac{I \\dot{\\theta}^{2}}{2} - g l_{g} m_{\\theta} \\cos{\\left(\\theta \\right)} + \\frac{m_{\\theta} \\left(l_{g}^{2} \\sin^{2}{\\left(\\theta \\right)} \\dot{\\theta}^{2} + \\left(l_{g} \\cos{\\left(\\theta \\right)} \\dot{\\theta} + \\dot{x}\\right)^{2}\\right)}{2} + \\frac{m_{x} \\dot{x}^{2}}{2}$"
      ],
      "text/plain": [
       "   2                                ⎛   2    2     2                     2⎞   \n",
       "I⋅θ̇                          mₜₕₑₜₐ⋅⎝l_g ⋅sin (θ)⋅θ̇  + (l_g⋅cos(θ)⋅θ̇ + ẋ) \n",
       "──── - g⋅l_g⋅mₜₕₑₜₐ⋅cos(θ) + ────────────────────────────────────────────── + \n",
       " 2                                                 2                          \n",
       "\n",
       "    2\n",
       "⎠   mₓ⋅ẋ \n",
       "─────\n",
       "  2  "
      ]
     },
     "execution_count": 68,
     "metadata": {},
     "output_type": "execute_result"
    }
   ],
   "source": [
    "L = T - V\n",
    "L"
   ]
  },
  {
   "attachments": {},
   "cell_type": "markdown",
   "metadata": {},
   "source": [
    "Get Lagrange's equations\n",
    "\n",
    "$$\\frac{\\partial L}{\\partial \\theta_1} - \\frac{d}{dt}\\frac{\\partial L}{\\partial \\dot{\\theta_1}} = 0$$\n",
    "$$\\frac{\\partial L}{\\partial \\theta_2} - \\frac{d}{dt}\\frac{\\partial L}{\\partial \\dot{\\theta_2}} = 0$$"
   ]
  },
  {
   "cell_type": "code",
   "execution_count": 73,
   "metadata": {},
   "outputs": [
    {
     "data": {
      "image/png": "[encoded data removed]",
      "text/latex": [
       "$\\displaystyle I \\dot{\\theta} + l_{g} m_{\\theta} \\left(l_{g} \\dot{\\theta} + \\cos{\\left(\\theta \\right)} \\dot{x}\\right)$"
      ],
      "text/plain": [
       "I⋅θ̇ + l_g⋅mₜₕₑₜₐ⋅(l_g⋅θ̇ + cos(θ)⋅ẋ)"
      ]
     },
     "execution_count": 73,
     "metadata": {},
     "output_type": "execute_result"
    }
   ],
   "source": [
    "LE_Theta_d = smp.diff(L, q1_d)\n",
    "LE_Theta_d.simplify()"
   ]
  },
  {
   "cell_type": "code",
   "execution_count": 74,
   "metadata": {},
   "outputs": [
    {
     "data": {
      "image/png": "[encoded data removed]",
      "text/latex": [
       "$\\displaystyle l_{g} m_{\\theta} \\left(g - \\dot{\\theta} \\dot{x}\\right) \\sin{\\left(\\theta \\right)}$"
      ],
      "text/plain": [
       "l_g⋅mₜₕₑₜₐ⋅(g - θ̇⋅ẋ)⋅sin(θ)"
      ]
     },
     "execution_count": 74,
     "metadata": {},
     "output_type": "execute_result"
    }
   ],
   "source": [
    "LE_Theta = smp.diff(L, q1)\n",
    "LE_Theta.simplify()"
   ]
  },
  {
   "cell_type": "code",
   "execution_count": 75,
   "metadata": {},
   "outputs": [
    {
     "data": {
      "image/png": "[encoded data removed]",
      "text/latex": [
       "$\\displaystyle m_{\\theta} \\left(l_{g} \\cos{\\left(\\theta \\right)} \\dot{\\theta} + \\dot{x}\\right) + m_{x} \\dot{x}$"
      ],
      "text/plain": [
       "mₜₕₑₜₐ⋅(l_g⋅cos(θ)⋅θ̇ + ẋ) + mₓ⋅ẋ"
      ]
     },
     "execution_count": 75,
     "metadata": {},
     "output_type": "execute_result"
    }
   ],
   "source": [
    "LE_xd = smp.diff(L, q2_d)\n",
    "LE_xd.simplify()"
   ]
  },
  {
   "cell_type": "code",
   "execution_count": 76,
   "metadata": {},
   "outputs": [
    {
     "data": {
      "image/png": "[encoded data removed]",
      "text/latex": [
       "$\\displaystyle 0$"
      ],
      "text/plain": [
       "0"
      ]
     },
     "execution_count": 76,
     "metadata": {},
     "output_type": "execute_result"
    }
   ],
   "source": [
    "LE_x = smp.diff(L, q2)\n",
    "LE_x.simplify()"
   ]
  },
  {
   "cell_type": "code",
   "execution_count": 11,
   "metadata": {},
   "outputs": [],
   "source": [
    "LE1 = smp.diff(L, theta_1) - smp.diff(smp.diff(L, theta_1d), t).simplify()\n",
    "LE2 = smp.diff(L, theta_2) - smp.diff(smp.diff(L, theta_2d), t).simplify()"
   ]
  },
  {
   "attachments": {},
   "cell_type": "markdown",
   "metadata": {},
   "source": [
    "Solve Lagranges equations (this assumes that `LE1` and `LE2` are both equal to zero)\n",
    "\n",
    "* We solve these equations (which are **linear** in $\\ddot{\\theta_1}$ and $\\ddot{\\theta_2}$) for $\\ddot{\\theta_1}$ and $\\ddot{\\theta_2}$."
   ]
  },
  {
   "cell_type": "code",
   "execution_count": 12,
   "metadata": {},
   "outputs": [],
   "source": [
    "sols = smp.solve([LE1, LE2], (theta_1dd , theta_2dd ),\n",
    "                simplify=False, rational=False)"
   ]
  },
  {
   "attachments": {},
   "cell_type": "markdown",
   "metadata": {},
   "source": [
    "Now we have \n",
    "\n",
    "* $\\frac{d^2 \\theta_1}{dt^2} = ...$\n",
    "* $\\frac{d^2 \\theta_2}{dt^2} = ...$\n",
    "\n",
    "These are two second order ODEs! In python we can only solve systems of first order ODEs. Any system of second order ODEs can be converted as follows:\n",
    "\n",
    "1. Define $z_1 = d\\theta_1/dt$ and $z_2=d\\theta_2/dt$\n",
    "2. Then $dz_1/dt = d^2\\theta_1/dt^2$ and $dz_2/dt = d^2\\theta_2/dt^2$\n",
    "\n",
    "Now we get a system of 4 first order ODEs (as opposed to 2 second order ones)\n",
    "\n",
    "* $d z_1/dt = ...$\n",
    "* $d\\theta_1/dt = z_1$\n",
    "* $d z_2/dt = ...$\n",
    "* $d\\theta_2/dt = z_1$\n",
    "\n",
    "We need to convert the **symbolic** expressions above to numerical functions so we can use them in a numerical python solver. For this we use `smp.lambdify`"
   ]
  },
  {
   "cell_type": "code",
   "execution_count": 13,
   "metadata": {},
   "outputs": [],
   "source": [
    "dz1dt_f = smp.lambdify((t,g,m_1, m_2, I_1, I_2, l_1, l_g1, l_g2,theta_1,theta_2,theta_1d,theta_2d), sols[theta_1dd])\n",
    "dz2dt_f = smp.lambdify((t,g,m_1, m_2, I_1, I_2, l_1, l_g1, l_g2,theta_1,theta_2,theta_1d,theta_2d), sols[theta_2dd])\n",
    "dthe1dt_f = smp.lambdify(theta_1d, theta_1d)\n",
    "dthe2dt_f = smp.lambdify(theta_2d, theta_2d)"
   ]
  },
  {
   "attachments": {},
   "cell_type": "markdown",
   "metadata": {},
   "source": [
    "Now define $\\vec{S} = (\\theta_1, z_1, \\theta_2, z_2)$. IF we're going to use an ODE solver in python, we need to write a function that takes in $\\vec{S}$ and $t$ and returns $d\\vec{S}/dt$. In other words, we need to define $d\\vec{S}/dt (\\vec{S}, t)$\n",
    "\n",
    "* Our system of ODEs can be fully specified using $d\\vec{S}/dt$ and depends only on $\\vec{S}$ and $t$"
   ]
  },
  {
   "cell_type": "code",
   "execution_count": 14,
   "metadata": {},
   "outputs": [],
   "source": [
    "def dSdt(S, t, g, m_1, m_2, I_1, I_2, l_1, l_g1, l_g2):\n",
    "    theta_1, z1, theta_2, z2 = S\n",
    "    return [\n",
    "        dthe1dt_f(z1),\n",
    "        dz1dt_f(t,g,m_1, m_2, I_1, I_2, l_1, l_g1, l_g2,theta_1,theta_2,z1,z2),\n",
    "        dthe2dt_f(z2),\n",
    "        dz2dt_f(t,g,m_1, m_2, I_1, I_2, l_1, l_g1, l_g2,theta_1,theta_2,z1,z2),\n",
    "    ]"
   ]
  },
  {
   "attachments": {},
   "cell_type": "markdown",
   "metadata": {},
   "source": [
    "Solve the system of ODEs using scipys `odeint` method"
   ]
  },
  {
   "cell_type": "code",
   "execution_count": 15,
   "metadata": {},
   "outputs": [],
   "source": [
    "t = np.linspace(0, 10, 1001) # s\n",
    "g = 9.81 #m/s^2\n",
    "m_1 = 1.0 # kg\n",
    "m_2 = 1.0 # kg\n",
    "I_1 = 1.0 \n",
    "I_2 = 1.0\n",
    "l_1 = 1.0 # m\n",
    "l_g1 = smp.Rational(1/2)*l_1 # m\n",
    "l_g2 = smp.Rational(1/2)*l_1 # m\n",
    "\n",
    "\n",
    "#y0=[-smp.Rational(1/4)*math.pi, 0.0,-smp.Rational(1/3)*math.pi, 0.0]\n",
    "y0=[0.1*math.pi, 0.0, 0.1*math.pi, 0.0]\n",
    "#ans = odeint(dSdt, y0=[1, -1, -1, 1], t=t, args=(g, k, L0, m1, m2, m3, l1, l2))\n",
    "ans = odeint(dSdt, y0, t=t, args=(g,m_1, m_2, I_1, I_2, l_1, l_g1, l_g2))"
   ]
  },
  {
   "cell_type": "code",
   "execution_count": 18,
   "metadata": {},
   "outputs": [],
   "source": [
    "the1 = ans.T[0]*smp.Rational(180/math.pi)\n",
    "#the1 = ans.T\n",
    "the2 = ans.T[1]*smp.Rational(180/math.pi)"
   ]
  },
  {
   "cell_type": "code",
   "execution_count": 19,
   "metadata": {},
   "outputs": [
    {
     "data": {
      "text/plain": [
       "[<matplotlib.lines.Line2D at 0x7f26c012f250>]"
      ]
     },
     "execution_count": 19,
     "metadata": {},
     "output_type": "execute_result"
    },
    {
     "data": {
      "image/png": "[encoded data removed]",
      "text/plain": [
       "<Figure size 640x480 with 1 Axes>"
      ]
     },
     "metadata": {},
     "output_type": "display_data"
    }
   ],
   "source": [
    "#plt.plot(t, the1,label= r'$\\frac{d\\theta_1}{dt} = \\theta_2 $')\n",
    "plt.plot(t, the1,'b--',label= 'theta1')\n",
    "plt.plot(t, the2)"
   ]
  }
 ],
 "metadata": {
  "kernelspec": {
   "display_name": "Python 3",
   "language": "python",
   "name": "python3"
  },
  "language_info": {
   "codemirror_mode": {
    "name": "ipython",
    "version": 3
   },
   "file_extension": ".py",
   "mimetype": "text/x-python",
   "name": "python",
   "nbconvert_exporter": "python",
   "pygments_lexer": "ipython3",
   "version": "3.10.12"
  },
  "orig_nbformat": 4
 },
 "nbformat": 4,
 "nbformat_minor": 2
}
