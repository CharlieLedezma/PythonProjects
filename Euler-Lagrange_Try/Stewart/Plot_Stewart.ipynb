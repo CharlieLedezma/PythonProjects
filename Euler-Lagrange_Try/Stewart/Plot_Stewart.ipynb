{
 "cells": [
  {
   "cell_type": "code",
   "execution_count": 42,
   "metadata": {},
   "outputs": [],
   "source": [
    "from sympy import *\n",
    "#from sympy.physics.mechanics import dynamicsymbols, kinetic_energy\n",
    "from sympy.physics.mechanics import dynamicsymbols, init_vprinting\n",
    "import matplotlib.pyplot as plt\n",
    "#import seaborn "
   ]
  },
  {
   "cell_type": "code",
   "execution_count": 43,
   "metadata": {},
   "outputs": [],
   "source": [
    "r_B, r_P, gamma_B, gamma_P = 6.2, 5, 0.2269, 0.82\n",
    "phi, theta, psi = symbols ('phi theta psi')"
   ]
  },
  {
   "cell_type": "code",
   "execution_count": 44,
   "metadata": {},
   "outputs": [],
   "source": [
    "c_phi = cos(phi); s_phi = sin(phi)\n",
    "c_theta = cos(theta ); s_theta  = sin(theta )\n",
    "c_psi = cos(psi); s_psi= sin(psi)"
   ]
  },
  {
   "cell_type": "code",
   "execution_count": 78,
   "metadata": {},
   "outputs": [
    {
     "data": {
      "text/latex": [
       "$\\displaystyle \\left[\\begin{matrix}6.04108436354526 & 6.04108436354526 & -1.81266189614963 & -4.22842246739563 & -4.22842246739563 & -1.81266189614963\\\\-1.39474001610656 & 1.39474001610656 & 5.92910253328843 & 4.53436251718186 & -4.53436251718186 & -5.92910253328843\\\\0 & 0 & 0 & 0 & 0 & 0\\end{matrix}\\right]$"
      ],
      "text/plain": [
       "Matrix([\n",
       "[ 6.04108436354526, 6.04108436354526, -1.81266189614963, -4.22842246739563, -4.22842246739563, -1.81266189614963],\n",
       "[-1.39474001610656, 1.39474001610656,  5.92910253328843,  4.53436251718186, -4.53436251718186, -5.92910253328843],\n",
       "[                0,                0,                 0,                 0,                 0,                 0]])"
      ]
     },
     "execution_count": 78,
     "metadata": {},
     "output_type": "execute_result"
    }
   ],
   "source": [
    "## Define the Geometry of the platform\n",
    "# Psi_B (Polar coordinates)\n",
    "psi_B = Matrix([[-gamma_B, \n",
    "    gamma_B,\n",
    "    2*pi/3 - gamma_B, \n",
    "    2*pi/3 + gamma_B, \n",
    "    2*pi/3 + 2*pi/3 - gamma_B, \n",
    "    2*pi/3 + 2*pi/3 + gamma_B]])\n",
    "psi_B.evalf()\n",
    "\n",
    "# psi_P (Polar coordinates)\n",
    "# Direction of the points where the rod is attached to the platform.\n",
    "psi_P = Matrix([[\n",
    "    pi/3 + 2*pi/3 + 2*pi/3 + gamma_P,\n",
    "    pi/3 + -gamma_P, \n",
    "    pi/3 + gamma_P,\n",
    "    pi/3 + 2*pi/3 - gamma_P, \n",
    "    pi/3 + 2*pi/3 + gamma_P, \n",
    "    pi/3 + 2*pi/3 + 2*pi/3 - gamma_P]])\n",
    "psi_P.evalf()\n",
    "\n",
    "# Coordinate of the points where servo arms \n",
    "# are attached to the corresponding servo axis.\n",
    "B = r_B * Matrix( [ \n",
    "    [ cos(psi_B[0]), sin(psi_B[0]), 0],\n",
    "    [ cos(psi_B[1]), sin(psi_B[1]), 0],\n",
    "    [ cos(psi_B[2]), sin(psi_B[2]), 0],\n",
    "    [ cos(psi_B[3]), sin(psi_B[3]), 0],\n",
    "    [ cos(psi_B[4]), sin(psi_B[4]), 0],\n",
    "    [ cos(psi_B[5]), sin(psi_B[5]), 0] ])\n",
    "B = transpose(B).evalf()\n",
    "#B = B.evalf()\n",
    "\n",
    "# Coordinates of the points where the rods \n",
    "# are attached to the platform.\n",
    "P = r_P * Matrix([ \n",
    "    [ cos(psi_P[0]), sin(psi_P[0]), 0],\n",
    "    [ cos(psi_P[1]), sin(psi_P[1]), 0],\n",
    "    [ cos(psi_P[2]), sin(psi_P[2]), 0],\n",
    "    [ cos(psi_P[3]), sin(psi_P[3]), 0],\n",
    "    [ cos(psi_P[4]), sin(psi_P[4]), 0],\n",
    "    [ cos(psi_P[5]), sin(psi_P[5]), 0] ])\n",
    "#P = transpose(P).evalf()\n",
    "P = P.evalf()\n",
    "B\n",
    "#print('6x3 array for Base anchors \\n', B)\n",
    "#print('6x1 array for psi_B \\n', psi_B.evalf())\n",
    "#print('6x3 array for Platform anchors \\n', P)\n",
    "#print('6x1 array for psi_P \\n', psi_P.evalf())"
   ]
  },
  {
   "cell_type": "code",
   "execution_count": 79,
   "metadata": {},
   "outputs": [
    {
     "data": {
      "text/plain": [
       "(3, 6)"
      ]
     },
     "execution_count": 79,
     "metadata": {},
     "output_type": "execute_result"
    }
   ],
   "source": [
    "shape(B)"
   ]
  },
  {
   "cell_type": "code",
   "execution_count": 73,
   "metadata": {},
   "outputs": [],
   "source": [
    "# # Definition of the platform home position.\n",
    "home_pos= Matrix([0, 0, 2*r_B])\n",
    "\n",
    "# Allocate for variables\n",
    "l = Matrix.zeros(3,6)\n",
    "lll = Matrix.zeros(6)\n",
    "# Rotation matrices used later\n",
    "def rotX(phi):\n",
    "    rotx = Matrix([[1, 0, 0],[0, cos(phi),-sin(phi)],[0, sin(phi),cos(phi)]])\n",
    "    return rotx.evalf()\n",
    "\n",
    "def rotY(phi):\n",
    "    roty = Matrix([[cos(phi), 0,sin(phi)],[0, 1, 0],[-sin(phi), 0,cos(phi)]])\n",
    "    return roty.evalf()\n",
    "\n",
    "def rotZ(phi):\n",
    "    rotz = Matrix([[cos(phi),-sin(phi),0],[sin(phi), cos(phi),0],[0, 0, 1]])\n",
    "    return rotz.evalf()"
   ]
  },
  {
   "cell_type": "code",
   "execution_count": 76,
   "metadata": {},
   "outputs": [
    {
     "data": {
      "text/plain": [
       "(3, 6)"
      ]
     },
     "execution_count": 76,
     "metadata": {},
     "output_type": "execute_result"
    }
   ],
   "source": [
    "shape(l)"
   ]
  },
  {
   "cell_type": "code",
   "execution_count": null,
   "metadata": {},
   "outputs": [],
   "source": [
    "import matplotlib.pyplot as plt\n",
    "#import seaborn\n",
    "\n",
    "def plot_2D_annotate(X, Y):\n",
    "    X = list(X)\n",
    "    Y = list(Y)\n",
    "    ax.plot(X,Y, 'or')  # Plot Points\n",
    "    # Annotate Points\n",
    "    for i, (xy) in enumerate(zip(X, Y)):                                 \n",
    "        ax.annotate('Point ' + str(i) + '\\n(%.5s, %.5s)' % xy, xy=xy, textcoords='data')\n",
    "\n",
    "    X.append(X[0])\n",
    "    Y.append(Y[0])\n",
    "    ax.plot(X,Y)    # Plot lines\n",
    "\n",
    "#seaborn.set(style='ticks')\n",
    "# plt.style.use('dark_background')\n",
    "\n",
    "fig = plt.figure(figsize=(14, 6), dpi=80)\n",
    "\n",
    "ax = fig.add_subplot(121)\n",
    "ax.set_title('Base Anchors')\n",
    "plot_2D_annotate(B[0,:], B[1,:])\n",
    "circle_B = plt.Circle((0, 0), r_B, color='g', fill=False)\n",
    "ax.add_patch(circle_B)\n",
    "\n",
    "ax = fig.add_subplot(122)\n",
    "ax.set_title('Platform Anchors')\n",
    "plot_2D_annotate(P[0,:], P[1,:])\n",
    "circle_r = plt.Circle((0, 0), r_P, color='g', fill=False)\n",
    "ax.add_patch(circle_r)\n",
    "\n",
    "plt.show()"
   ]
  },
  {
   "cell_type": "code",
   "execution_count": 41,
   "metadata": {},
   "outputs": [
    {
     "data": {
      "text/latex": [
       "$\\displaystyle \\left[\\begin{matrix}4.87150733029175 & -1.12623990824057 & 0\\\\4.87150733029175 & 1.12623990824057 & 0\\\\-1.46040129385368 & 4.78196905687505 & 0\\\\-3.41110603643807 & 3.65572914863448 & 0\\\\-3.41110603643807 & -3.65572914863448 & 0\\\\-1.46040129385368 & -4.78196905687505 & 0\\end{matrix}\\right]$"
      ],
      "text/plain": [
       "Matrix([\n",
       "[ 4.87150733029175, -1.12623990824057, 0],\n",
       "[ 4.87150733029175,  1.12623990824057, 0],\n",
       "[-1.46040129385368,  4.78196905687505, 0],\n",
       "[-3.41110603643807,  3.65572914863448, 0],\n",
       "[-3.41110603643807, -3.65572914863448, 0],\n",
       "[-1.46040129385368, -4.78196905687505, 0]])"
      ]
     },
     "execution_count": 41,
     "metadata": {},
     "output_type": "execute_result"
    }
   ],
   "source": [
    "# Given input trans, rotation\n",
    "#trans = Transpose(Matrix([0,0,0])) # X, Y, Z\n",
    "trans = Matrix([0,0,0]) # X, Y, Z\n",
    "#rotation = Transpose(Matrix([0,0,pi/6])) # X, Y, Z\n",
    "rotation = Matrix([0,0,pi/6]) # X, Y, Z\n",
    "\n",
    "R = rotX(rotation[0])*rotY(rotation[1])*rotZ(rotation[2])\n",
    "\n",
    "# Get rotation matrix of platform. RotZ* RotY * RotX -> matmul\n",
    "# R = np.matmul( np.matmul(rotZ(rotation[2]), rotY(rotation[1])), rotX(rotation[0]) )\n",
    "#R = np.matmul( np.matmul(rotX(rotation[0]), rotY(rotation[1])), rotZ(rotation[2]) )\n",
    "\n",
    "# Get leg length for each leg\n",
    "# leg = np.repeat(trans[:, np.newaxis], 6, axis=1) + np.repeat(home_pos[:, np.newaxis], 6, axis=1) + np.matmul(np.transpose(R), P) - B \n",
    "\n",
    "##l = np.repeat(trans[:, np.newaxis], 6, axis=1) + np.repeat(home_pos[:, np.newaxis], 6, axis=1) + np.matmul(R, P) - B \n",
    "#l = trans + home_pos + (P.cross(R)) - B\n",
    "#l = trans + home_pos + (P.cross(R)) - B\n",
    "##lll = np.linalg.norm(l, axis=0)\n",
    "P.evalf()\n",
    "# Position of leg in global frame\n",
    "##L = l + B\n",
    "\n",
    "##print('Leg lengths to command in order to achieve desired position of plate: \\n', lll)"
   ]
  },
  {
   "cell_type": "code",
   "execution_count": null,
   "metadata": {},
   "outputs": [],
   "source": [
    "from mpl_toolkits.mplot3d.art3d import Poly3DCollection\n",
    "\n",
    "def plot3D_line(ax, vec_arr_origin, vec_arr_dest, color_):\n",
    "    for i in range(6):\n",
    "        ax.plot([vec_arr_origin[0, i] , vec_arr_dest[0, i]],\n",
    "        [vec_arr_origin[1, i], vec_arr_dest[1, i]],\n",
    "        [vec_arr_origin[2, i],vec_arr_dest[2, i]],\n",
    "        color=color_)\n",
    "\n",
    "#interactive plotting in separate window\n",
    "# Comment out this and restart kernel if you're having issues with interactive plot (qt)\n",
    "# %matplotlib qt\n",
    "\n",
    "ax = plt.axes(projection='3d') # Data for a three-dimensional line\n",
    "ax.set_xlim3d(-10, 10)\n",
    "ax.set_ylim3d(-10, 10)\n",
    "ax.set_zlim3d(0, 20)\n",
    "\n",
    "# ax.add_collection3d(Poly3DCollection([list(np.transpose(s.B))]), zs='z')\n",
    "ax.add_collection3d(Poly3DCollection([list(Transpose(B))], facecolors='green', alpha=0.25))\n",
    "\n",
    "# ax.add_collection3d(base_plot, zs='z')\n",
    "ax.add_collection3d(Poly3DCollection([list(Transpose(L))], facecolors='blue', alpha=0.25))\n",
    "\n",
    "plot3D_line(ax, B, L, 'orange')\n",
    "plt.show()"
   ]
  }
 ],
 "metadata": {
  "kernelspec": {
   "display_name": "Python 3",
   "language": "python",
   "name": "python3"
  },
  "language_info": {
   "codemirror_mode": {
    "name": "ipython",
    "version": 3
   },
   "file_extension": ".py",
   "mimetype": "text/x-python",
   "name": "python",
   "nbconvert_exporter": "python",
   "pygments_lexer": "ipython3",
   "version": "3.10.12"
  },
  "orig_nbformat": 4
 },
 "nbformat": 4,
 "nbformat_minor": 2
}
